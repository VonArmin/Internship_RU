{
 "cells": [
  {
   "cell_type": "code",
   "execution_count": 8,
   "metadata": {},
   "outputs": [],
   "source": [
    "import os\n",
    "import pandas as pd\n",
    "import numpy as np\n",
    "import matplotlib.pyplot as plt\n",
    "import glob\n",
    "import pickle"
   ]
  },
  {
   "cell_type": "code",
   "execution_count": 9,
   "metadata": {},
   "outputs": [],
   "source": [
    "import sys\n",
    "sys.path.append('../../')"
   ]
  },
  {
   "cell_type": "code",
   "execution_count": 10,
   "metadata": {},
   "outputs": [],
   "source": [
    "from src.actmat_postprocess import *"
   ]
  },
  {
   "cell_type": "markdown",
   "metadata": {},
   "source": [
    "### Change the path"
   ]
  },
  {
   "cell_type": "code",
   "execution_count": 30,
   "metadata": {},
   "outputs": [],
   "source": [
    "path = \"/media/irene/Data/Rat_OS_EPhys_RGS14_Cell_Assembly/Rat6_SD4_OD\"\n",
    "project_name = 'RGS_PROJECT'\n",
    "condition = 'OD'\n",
    "study_day = 'SD4'\n",
    "rat_nr = 'Rn6'\n",
    "RGS14_or_Veh = \"pyramidal_neurons_vehicle.txt\"\n",
    "os.chdir(path)"
   ]
  },
  {
   "cell_type": "code",
   "execution_count": 31,
   "metadata": {},
   "outputs": [],
   "source": [
    "load_dict = load_data();\n",
    "# load_dict"
   ]
  },
  {
   "cell_type": "code",
   "execution_count": 32,
   "metadata": {},
   "outputs": [],
   "source": [
    "actmat_dict, neuron_name_dict = clean_actmat(load_dict)"
   ]
  },
  {
   "cell_type": "code",
   "execution_count": null,
   "metadata": {},
   "outputs": [],
   "source": []
  },
  {
   "cell_type": "markdown",
   "metadata": {},
   "source": [
    "##### Only if the name is incorrect, uncomment the code below:\n",
    "aim to get: RGS_PROJECT_RGS14_PFC_Rn4_OD_SD5_T6_UID8"
   ]
  },
  {
   "cell_type": "code",
   "execution_count": 33,
   "metadata": {
    "scrolled": true
   },
   "outputs": [
    {
     "data": {
      "text/plain": [
       "{0: 'RGS_PROJECT_RGS14_OD_Rn6_SD4_T11_UID7',\n",
       " 1: 'RGS_PROJECT_RGS14_OD_Rn6_SD4_T11_UID19',\n",
       " 2: 'RGS_PROJECT_RGS14_OD_Rn6_SD4_T11_UID27',\n",
       " 3: 'RGS_PROJECT_RGS14_OD_Rn6_SD4_T11_UID35',\n",
       " 4: 'RGS_PROJECT_RGS14_OD_Rn6_SD4_T11_UID63',\n",
       " 5: 'RGS_PROJECT_RGS14_OD_Rn6_SD4_T13_UID2',\n",
       " 6: 'RGS_PROJECT_RGS14_OD_Rn6_SD4_T13_UID25',\n",
       " 7: 'RGS_PROJECT_RGS14_OD_Rn6_SD4_T13_UID44'}"
      ]
     },
     "execution_count": 33,
     "metadata": {},
     "output_type": "execute_result"
    }
   ],
   "source": [
    "neuron_name_dict"
   ]
  },
  {
   "cell_type": "code",
   "execution_count": 34,
   "metadata": {},
   "outputs": [],
   "source": [
    "for key, value in neuron_name_dict.items():\n",
    "#     print(value)\n",
    "    name_list = value.split('_')\n",
    "    Rat = name_list[4]\n",
    "    SD = name_list[5]\n",
    "    condition = name_list[3]\n",
    "    T_number = name_list[6]\n",
    "    UID_number = name_list[7]\n",
    "    new_name = \"RGS_PROJECT_RGS14_PFC_\" + Rat + \"_\" + condition + \"_\"+ SD +\"_\" + T_number + \"_\" + 'UID' + UID_number\n",
    "    neuron_name_dict[key] = new_name\n",
    "#     print(new_name)"
   ]
  },
  {
   "cell_type": "code",
   "execution_count": 35,
   "metadata": {
    "scrolled": true
   },
   "outputs": [
    {
     "data": {
      "text/plain": [
       "{0: 'RGS_PROJECT_RGS14_PFC_Rn6_OD_SD4_T11_UIDUID7',\n",
       " 1: 'RGS_PROJECT_RGS14_PFC_Rn6_OD_SD4_T11_UIDUID19',\n",
       " 2: 'RGS_PROJECT_RGS14_PFC_Rn6_OD_SD4_T11_UIDUID27',\n",
       " 3: 'RGS_PROJECT_RGS14_PFC_Rn6_OD_SD4_T11_UIDUID35',\n",
       " 4: 'RGS_PROJECT_RGS14_PFC_Rn6_OD_SD4_T11_UIDUID63',\n",
       " 5: 'RGS_PROJECT_RGS14_PFC_Rn6_OD_SD4_T13_UIDUID2',\n",
       " 6: 'RGS_PROJECT_RGS14_PFC_Rn6_OD_SD4_T13_UIDUID25',\n",
       " 7: 'RGS_PROJECT_RGS14_PFC_Rn6_OD_SD4_T13_UIDUID44'}"
      ]
     },
     "execution_count": 35,
     "metadata": {},
     "output_type": "execute_result"
    }
   ],
   "source": [
    "neuron_name_dict"
   ]
  },
  {
   "cell_type": "markdown",
   "metadata": {},
   "source": [
    "### Only leave pyramidal neuron"
   ]
  },
  {
   "cell_type": "code",
   "execution_count": 36,
   "metadata": {},
   "outputs": [],
   "source": [
    "path_pyramidal_neuron = \"/home/irene/Desktop/CellAssembly/get_pyramid\"\n",
    "os.chdir(path_pyramidal_neuron)\n",
    "pyramidal_neurons_RGS14, pyramidal_neuron_all = get_interneurons_list(RGS14_or_Veh, \n",
    "                                                                   project_name, condition, study_day, rat_nr)"
   ]
  },
  {
   "cell_type": "code",
   "execution_count": 37,
   "metadata": {},
   "outputs": [],
   "source": [
    "os.chdir(path)"
   ]
  },
  {
   "cell_type": "code",
   "execution_count": 38,
   "metadata": {},
   "outputs": [
    {
     "name": "stdout",
     "output_type": "stream",
     "text": [
      "[]\n"
     ]
    },
    {
     "ename": "IndexError",
     "evalue": "arrays used as indices must be of integer (or boolean) type",
     "output_type": "error",
     "traceback": [
      "\u001b[0;31m---------------------------------------------------------------------------\u001b[0m",
      "\u001b[0;31mIndexError\u001b[0m                                Traceback (most recent call last)",
      "\u001b[0;32m<ipython-input-38-b773164ec23d>\u001b[0m in \u001b[0;36m<module>\u001b[0;34m\u001b[0m\n\u001b[1;32m      1\u001b[0m \u001b[0mneuron_index_list\u001b[0m \u001b[0;34m=\u001b[0m \u001b[0mfind_index_neurons\u001b[0m\u001b[0;34m(\u001b[0m\u001b[0mpyramidal_neurons_RGS14\u001b[0m\u001b[0;34m,\u001b[0m \u001b[0mneuron_name_dict\u001b[0m\u001b[0;34m)\u001b[0m\u001b[0;34m\u001b[0m\u001b[0;34m\u001b[0m\u001b[0m\n\u001b[1;32m      2\u001b[0m \u001b[0mprint\u001b[0m\u001b[0;34m(\u001b[0m\u001b[0mneuron_index_list\u001b[0m\u001b[0;34m)\u001b[0m\u001b[0;34m\u001b[0m\u001b[0;34m\u001b[0m\u001b[0m\n\u001b[0;32m----> 3\u001b[0;31m \u001b[0mactmat_dict_new\u001b[0m\u001b[0;34m,\u001b[0m \u001b[0mneuron_name_dict_new\u001b[0m \u001b[0;34m=\u001b[0m \u001b[0mget_pyramid_neuron\u001b[0m\u001b[0;34m(\u001b[0m\u001b[0mneuron_index_list\u001b[0m\u001b[0;34m,\u001b[0m \u001b[0mneuron_name_dict\u001b[0m\u001b[0;34m,\u001b[0m \u001b[0mactmat_dict\u001b[0m\u001b[0;34m)\u001b[0m\u001b[0;34m\u001b[0m\u001b[0;34m\u001b[0m\u001b[0m\n\u001b[0m",
      "\u001b[0;32m~/Desktop/CellAssembly/script/actmat_postprocess/../../src/actmat_postprocess.py\u001b[0m in \u001b[0;36mget_pyramid_neuron\u001b[0;34m(pyramidal_index_list, neuron_name_dict, actmat_dict)\u001b[0m\n\u001b[1;32m     99\u001b[0m     \u001b[0;32mfor\u001b[0m \u001b[0mkey\u001b[0m\u001b[0;34m,\u001b[0m \u001b[0mactmat\u001b[0m \u001b[0;32min\u001b[0m \u001b[0mactmat_dict\u001b[0m\u001b[0;34m.\u001b[0m\u001b[0mitems\u001b[0m\u001b[0;34m(\u001b[0m\u001b[0;34m)\u001b[0m\u001b[0;34m:\u001b[0m\u001b[0;34m\u001b[0m\u001b[0;34m\u001b[0m\u001b[0m\n\u001b[1;32m    100\u001b[0m         \u001b[0mpyramidal_index_list\u001b[0m \u001b[0;34m=\u001b[0m \u001b[0mnp\u001b[0m\u001b[0;34m.\u001b[0m\u001b[0marray\u001b[0m\u001b[0;34m(\u001b[0m\u001b[0mpyramidal_index_list\u001b[0m\u001b[0;34m)\u001b[0m\u001b[0;34m\u001b[0m\u001b[0;34m\u001b[0m\u001b[0m\n\u001b[0;32m--> 101\u001b[0;31m         \u001b[0mactmat_new\u001b[0m \u001b[0;34m=\u001b[0m \u001b[0mactmat\u001b[0m\u001b[0;34m[\u001b[0m\u001b[0mpyramidal_index_list\u001b[0m\u001b[0;34m]\u001b[0m\u001b[0;34m\u001b[0m\u001b[0;34m\u001b[0m\u001b[0m\n\u001b[0m\u001b[1;32m    102\u001b[0m         \u001b[0mload_dict\u001b[0m\u001b[0;34m[\u001b[0m\u001b[0mkey\u001b[0m\u001b[0;34m]\u001b[0m \u001b[0;34m=\u001b[0m \u001b[0mactmat_new\u001b[0m\u001b[0;34m\u001b[0m\u001b[0;34m\u001b[0m\u001b[0m\n\u001b[1;32m    103\u001b[0m \u001b[0;34m\u001b[0m\u001b[0m\n",
      "\u001b[0;31mIndexError\u001b[0m: arrays used as indices must be of integer (or boolean) type"
     ]
    }
   ],
   "source": [
    "neuron_index_list = find_index_neurons(pyramidal_neurons_RGS14, neuron_name_dict)\n",
    "print(neuron_index_list)\n",
    "actmat_dict_new, neuron_name_dict_new = get_pyramid_neuron(neuron_index_list, neuron_name_dict, actmat_dict)"
   ]
  },
  {
   "cell_type": "code",
   "execution_count": 13,
   "metadata": {},
   "outputs": [
    {
     "name": "stdout",
     "output_type": "stream",
     "text": [
      "{0: 'RGS_PROJECT_RGS14_PFC_Rn3_HC_SD14_T6_UID0', 1: 'RGS_PROJECT_RGS14_PFC_Rn3_HC_SD14_T6_UID1', 2: 'RGS_PROJECT_RGS14_PFC_Rn3_HC_SD14_T6_UID2', 3: 'RGS_PROJECT_RGS14_PFC_Rn3_HC_SD14_T6_UID3', 4: 'RGS_PROJECT_RGS14_PFC_Rn3_HC_SD14_T7_UID0', 5: 'RGS_PROJECT_RGS14_PFC_Rn3_HC_SD14_T7_UID1', 6: 'RGS_PROJECT_RGS14_PFC_Rn3_HC_SD14_T7_UID3', 7: 'RGS_PROJECT_RGS14_PFC_Rn3_HC_SD14_T8_UID2', 8: 'RGS_PROJECT_RGS14_PFC_Rn3_HC_SD14_T8_UID4', 9: 'RGS_PROJECT_RGS14_PFC_Rn3_HC_SD14_T9_UID2', 10: 'RGS_PROJECT_RGS14_PFC_Rn3_HC_SD14_T9_UID3', 11: 'RGS_PROJECT_RGS14_PFC_Rn3_HC_SD14_T9_UID5', 12: 'RGS_PROJECT_RGS14_PFC_Rn3_HC_SD14_T9_UID6', 13: 'RGS_PROJECT_RGS14_PFC_Rn3_HC_SD14_T9_UID7', 14: 'RGS_PROJECT_RGS14_PFC_Rn3_HC_SD14_T9_UID8', 15: 'RGS_PROJECT_RGS14_PFC_Rn3_HC_SD14_T9_UID13', 16: 'RGS_PROJECT_RGS14_PFC_Rn3_HC_SD14_T9_UID17', 17: 'RGS_PROJECT_RGS14_PFC_Rn3_HC_SD14_T9_UID21', 18: 'RGS_PROJECT_RGS14_PFC_Rn3_HC_SD14_T9_UID26', 19: 'RGS_PROJECT_RGS14_PFC_Rn3_HC_SD14_T11_UID0', 20: 'RGS_PROJECT_RGS14_PFC_Rn3_HC_SD14_T11_UID2', 21: 'RGS_PROJECT_RGS14_PFC_Rn3_HC_SD14_T11_UID4', 22: 'RGS_PROJECT_RGS14_PFC_Rn3_HC_SD14_T11_UID6', 23: 'RGS_PROJECT_RGS14_PFC_Rn3_HC_SD14_T11_UID7', 24: 'RGS_PROJECT_RGS14_PFC_Rn3_HC_SD14_T11_UID9', 25: 'RGS_PROJECT_RGS14_PFC_Rn3_HC_SD14_T11_UID15', 26: 'RGS_PROJECT_RGS14_PFC_Rn3_HC_SD14_T11_UID17', 27: 'RGS_PROJECT_RGS14_PFC_Rn3_HC_SD14_T11_UID23', 28: 'RGS_PROJECT_RGS14_PFC_Rn3_HC_SD14_T11_UID24', 29: 'RGS_PROJECT_RGS14_PFC_Rn3_HC_SD14_T11_UID25', 30: 'RGS_PROJECT_RGS14_PFC_Rn3_HC_SD14_T12_UID0', 31: 'RGS_PROJECT_RGS14_PFC_Rn3_HC_SD14_T12_UID2', 32: 'RGS_PROJECT_RGS14_PFC_Rn3_HC_SD14_T12_UID3', 33: 'RGS_PROJECT_RGS14_PFC_Rn3_HC_SD14_T12_UID15', 34: 'RGS_PROJECT_RGS14_PFC_Rn3_HC_SD14_T13_UID6', 35: 'RGS_PROJECT_RGS14_PFC_Rn3_HC_SD14_T14_UID4', 36: 'RGS_PROJECT_RGS14_PFC_Rn3_HC_SD14_T14_UID8'}\n"
     ]
    }
   ],
   "source": [
    "# assert len(actmat_dict_new['Post_Trial1']) == len(neuron_name_dict_new)\n",
    "# print(neuron_name_dict_new)"
   ]
  },
  {
   "cell_type": "code",
   "execution_count": null,
   "metadata": {},
   "outputs": [],
   "source": []
  },
  {
   "cell_type": "code",
   "execution_count": null,
   "metadata": {},
   "outputs": [],
   "source": []
  },
  {
   "cell_type": "markdown",
   "metadata": {},
   "source": [
    "### The file will saved in the path previously defined"
   ]
  },
  {
   "cell_type": "code",
   "execution_count": 22,
   "metadata": {},
   "outputs": [],
   "source": [
    "act_mat_file = open(\"actmat_dict.pkl\", \"wb\")\n",
    "pickle.dump(actmat_dict, act_mat_file)                     \n",
    "act_mat_file.close()\n",
    "\n",
    "neuron_name_file = open(\"neuron_name_dict.pkl\", \"wb\")\n",
    "pickle.dump(neuron_name_dict, neuron_name_file)\n",
    "neuron_name_file.close()"
   ]
  },
  {
   "cell_type": "code",
   "execution_count": null,
   "metadata": {},
   "outputs": [],
   "source": []
  },
  {
   "cell_type": "code",
   "execution_count": null,
   "metadata": {},
   "outputs": [],
   "source": []
  }
 ],
 "metadata": {
  "kernelspec": {
   "display_name": "Python 3",
   "language": "python",
   "name": "python3"
  },
  "language_info": {
   "codemirror_mode": {
    "name": "ipython",
    "version": 3
   },
   "file_extension": ".py",
   "mimetype": "text/x-python",
   "name": "python",
   "nbconvert_exporter": "python",
   "pygments_lexer": "ipython3",
   "version": "3.8.10"
  }
 },
 "nbformat": 4,
 "nbformat_minor": 4
}
