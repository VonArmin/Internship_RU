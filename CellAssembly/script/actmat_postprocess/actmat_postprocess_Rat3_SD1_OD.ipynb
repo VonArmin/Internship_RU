{
 "cells": [
  {
   "cell_type": "code",
   "execution_count": 1,
   "metadata": {},
   "outputs": [],
   "source": [
    "import os\n",
    "import pandas as pd\n",
    "import numpy as np\n",
    "import matplotlib.pyplot as plt\n",
    "import glob\n",
    "import pickle"
   ]
  },
  {
   "cell_type": "code",
   "execution_count": 2,
   "metadata": {},
   "outputs": [],
   "source": [
    "import sys\n",
    "sys.path.append('../../')"
   ]
  },
  {
   "cell_type": "code",
   "execution_count": 3,
   "metadata": {},
   "outputs": [],
   "source": [
    "from src.actmat_postprocess import *"
   ]
  },
  {
   "cell_type": "markdown",
   "metadata": {},
   "source": [
    "### Change the path"
   ]
  },
  {
   "cell_type": "code",
   "execution_count": 4,
   "metadata": {},
   "outputs": [],
   "source": [
    "path = \"D:\\Internship_Radbound\\Cell_Assembly\\Process_data\\Rat3_SD1_OD\"\n",
    "project_name = 'RGS_PROJECT'\n",
    "condition = 'OD'\n",
    "study_day = 'SD1'\n",
    "rat_nr = 'Rn3'\n",
    "RGS14_or_Veh = \"pyramidal_neurons_RGS14.txt\"\n",
    "os.chdir(path)"
   ]
  },
  {
   "cell_type": "code",
   "execution_count": 5,
   "metadata": {},
   "outputs": [],
   "source": [
    "load_dict = load_data();\n",
    "# load_dict"
   ]
  },
  {
   "cell_type": "code",
   "execution_count": 6,
   "metadata": {},
   "outputs": [],
   "source": [
    "actmat_dict, neuron_name_dict = clean_actmat(load_dict)"
   ]
  },
  {
   "cell_type": "markdown",
   "metadata": {},
   "source": [
    "##### Only if the name is incorrect, uncomment the code below:\n",
    "aim to get: RGS_PROJECT_RGS14_PFC_Rn4_OD_SD5_T6_UID8"
   ]
  },
  {
   "cell_type": "code",
   "execution_count": 7,
   "metadata": {},
   "outputs": [
    {
     "data": {
      "text/plain": [
       "{0: 'RGS_PROJECT_RGS14_OD_Rn3_SD1_T6_UID0',\n",
       " 1: 'RGS_PROJECT_RGS14_OD_Rn3_SD1_T8_UID2',\n",
       " 2: 'RGS_PROJECT_RGS14_OD_Rn3_SD1_T8_UID5',\n",
       " 3: 'RGS_PROJECT_RGS14_OD_Rn3_SD1_T9_UID0',\n",
       " 4: 'RGS_PROJECT_RGS14_OD_Rn3_SD1_T9_UID2',\n",
       " 5: 'RGS_PROJECT_RGS14_OD_Rn3_SD1_T9_UID4',\n",
       " 6: 'RGS_PROJECT_RGS14_OD_Rn3_SD1_T9_UID53',\n",
       " 7: 'RGS_PROJECT_RGS14_OD_Rn3_SD1_T9_UID61',\n",
       " 8: 'RGS_PROJECT_RGS14_OD_Rn3_SD1_T9_UID65',\n",
       " 9: 'RGS_PROJECT_RGS14_OD_Rn3_SD1_T10_UID2',\n",
       " 10: 'RGS_PROJECT_RGS14_OD_Rn3_SD1_T10_UID3',\n",
       " 11: 'RGS_PROJECT_RGS14_OD_Rn3_SD1_T10_UID6',\n",
       " 12: 'RGS_PROJECT_RGS14_OD_Rn3_SD1_T10_UID7',\n",
       " 13: 'RGS_PROJECT_RGS14_OD_Rn3_SD1_T10_UID15',\n",
       " 14: 'RGS_PROJECT_RGS14_OD_Rn3_SD1_T10_UID33',\n",
       " 15: 'RGS_PROJECT_RGS14_OD_Rn3_SD1_T10_UID37',\n",
       " 16: 'RGS_PROJECT_RGS14_OD_Rn3_SD1_T12_UID1',\n",
       " 17: 'RGS_PROJECT_RGS14_OD_Rn3_SD1_T12_UID3',\n",
       " 18: 'RGS_PROJECT_RGS14_OD_Rn3_SD1_T12_UID4',\n",
       " 19: 'RGS_PROJECT_RGS14_OD_Rn3_SD1_T12_UID5',\n",
       " 20: 'RGS_PROJECT_RGS14_OD_Rn3_SD1_T12_UID8',\n",
       " 21: 'RGS_PROJECT_RGS14_OD_Rn3_SD1_T12_UID20',\n",
       " 22: 'RGS_PROJECT_RGS14_OD_Rn3_SD1_T12_UID24',\n",
       " 23: 'RGS_PROJECT_RGS14_OD_Rn3_SD1_T13_UID0',\n",
       " 24: 'RGS_PROJECT_RGS14_OD_Rn3_SD1_T13_UID2',\n",
       " 25: 'RGS_PROJECT_RGS14_OD_Rn3_SD1_T13_UID3',\n",
       " 26: 'RGS_PROJECT_RGS14_OD_Rn3_SD1_T13_UID4',\n",
       " 27: 'RGS_PROJECT_RGS14_OD_Rn3_SD1_T15_UID25',\n",
       " 28: 'RGS_PROJECT_RGS14_OD_Rn3_SD1_T15_UID29',\n",
       " 29: 'RGS_PROJECT_RGS14_OD_Rn3_SD1_T15_UID47',\n",
       " 30: 'RGS_PROJECT_RGS14_OD_Rn3_SD1_T15_UID51'}"
      ]
     },
     "execution_count": 7,
     "metadata": {},
     "output_type": "execute_result"
    }
   ],
   "source": [
    "neuron_name_dict"
   ]
  },
  {
   "cell_type": "code",
   "execution_count": 8,
   "metadata": {},
   "outputs": [],
   "source": [
    "for key, value in neuron_name_dict.items():\n",
    "#     print(value)\n",
    "    name_list = value.split('_')\n",
    "    Rat = name_list[4]\n",
    "    SD = name_list[5]\n",
    "    condition = name_list[3]\n",
    "    T_number = name_list[6]\n",
    "    UID_number = name_list[7]\n",
    "    new_name = \"RGS_PROJECT_RGS14_PFC_\" + Rat + \"_\" + condition + \"_\"+ SD +\"_\" + T_number + \"_\" + UID_number\n",
    "    neuron_name_dict[key] = new_name\n",
    "#     print(new_name)"
   ]
  },
  {
   "cell_type": "code",
   "execution_count": 9,
   "metadata": {
    "scrolled": true
   },
   "outputs": [
    {
     "data": {
      "text/plain": [
       "{0: 'RGS_PROJECT_RGS14_PFC_Rn3_OD_SD1_T6_UID0',\n",
       " 1: 'RGS_PROJECT_RGS14_PFC_Rn3_OD_SD1_T8_UID2',\n",
       " 2: 'RGS_PROJECT_RGS14_PFC_Rn3_OD_SD1_T8_UID5',\n",
       " 3: 'RGS_PROJECT_RGS14_PFC_Rn3_OD_SD1_T9_UID0',\n",
       " 4: 'RGS_PROJECT_RGS14_PFC_Rn3_OD_SD1_T9_UID2',\n",
       " 5: 'RGS_PROJECT_RGS14_PFC_Rn3_OD_SD1_T9_UID4',\n",
       " 6: 'RGS_PROJECT_RGS14_PFC_Rn3_OD_SD1_T9_UID53',\n",
       " 7: 'RGS_PROJECT_RGS14_PFC_Rn3_OD_SD1_T9_UID61',\n",
       " 8: 'RGS_PROJECT_RGS14_PFC_Rn3_OD_SD1_T9_UID65',\n",
       " 9: 'RGS_PROJECT_RGS14_PFC_Rn3_OD_SD1_T10_UID2',\n",
       " 10: 'RGS_PROJECT_RGS14_PFC_Rn3_OD_SD1_T10_UID3',\n",
       " 11: 'RGS_PROJECT_RGS14_PFC_Rn3_OD_SD1_T10_UID6',\n",
       " 12: 'RGS_PROJECT_RGS14_PFC_Rn3_OD_SD1_T10_UID7',\n",
       " 13: 'RGS_PROJECT_RGS14_PFC_Rn3_OD_SD1_T10_UID15',\n",
       " 14: 'RGS_PROJECT_RGS14_PFC_Rn3_OD_SD1_T10_UID33',\n",
       " 15: 'RGS_PROJECT_RGS14_PFC_Rn3_OD_SD1_T10_UID37',\n",
       " 16: 'RGS_PROJECT_RGS14_PFC_Rn3_OD_SD1_T12_UID1',\n",
       " 17: 'RGS_PROJECT_RGS14_PFC_Rn3_OD_SD1_T12_UID3',\n",
       " 18: 'RGS_PROJECT_RGS14_PFC_Rn3_OD_SD1_T12_UID4',\n",
       " 19: 'RGS_PROJECT_RGS14_PFC_Rn3_OD_SD1_T12_UID5',\n",
       " 20: 'RGS_PROJECT_RGS14_PFC_Rn3_OD_SD1_T12_UID8',\n",
       " 21: 'RGS_PROJECT_RGS14_PFC_Rn3_OD_SD1_T12_UID20',\n",
       " 22: 'RGS_PROJECT_RGS14_PFC_Rn3_OD_SD1_T12_UID24',\n",
       " 23: 'RGS_PROJECT_RGS14_PFC_Rn3_OD_SD1_T13_UID0',\n",
       " 24: 'RGS_PROJECT_RGS14_PFC_Rn3_OD_SD1_T13_UID2',\n",
       " 25: 'RGS_PROJECT_RGS14_PFC_Rn3_OD_SD1_T13_UID3',\n",
       " 26: 'RGS_PROJECT_RGS14_PFC_Rn3_OD_SD1_T13_UID4',\n",
       " 27: 'RGS_PROJECT_RGS14_PFC_Rn3_OD_SD1_T15_UID25',\n",
       " 28: 'RGS_PROJECT_RGS14_PFC_Rn3_OD_SD1_T15_UID29',\n",
       " 29: 'RGS_PROJECT_RGS14_PFC_Rn3_OD_SD1_T15_UID47',\n",
       " 30: 'RGS_PROJECT_RGS14_PFC_Rn3_OD_SD1_T15_UID51'}"
      ]
     },
     "execution_count": 9,
     "metadata": {},
     "output_type": "execute_result"
    }
   ],
   "source": [
    "neuron_name_dict"
   ]
  },
  {
   "cell_type": "markdown",
   "metadata": {},
   "source": [
    "### Only leave pyramidal neuron"
   ]
  },
  {
   "cell_type": "code",
   "execution_count": 14,
   "metadata": {},
   "outputs": [],
   "source": [
    "path_pyramidal_neuron = \"D:\\Internship_Radbound\\Cell_Assembly\\GenzelLab_cell_assembly\\get_pyramid\"\n",
    "os.chdir(path_pyramidal_neuron)\n",
    "pyramidal_neurons_RGS14, pyramidal_neuron_all = get_interneurons_list(RGS14_or_Veh, \n",
    "                                                                   project_name, condition, study_day, rat_nr)"
   ]
  },
  {
   "cell_type": "code",
   "execution_count": 15,
   "metadata": {},
   "outputs": [],
   "source": [
    "os.chdir(path)"
   ]
  },
  {
   "cell_type": "code",
   "execution_count": 16,
   "metadata": {},
   "outputs": [],
   "source": [
    "neuron_index_list = find_index_neurons(pyramidal_neurons_RGS14, neuron_name_dict)\n",
    "actmat_dict_new, neuron_name_dict_new = get_pyramid_neuron(neuron_index_list, neuron_name_dict, actmat_dict)"
   ]
  },
  {
   "cell_type": "code",
   "execution_count": 18,
   "metadata": {},
   "outputs": [
    {
     "name": "stdout",
     "output_type": "stream",
     "text": [
      "{0: 'RGS_PROJECT_RGS14_PFC_Rn3_OD_SD1_T6_UID0', 1: 'RGS_PROJECT_RGS14_PFC_Rn3_OD_SD1_T8_UID2', 2: 'RGS_PROJECT_RGS14_PFC_Rn3_OD_SD1_T8_UID5', 3: 'RGS_PROJECT_RGS14_PFC_Rn3_OD_SD1_T9_UID0', 4: 'RGS_PROJECT_RGS14_PFC_Rn3_OD_SD1_T9_UID2', 5: 'RGS_PROJECT_RGS14_PFC_Rn3_OD_SD1_T9_UID4', 6: 'RGS_PROJECT_RGS14_PFC_Rn3_OD_SD1_T9_UID53', 7: 'RGS_PROJECT_RGS14_PFC_Rn3_OD_SD1_T9_UID61', 8: 'RGS_PROJECT_RGS14_PFC_Rn3_OD_SD1_T9_UID65', 9: 'RGS_PROJECT_RGS14_PFC_Rn3_OD_SD1_T10_UID2', 10: 'RGS_PROJECT_RGS14_PFC_Rn3_OD_SD1_T10_UID3', 11: 'RGS_PROJECT_RGS14_PFC_Rn3_OD_SD1_T10_UID6', 12: 'RGS_PROJECT_RGS14_PFC_Rn3_OD_SD1_T10_UID7', 13: 'RGS_PROJECT_RGS14_PFC_Rn3_OD_SD1_T10_UID15', 14: 'RGS_PROJECT_RGS14_PFC_Rn3_OD_SD1_T10_UID33', 15: 'RGS_PROJECT_RGS14_PFC_Rn3_OD_SD1_T10_UID37', 16: 'RGS_PROJECT_RGS14_PFC_Rn3_OD_SD1_T12_UID1', 17: 'RGS_PROJECT_RGS14_PFC_Rn3_OD_SD1_T12_UID3', 18: 'RGS_PROJECT_RGS14_PFC_Rn3_OD_SD1_T12_UID4', 19: 'RGS_PROJECT_RGS14_PFC_Rn3_OD_SD1_T12_UID5', 20: 'RGS_PROJECT_RGS14_PFC_Rn3_OD_SD1_T12_UID8', 21: 'RGS_PROJECT_RGS14_PFC_Rn3_OD_SD1_T12_UID20', 22: 'RGS_PROJECT_RGS14_PFC_Rn3_OD_SD1_T12_UID24', 23: 'RGS_PROJECT_RGS14_PFC_Rn3_OD_SD1_T13_UID0', 24: 'RGS_PROJECT_RGS14_PFC_Rn3_OD_SD1_T13_UID2', 25: 'RGS_PROJECT_RGS14_PFC_Rn3_OD_SD1_T13_UID3', 26: 'RGS_PROJECT_RGS14_PFC_Rn3_OD_SD1_T13_UID4', 27: 'RGS_PROJECT_RGS14_PFC_Rn3_OD_SD1_T15_UID29', 28: 'RGS_PROJECT_RGS14_PFC_Rn3_OD_SD1_T15_UID47', 29: 'RGS_PROJECT_RGS14_PFC_Rn3_OD_SD1_T15_UID51'}\n"
     ]
    }
   ],
   "source": [
    "assert len(actmat_dict_new['Post_Trial1']) == len(neuron_name_dict_new)\n",
    "print(neuron_name_dict_new)"
   ]
  },
  {
   "cell_type": "code",
   "execution_count": null,
   "metadata": {},
   "outputs": [],
   "source": []
  },
  {
   "cell_type": "code",
   "execution_count": null,
   "metadata": {},
   "outputs": [],
   "source": []
  },
  {
   "cell_type": "markdown",
   "metadata": {},
   "source": [
    "### The file will saved in the path previously defined"
   ]
  },
  {
   "cell_type": "code",
   "execution_count": 19,
   "metadata": {},
   "outputs": [],
   "source": [
    "act_mat_file = open(\"actmat_dict.pkl\", \"wb\")\n",
    "pickle.dump(actmat_dict_new, act_mat_file)                     \n",
    "act_mat_file.close()\n",
    "\n",
    "neuron_name_file = open(\"neuron_name_dict.pkl\", \"wb\")\n",
    "pickle.dump(neuron_name_dict_new, neuron_name_file)\n",
    "neuron_name_file.close()"
   ]
  },
  {
   "cell_type": "code",
   "execution_count": null,
   "metadata": {},
   "outputs": [],
   "source": []
  },
  {
   "cell_type": "code",
   "execution_count": null,
   "metadata": {},
   "outputs": [],
   "source": []
  }
 ],
 "metadata": {
  "kernelspec": {
   "display_name": "Python 3",
   "language": "python",
   "name": "python3"
  },
  "language_info": {
   "codemirror_mode": {
    "name": "ipython",
    "version": 3
   },
   "file_extension": ".py",
   "mimetype": "text/x-python",
   "name": "python",
   "nbconvert_exporter": "python",
   "pygments_lexer": "ipython3",
   "version": "3.7.6"
  }
 },
 "nbformat": 4,
 "nbformat_minor": 4
}
