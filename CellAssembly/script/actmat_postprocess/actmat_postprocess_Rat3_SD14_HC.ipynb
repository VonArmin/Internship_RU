{
 "cells": [
  {
   "cell_type": "code",
   "execution_count": 1,
   "metadata": {},
   "outputs": [],
   "source": [
    "import os\n",
    "import pandas as pd\n",
    "import numpy as np\n",
    "import matplotlib.pyplot as plt\n",
    "import glob\n",
    "import pickle"
   ]
  },
  {
   "cell_type": "code",
   "execution_count": 2,
   "metadata": {},
   "outputs": [],
   "source": [
    "import sys\n",
    "sys.path.append('../../')"
   ]
  },
  {
   "cell_type": "code",
   "execution_count": 3,
   "metadata": {},
   "outputs": [],
   "source": [
    "from src.actmat_postprocess import *"
   ]
  },
  {
   "cell_type": "markdown",
   "metadata": {},
   "source": [
    "### Change the path"
   ]
  },
  {
   "cell_type": "code",
   "execution_count": 4,
   "metadata": {},
   "outputs": [],
   "source": [
    "path = \"D:\\Internship_Radbound\\Cell_Assembly\\Process_data\\Rat3_SD14_HC\"\n",
    "project_name = 'RGS_PROJECT'\n",
    "condition = 'HC'\n",
    "study_day = 'SD14'\n",
    "rat_nr = 'Rn3'\n",
    "RGS14_or_Veh = \"pyramidal_neurons_RGS14.txt\"\n",
    "os.chdir(path)"
   ]
  },
  {
   "cell_type": "code",
   "execution_count": 5,
   "metadata": {},
   "outputs": [],
   "source": [
    "load_dict = load_data();\n",
    "# load_dict"
   ]
  },
  {
   "cell_type": "code",
   "execution_count": 6,
   "metadata": {},
   "outputs": [],
   "source": [
    "actmat_dict, neuron_name_dict = clean_actmat(load_dict)"
   ]
  },
  {
   "cell_type": "code",
   "execution_count": null,
   "metadata": {},
   "outputs": [],
   "source": []
  },
  {
   "cell_type": "markdown",
   "metadata": {},
   "source": [
    "##### Only if the name is incorrect, uncomment the code below:\n",
    "aim to get: RGS_PROJECT_RGS14_PFC_Rn4_OD_SD5_T6_UID8"
   ]
  },
  {
   "cell_type": "code",
   "execution_count": 7,
   "metadata": {},
   "outputs": [
    {
     "data": {
      "text/plain": [
       "{0: 'RGS_PROJECT_RGS14_HC_Rn3_SD14_T6_UID_0',\n",
       " 1: 'RGS_PROJECT_RGS14_HC_Rn3_SD14_T6_UID_1',\n",
       " 2: 'RGS_PROJECT_RGS14_HC_Rn3_SD14_T6_UID_2',\n",
       " 3: 'RGS_PROJECT_RGS14_HC_Rn3_SD14_T6_UID_3',\n",
       " 4: 'RGS_PROJECT_RGS14_HC_Rn3_SD14_T7_UID_0',\n",
       " 5: 'RGS_PROJECT_RGS14_HC_Rn3_SD14_T7_UID_1',\n",
       " 6: 'RGS_PROJECT_RGS14_HC_Rn3_SD14_T7_UID_3',\n",
       " 7: 'RGS_PROJECT_RGS14_HC_Rn3_SD14_T8_UID_2',\n",
       " 8: 'RGS_PROJECT_RGS14_HC_Rn3_SD14_T8_UID_4',\n",
       " 9: 'RGS_PROJECT_RGS14_HC_Rn3_SD14_T9_UID_2',\n",
       " 10: 'RGS_PROJECT_RGS14_HC_Rn3_SD14_T9_UID_3',\n",
       " 11: 'RGS_PROJECT_RGS14_HC_Rn3_SD14_T9_UID_4',\n",
       " 12: 'RGS_PROJECT_RGS14_HC_Rn3_SD14_T9_UID_5',\n",
       " 13: 'RGS_PROJECT_RGS14_HC_Rn3_SD14_T9_UID_6',\n",
       " 14: 'RGS_PROJECT_RGS14_HC_Rn3_SD14_T9_UID_7',\n",
       " 15: 'RGS_PROJECT_RGS14_HC_Rn3_SD14_T9_UID_8',\n",
       " 16: 'RGS_PROJECT_RGS14_HC_Rn3_SD14_T9_UID_13',\n",
       " 17: 'RGS_PROJECT_RGS14_HC_Rn3_SD14_T9_UID_17',\n",
       " 18: 'RGS_PROJECT_RGS14_HC_Rn3_SD14_T9_UID_21',\n",
       " 19: 'RGS_PROJECT_RGS14_HC_Rn3_SD14_T9_UID_26',\n",
       " 20: 'RGS_PROJECT_RGS14_HC_Rn3_SD14_T11_UID_0',\n",
       " 21: 'RGS_PROJECT_RGS14_HC_Rn3_SD14_T11_UID_2',\n",
       " 22: 'RGS_PROJECT_RGS14_HC_Rn3_SD14_T11_UID_4',\n",
       " 23: 'RGS_PROJECT_RGS14_HC_Rn3_SD14_T11_UID_6',\n",
       " 24: 'RGS_PROJECT_RGS14_HC_Rn3_SD14_T11_UID_7',\n",
       " 25: 'RGS_PROJECT_RGS14_HC_Rn3_SD14_T11_UID_9',\n",
       " 26: 'RGS_PROJECT_RGS14_HC_Rn3_SD14_T11_UID_15',\n",
       " 27: 'RGS_PROJECT_RGS14_HC_Rn3_SD14_T11_UID_17',\n",
       " 28: 'RGS_PROJECT_RGS14_HC_Rn3_SD14_T11_UID_23',\n",
       " 29: 'RGS_PROJECT_RGS14_HC_Rn3_SD14_T11_UID_24',\n",
       " 30: 'RGS_PROJECT_RGS14_HC_Rn3_SD14_T11_UID_25',\n",
       " 31: 'RGS_PROJECT_RGS14_HC_Rn3_SD14_T12_UID_0',\n",
       " 32: 'RGS_PROJECT_RGS14_HC_Rn3_SD14_T12_UID_2',\n",
       " 33: 'RGS_PROJECT_RGS14_HC_Rn3_SD14_T12_UID_3',\n",
       " 34: 'RGS_PROJECT_RGS14_HC_Rn3_SD14_T12_UID_9',\n",
       " 35: 'RGS_PROJECT_RGS14_HC_Rn3_SD14_T12_UID_11',\n",
       " 36: 'RGS_PROJECT_RGS14_HC_Rn3_SD14_T12_UID_15',\n",
       " 37: 'RGS_PROJECT_RGS14_HC_Rn3_SD14_T13_UID_2',\n",
       " 38: 'RGS_PROJECT_RGS14_HC_Rn3_SD14_T13_UID_6',\n",
       " 39: 'RGS_PROJECT_RGS14_HC_Rn3_SD14_T14_UID_4',\n",
       " 40: 'RGS_PROJECT_RGS14_HC_Rn3_SD14_T14_UID_8'}"
      ]
     },
     "execution_count": 7,
     "metadata": {},
     "output_type": "execute_result"
    }
   ],
   "source": [
    "neuron_name_dict"
   ]
  },
  {
   "cell_type": "code",
   "execution_count": 8,
   "metadata": {},
   "outputs": [],
   "source": [
    "for key, value in neuron_name_dict.items():\n",
    "#     print(value)\n",
    "    name_list = value.split('_')\n",
    "    Rat = name_list[4]\n",
    "    SD = name_list[5]\n",
    "    condition = name_list[3]\n",
    "    T_number = name_list[6]\n",
    "    UID_number = name_list[8]\n",
    "    new_name = \"RGS_PROJECT_RGS14_PFC_\" + Rat + \"_\" + condition + \"_\"+ SD +\"_\" + T_number + \"_\" + 'UID' + UID_number\n",
    "    neuron_name_dict[key] = new_name\n",
    "#     print(new_name)"
   ]
  },
  {
   "cell_type": "code",
   "execution_count": 9,
   "metadata": {
    "scrolled": true
   },
   "outputs": [
    {
     "data": {
      "text/plain": [
       "{0: 'RGS_PROJECT_RGS14_PFC_Rn3_HC_SD14_T6_UID0',\n",
       " 1: 'RGS_PROJECT_RGS14_PFC_Rn3_HC_SD14_T6_UID1',\n",
       " 2: 'RGS_PROJECT_RGS14_PFC_Rn3_HC_SD14_T6_UID2',\n",
       " 3: 'RGS_PROJECT_RGS14_PFC_Rn3_HC_SD14_T6_UID3',\n",
       " 4: 'RGS_PROJECT_RGS14_PFC_Rn3_HC_SD14_T7_UID0',\n",
       " 5: 'RGS_PROJECT_RGS14_PFC_Rn3_HC_SD14_T7_UID1',\n",
       " 6: 'RGS_PROJECT_RGS14_PFC_Rn3_HC_SD14_T7_UID3',\n",
       " 7: 'RGS_PROJECT_RGS14_PFC_Rn3_HC_SD14_T8_UID2',\n",
       " 8: 'RGS_PROJECT_RGS14_PFC_Rn3_HC_SD14_T8_UID4',\n",
       " 9: 'RGS_PROJECT_RGS14_PFC_Rn3_HC_SD14_T9_UID2',\n",
       " 10: 'RGS_PROJECT_RGS14_PFC_Rn3_HC_SD14_T9_UID3',\n",
       " 11: 'RGS_PROJECT_RGS14_PFC_Rn3_HC_SD14_T9_UID4',\n",
       " 12: 'RGS_PROJECT_RGS14_PFC_Rn3_HC_SD14_T9_UID5',\n",
       " 13: 'RGS_PROJECT_RGS14_PFC_Rn3_HC_SD14_T9_UID6',\n",
       " 14: 'RGS_PROJECT_RGS14_PFC_Rn3_HC_SD14_T9_UID7',\n",
       " 15: 'RGS_PROJECT_RGS14_PFC_Rn3_HC_SD14_T9_UID8',\n",
       " 16: 'RGS_PROJECT_RGS14_PFC_Rn3_HC_SD14_T9_UID13',\n",
       " 17: 'RGS_PROJECT_RGS14_PFC_Rn3_HC_SD14_T9_UID17',\n",
       " 18: 'RGS_PROJECT_RGS14_PFC_Rn3_HC_SD14_T9_UID21',\n",
       " 19: 'RGS_PROJECT_RGS14_PFC_Rn3_HC_SD14_T9_UID26',\n",
       " 20: 'RGS_PROJECT_RGS14_PFC_Rn3_HC_SD14_T11_UID0',\n",
       " 21: 'RGS_PROJECT_RGS14_PFC_Rn3_HC_SD14_T11_UID2',\n",
       " 22: 'RGS_PROJECT_RGS14_PFC_Rn3_HC_SD14_T11_UID4',\n",
       " 23: 'RGS_PROJECT_RGS14_PFC_Rn3_HC_SD14_T11_UID6',\n",
       " 24: 'RGS_PROJECT_RGS14_PFC_Rn3_HC_SD14_T11_UID7',\n",
       " 25: 'RGS_PROJECT_RGS14_PFC_Rn3_HC_SD14_T11_UID9',\n",
       " 26: 'RGS_PROJECT_RGS14_PFC_Rn3_HC_SD14_T11_UID15',\n",
       " 27: 'RGS_PROJECT_RGS14_PFC_Rn3_HC_SD14_T11_UID17',\n",
       " 28: 'RGS_PROJECT_RGS14_PFC_Rn3_HC_SD14_T11_UID23',\n",
       " 29: 'RGS_PROJECT_RGS14_PFC_Rn3_HC_SD14_T11_UID24',\n",
       " 30: 'RGS_PROJECT_RGS14_PFC_Rn3_HC_SD14_T11_UID25',\n",
       " 31: 'RGS_PROJECT_RGS14_PFC_Rn3_HC_SD14_T12_UID0',\n",
       " 32: 'RGS_PROJECT_RGS14_PFC_Rn3_HC_SD14_T12_UID2',\n",
       " 33: 'RGS_PROJECT_RGS14_PFC_Rn3_HC_SD14_T12_UID3',\n",
       " 34: 'RGS_PROJECT_RGS14_PFC_Rn3_HC_SD14_T12_UID9',\n",
       " 35: 'RGS_PROJECT_RGS14_PFC_Rn3_HC_SD14_T12_UID11',\n",
       " 36: 'RGS_PROJECT_RGS14_PFC_Rn3_HC_SD14_T12_UID15',\n",
       " 37: 'RGS_PROJECT_RGS14_PFC_Rn3_HC_SD14_T13_UID2',\n",
       " 38: 'RGS_PROJECT_RGS14_PFC_Rn3_HC_SD14_T13_UID6',\n",
       " 39: 'RGS_PROJECT_RGS14_PFC_Rn3_HC_SD14_T14_UID4',\n",
       " 40: 'RGS_PROJECT_RGS14_PFC_Rn3_HC_SD14_T14_UID8'}"
      ]
     },
     "execution_count": 9,
     "metadata": {},
     "output_type": "execute_result"
    }
   ],
   "source": [
    "neuron_name_dict"
   ]
  },
  {
   "cell_type": "markdown",
   "metadata": {},
   "source": [
    "### Only leave pyramidal neuron"
   ]
  },
  {
   "cell_type": "code",
   "execution_count": 10,
   "metadata": {},
   "outputs": [],
   "source": [
    "path_pyramidal_neuron = \"D:\\Internship_Radbound\\Cell_Assembly\\GenzelLab_cell_assembly\\get_pyramid\"\n",
    "os.chdir(path_pyramidal_neuron)\n",
    "pyramidal_neurons_RGS14, pyramidal_neuron_all = get_interneurons_list(RGS14_or_Veh, \n",
    "                                                                   project_name, condition, study_day, rat_nr)"
   ]
  },
  {
   "cell_type": "code",
   "execution_count": 11,
   "metadata": {},
   "outputs": [],
   "source": [
    "os.chdir(path)"
   ]
  },
  {
   "cell_type": "code",
   "execution_count": 12,
   "metadata": {},
   "outputs": [
    {
     "name": "stdout",
     "output_type": "stream",
     "text": [
      "[0, 1, 2, 3, 4, 5, 6, 7, 8, 9, 10, 12, 13, 14, 15, 16, 17, 18, 19, 20, 21, 22, 23, 24, 25, 26, 27, 28, 29, 30, 31, 32, 33, 36, 38, 39, 40]\n"
     ]
    }
   ],
   "source": [
    "neuron_index_list = find_index_neurons(pyramidal_neurons_RGS14, neuron_name_dict)\n",
    "print(neuron_index_list)\n",
    "actmat_dict_new, neuron_name_dict_new = get_pyramid_neuron(neuron_index_list, neuron_name_dict, actmat_dict)"
   ]
  },
  {
   "cell_type": "code",
   "execution_count": 13,
   "metadata": {},
   "outputs": [
    {
     "name": "stdout",
     "output_type": "stream",
     "text": [
      "{0: 'RGS_PROJECT_RGS14_PFC_Rn3_HC_SD14_T6_UID0', 1: 'RGS_PROJECT_RGS14_PFC_Rn3_HC_SD14_T6_UID1', 2: 'RGS_PROJECT_RGS14_PFC_Rn3_HC_SD14_T6_UID2', 3: 'RGS_PROJECT_RGS14_PFC_Rn3_HC_SD14_T6_UID3', 4: 'RGS_PROJECT_RGS14_PFC_Rn3_HC_SD14_T7_UID0', 5: 'RGS_PROJECT_RGS14_PFC_Rn3_HC_SD14_T7_UID1', 6: 'RGS_PROJECT_RGS14_PFC_Rn3_HC_SD14_T7_UID3', 7: 'RGS_PROJECT_RGS14_PFC_Rn3_HC_SD14_T8_UID2', 8: 'RGS_PROJECT_RGS14_PFC_Rn3_HC_SD14_T8_UID4', 9: 'RGS_PROJECT_RGS14_PFC_Rn3_HC_SD14_T9_UID2', 10: 'RGS_PROJECT_RGS14_PFC_Rn3_HC_SD14_T9_UID3', 11: 'RGS_PROJECT_RGS14_PFC_Rn3_HC_SD14_T9_UID5', 12: 'RGS_PROJECT_RGS14_PFC_Rn3_HC_SD14_T9_UID6', 13: 'RGS_PROJECT_RGS14_PFC_Rn3_HC_SD14_T9_UID7', 14: 'RGS_PROJECT_RGS14_PFC_Rn3_HC_SD14_T9_UID8', 15: 'RGS_PROJECT_RGS14_PFC_Rn3_HC_SD14_T9_UID13', 16: 'RGS_PROJECT_RGS14_PFC_Rn3_HC_SD14_T9_UID17', 17: 'RGS_PROJECT_RGS14_PFC_Rn3_HC_SD14_T9_UID21', 18: 'RGS_PROJECT_RGS14_PFC_Rn3_HC_SD14_T9_UID26', 19: 'RGS_PROJECT_RGS14_PFC_Rn3_HC_SD14_T11_UID0', 20: 'RGS_PROJECT_RGS14_PFC_Rn3_HC_SD14_T11_UID2', 21: 'RGS_PROJECT_RGS14_PFC_Rn3_HC_SD14_T11_UID4', 22: 'RGS_PROJECT_RGS14_PFC_Rn3_HC_SD14_T11_UID6', 23: 'RGS_PROJECT_RGS14_PFC_Rn3_HC_SD14_T11_UID7', 24: 'RGS_PROJECT_RGS14_PFC_Rn3_HC_SD14_T11_UID9', 25: 'RGS_PROJECT_RGS14_PFC_Rn3_HC_SD14_T11_UID15', 26: 'RGS_PROJECT_RGS14_PFC_Rn3_HC_SD14_T11_UID17', 27: 'RGS_PROJECT_RGS14_PFC_Rn3_HC_SD14_T11_UID23', 28: 'RGS_PROJECT_RGS14_PFC_Rn3_HC_SD14_T11_UID24', 29: 'RGS_PROJECT_RGS14_PFC_Rn3_HC_SD14_T11_UID25', 30: 'RGS_PROJECT_RGS14_PFC_Rn3_HC_SD14_T12_UID0', 31: 'RGS_PROJECT_RGS14_PFC_Rn3_HC_SD14_T12_UID2', 32: 'RGS_PROJECT_RGS14_PFC_Rn3_HC_SD14_T12_UID3', 33: 'RGS_PROJECT_RGS14_PFC_Rn3_HC_SD14_T12_UID15', 34: 'RGS_PROJECT_RGS14_PFC_Rn3_HC_SD14_T13_UID6', 35: 'RGS_PROJECT_RGS14_PFC_Rn3_HC_SD14_T14_UID4', 36: 'RGS_PROJECT_RGS14_PFC_Rn3_HC_SD14_T14_UID8'}\n"
     ]
    }
   ],
   "source": [
    "assert len(actmat_dict_new['Post_Trial1']) == len(neuron_name_dict_new)\n",
    "print(neuron_name_dict_new)"
   ]
  },
  {
   "cell_type": "code",
   "execution_count": null,
   "metadata": {},
   "outputs": [],
   "source": []
  },
  {
   "cell_type": "code",
   "execution_count": null,
   "metadata": {},
   "outputs": [],
   "source": []
  },
  {
   "cell_type": "markdown",
   "metadata": {},
   "source": [
    "### The file will saved in the path previously defined"
   ]
  },
  {
   "cell_type": "code",
   "execution_count": 14,
   "metadata": {},
   "outputs": [],
   "source": [
    "act_mat_file = open(\"actmat_dict.pkl\", \"wb\")\n",
    "pickle.dump(actmat_dict_new, act_mat_file)                     \n",
    "act_mat_file.close()\n",
    "\n",
    "neuron_name_file = open(\"neuron_name_dict.pkl\", \"wb\")\n",
    "pickle.dump(neuron_name_dict_new, neuron_name_file)\n",
    "neuron_name_file.close()"
   ]
  },
  {
   "cell_type": "code",
   "execution_count": null,
   "metadata": {},
   "outputs": [],
   "source": []
  },
  {
   "cell_type": "code",
   "execution_count": null,
   "metadata": {},
   "outputs": [],
   "source": []
  }
 ],
 "metadata": {
  "kernelspec": {
   "display_name": "Python 3",
   "language": "python",
   "name": "python3"
  },
  "language_info": {
   "codemirror_mode": {
    "name": "ipython",
    "version": 3
   },
   "file_extension": ".py",
   "mimetype": "text/x-python",
   "name": "python",
   "nbconvert_exporter": "python",
   "pygments_lexer": "ipython3",
   "version": "3.7.6"
  }
 },
 "nbformat": 4,
 "nbformat_minor": 4
}
