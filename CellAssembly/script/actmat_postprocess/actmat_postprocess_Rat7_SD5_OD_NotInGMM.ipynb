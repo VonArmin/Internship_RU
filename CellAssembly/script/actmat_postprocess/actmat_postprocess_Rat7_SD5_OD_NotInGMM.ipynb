{
 "cells": [
  {
   "cell_type": "code",
   "execution_count": 2,
   "metadata": {},
   "outputs": [],
   "source": [
    "import os\n",
    "import pandas as pd\n",
    "import numpy as np\n",
    "import matplotlib.pyplot as plt\n",
    "import glob\n",
    "import pickle"
   ]
  },
  {
   "cell_type": "code",
   "execution_count": 3,
   "metadata": {},
   "outputs": [],
   "source": [
    "import sys\n",
    "sys.path.append('../../')"
   ]
  },
  {
   "cell_type": "code",
   "execution_count": 4,
   "metadata": {},
   "outputs": [],
   "source": [
    "from src.actmat_postprocess import *"
   ]
  },
  {
   "cell_type": "markdown",
   "metadata": {},
   "source": [
    "### Change the path"
   ]
  },
  {
   "cell_type": "code",
   "execution_count": 25,
   "metadata": {},
   "outputs": [],
   "source": [
    "path = \"D:\\Internship_Radbound\\Cell_Assembly\\Process_data\\Rat7_SD5_OD\"\n",
    "project_name = 'RGS_PROJECT'\n",
    "condition = 'OD'\n",
    "study_day = 'SD5'\n",
    "rat_nr = 'Rn7'\n",
    "RGS14_or_Veh = \"pyramidal_neurons_Vehicle.txt\"\n",
    "os.chdir(path)"
   ]
  },
  {
   "cell_type": "code",
   "execution_count": 26,
   "metadata": {},
   "outputs": [],
   "source": [
    "load_dict = load_data();\n",
    "# load_dict"
   ]
  },
  {
   "cell_type": "code",
   "execution_count": 27,
   "metadata": {},
   "outputs": [],
   "source": [
    "actmat_dict, neuron_name_dict = clean_actmat(load_dict)"
   ]
  },
  {
   "cell_type": "markdown",
   "metadata": {},
   "source": [
    "##### Only if the name is incorrect, uncomment the code below:\n",
    "aim to get: RGS_PROJECT_RGS14_PFC_Rn4_OD_SD5_T6_UID8"
   ]
  },
  {
   "cell_type": "code",
   "execution_count": 28,
   "metadata": {},
   "outputs": [
    {
     "data": {
      "text/plain": [
       "{0: 'RGS_PROJECT_RGS14_PFC_Rn7_OD_SD5_T9_UID22',\n",
       " 1: 'RGS_PROJECT_RGS14_PFC_Rn7_OD_SD5_T9_UID24',\n",
       " 2: 'RGS_PROJECT_RGS14_PFC_Rn7_OD_SD5_T9_UID30',\n",
       " 3: 'RGS_PROJECT_RGS14_PFC_Rn7_OD_SD5_T9_UID34',\n",
       " 4: 'RGS_PROJECT_RGS14_PFC_Rn7_OD_SD5_T11_UID1',\n",
       " 5: 'RGS_PROJECT_RGS14_PFC_Rn7_OD_SD5_T11_UID30',\n",
       " 6: 'RGS_PROJECT_RGS14_PFC_Rn7_OD_SD5_T11_UID54',\n",
       " 7: 'RGS_PROJECT_RGS14_PFC_Rn7_OD_SD5_T12_UID1',\n",
       " 8: 'RGS_PROJECT_RGS14_PFC_Rn7_OD_SD5_T12_UID28',\n",
       " 9: 'RGS_PROJECT_RGS14_PFC_Rn7_OD_SD5_T14_UID1',\n",
       " 10: 'RGS_PROJECT_RGS14_PFC_Rn7_OD_SD5_T14_UID3',\n",
       " 11: 'RGS_PROJECT_RGS14_PFC_Rn7_OD_SD5_T14_UID21'}"
      ]
     },
     "execution_count": 28,
     "metadata": {},
     "output_type": "execute_result"
    }
   ],
   "source": [
    "neuron_name_dict"
   ]
  },
  {
   "cell_type": "code",
   "execution_count": 29,
   "metadata": {},
   "outputs": [],
   "source": [
    "for key, value in neuron_name_dict.items():\n",
    "#     print(value)\n",
    "    name_list = value.split('_')\n",
    "    Rat = name_list[4]\n",
    "    SD = name_list[6]\n",
    "    condition = name_list[5]\n",
    "    T_number = name_list[7]\n",
    "    UID_number = name_list[8]\n",
    "    new_name = \"RGS_PROJECT_RGS14_PFC_\" + Rat + \"_\" + condition + \"_\"+ SD +\"_\" + T_number + \"_\" + UID_number\n",
    "    neuron_name_dict[key] = new_name\n",
    "#     print(new_name)"
   ]
  },
  {
   "cell_type": "code",
   "execution_count": 30,
   "metadata": {
    "scrolled": true
   },
   "outputs": [
    {
     "data": {
      "text/plain": [
       "{0: 'RGS_PROJECT_RGS14_PFC_Rn7_OD_SD5_T9_UID22',\n",
       " 1: 'RGS_PROJECT_RGS14_PFC_Rn7_OD_SD5_T9_UID24',\n",
       " 2: 'RGS_PROJECT_RGS14_PFC_Rn7_OD_SD5_T9_UID30',\n",
       " 3: 'RGS_PROJECT_RGS14_PFC_Rn7_OD_SD5_T9_UID34',\n",
       " 4: 'RGS_PROJECT_RGS14_PFC_Rn7_OD_SD5_T11_UID1',\n",
       " 5: 'RGS_PROJECT_RGS14_PFC_Rn7_OD_SD5_T11_UID30',\n",
       " 6: 'RGS_PROJECT_RGS14_PFC_Rn7_OD_SD5_T11_UID54',\n",
       " 7: 'RGS_PROJECT_RGS14_PFC_Rn7_OD_SD5_T12_UID1',\n",
       " 8: 'RGS_PROJECT_RGS14_PFC_Rn7_OD_SD5_T12_UID28',\n",
       " 9: 'RGS_PROJECT_RGS14_PFC_Rn7_OD_SD5_T14_UID1',\n",
       " 10: 'RGS_PROJECT_RGS14_PFC_Rn7_OD_SD5_T14_UID3',\n",
       " 11: 'RGS_PROJECT_RGS14_PFC_Rn7_OD_SD5_T14_UID21'}"
      ]
     },
     "execution_count": 30,
     "metadata": {},
     "output_type": "execute_result"
    }
   ],
   "source": [
    "neuron_name_dict"
   ]
  },
  {
   "cell_type": "markdown",
   "metadata": {},
   "source": [
    "### Only leave pyramidal neuron"
   ]
  },
  {
   "cell_type": "code",
   "execution_count": 34,
   "metadata": {},
   "outputs": [],
   "source": [
    "# path_pyramidal_neuron = \"D:\\Internship_Radbound\\Cell_Assembly\\GenzelLab_cell_assembly\\get_pyramid\"\n",
    "# os.chdir(path_pyramidal_neuron)\n",
    "# pyramidal_neurons_RGS14, pyramidal_neuron_all = get_interneurons_list(RGS14_or_Veh, \n",
    "#                                                                    project_name, condition, study_day, rat_nr)"
   ]
  },
  {
   "cell_type": "code",
   "execution_count": 35,
   "metadata": {},
   "outputs": [],
   "source": [
    "# pyramidal_neuron_all"
   ]
  },
  {
   "cell_type": "code",
   "execution_count": 36,
   "metadata": {},
   "outputs": [],
   "source": [
    "# os.chdir(path)"
   ]
  },
  {
   "cell_type": "code",
   "execution_count": 38,
   "metadata": {},
   "outputs": [],
   "source": [
    "# neuron_index_list = find_index_neurons(pyramidal_neurons_RGS14, neuron_name_dict)\n",
    "# actmat_dict_new, neuron_name_dict_new = get_pyramid_neuron(neuron_index_list, neuron_name_dict, actmat_dict)"
   ]
  },
  {
   "cell_type": "code",
   "execution_count": null,
   "metadata": {},
   "outputs": [],
   "source": []
  },
  {
   "cell_type": "code",
   "execution_count": 39,
   "metadata": {},
   "outputs": [],
   "source": [
    "# assert len(actmat_dict_new['Post_Trial1']) == len(neuron_name_dict_new)\n",
    "# print(neuron_name_dict_new)"
   ]
  },
  {
   "cell_type": "code",
   "execution_count": null,
   "metadata": {},
   "outputs": [],
   "source": []
  },
  {
   "cell_type": "code",
   "execution_count": 41,
   "metadata": {},
   "outputs": [],
   "source": [
    "# actmat_dict_new = actmat_dict\n",
    "# neuron_name_dict_new = neuron_name_dict"
   ]
  },
  {
   "cell_type": "markdown",
   "metadata": {},
   "source": [
    "### The file will saved in the path previously defined"
   ]
  },
  {
   "cell_type": "code",
   "execution_count": 42,
   "metadata": {},
   "outputs": [],
   "source": [
    "act_mat_file = open(\"actmat_dict.pkl\", \"wb\")\n",
    "pickle.dump(actmat_dict_new, act_mat_file)                     \n",
    "act_mat_file.close()\n",
    "\n",
    "neuron_name_file = open(\"neuron_name_dict.pkl\", \"wb\")\n",
    "pickle.dump(neuron_name_dict_new, neuron_name_file)\n",
    "neuron_name_file.close()"
   ]
  },
  {
   "cell_type": "code",
   "execution_count": null,
   "metadata": {},
   "outputs": [],
   "source": []
  },
  {
   "cell_type": "code",
   "execution_count": null,
   "metadata": {},
   "outputs": [],
   "source": []
  }
 ],
 "metadata": {
  "kernelspec": {
   "display_name": "Python 3",
   "language": "python",
   "name": "python3"
  },
  "language_info": {
   "codemirror_mode": {
    "name": "ipython",
    "version": 3
   },
   "file_extension": ".py",
   "mimetype": "text/x-python",
   "name": "python",
   "nbconvert_exporter": "python",
   "pygments_lexer": "ipython3",
   "version": "3.7.6"
  }
 },
 "nbformat": 4,
 "nbformat_minor": 4
}
