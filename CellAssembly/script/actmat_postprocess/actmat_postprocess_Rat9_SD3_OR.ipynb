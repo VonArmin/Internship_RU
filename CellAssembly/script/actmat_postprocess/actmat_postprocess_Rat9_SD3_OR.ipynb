{
 "cells": [
  {
   "cell_type": "code",
   "execution_count": 2,
   "metadata": {},
   "outputs": [],
   "source": [
    "import os\n",
    "import pandas as pd\n",
    "import numpy as np\n",
    "import matplotlib.pyplot as plt\n",
    "import glob\n",
    "import pickle"
   ]
  },
  {
   "cell_type": "code",
   "execution_count": 3,
   "metadata": {},
   "outputs": [],
   "source": [
    "import sys\n",
    "sys.path.append('../../')"
   ]
  },
  {
   "cell_type": "code",
   "execution_count": 4,
   "metadata": {},
   "outputs": [],
   "source": [
    "from src.actmat_postprocess import *"
   ]
  },
  {
   "cell_type": "markdown",
   "metadata": {},
   "source": [
    "### Change the path"
   ]
  },
  {
   "cell_type": "code",
   "execution_count": 5,
   "metadata": {},
   "outputs": [],
   "source": [
    "path = \"D:\\Internship_Radbound\\Cell_Assembly\\Process_data\\Rat9_SD3_OR\"\n",
    "project_name = 'RGS_PROJECT'\n",
    "condition = 'OR'\n",
    "study_day = 'SD3'\n",
    "rat_nr = 'Rn9'\n",
    "os.chdir(path)"
   ]
  },
  {
   "cell_type": "code",
   "execution_count": 6,
   "metadata": {},
   "outputs": [],
   "source": [
    "load_dict = load_data();"
   ]
  },
  {
   "cell_type": "code",
   "execution_count": 7,
   "metadata": {},
   "outputs": [],
   "source": [
    "actmat_dict, neuron_name_dict = clean_actmat(load_dict)"
   ]
  },
  {
   "cell_type": "markdown",
   "metadata": {},
   "source": [
    "##### Only if the name is incorrect, uncomment the code below:\n",
    "aim to get: RGS_PROJECT_RGS14_PFC_Rn4_OD_SD5_T6_UID8"
   ]
  },
  {
   "cell_type": "code",
   "execution_count": 8,
   "metadata": {},
   "outputs": [],
   "source": [
    "for key, value in neuron_name_dict.items():\n",
    "#     print(value)\n",
    "    name_list = value.split('_')\n",
    "    Rat = name_list[4]\n",
    "    SD = name_list[5]\n",
    "    condition = name_list[3]\n",
    "    T_number = name_list[7]\n",
    "    UID_number = name_list[8]\n",
    "    new_name = \"RGS_PROJECT_RGS14_PFC_\" + \"Rn9\" + \"_\" + condition + \"_\"+ SD +\"_\" + T_number + \"_\" + UID_number\n",
    "    neuron_name_dict[key] = new_name\n",
    "#     print(new_name)"
   ]
  },
  {
   "cell_type": "code",
   "execution_count": 9,
   "metadata": {
    "scrolled": true
   },
   "outputs": [
    {
     "data": {
      "text/plain": [
       "{0: 'RGS_PROJECT_RGS14_PFC_Rn9_OR_SD3_T6_UID0',\n",
       " 1: 'RGS_PROJECT_RGS14_PFC_Rn9_OR_SD3_T6_UID1',\n",
       " 2: 'RGS_PROJECT_RGS14_PFC_Rn9_OR_SD3_T6_UID2',\n",
       " 3: 'RGS_PROJECT_RGS14_PFC_Rn9_OR_SD3_T6_UID3',\n",
       " 4: 'RGS_PROJECT_RGS14_PFC_Rn9_OR_SD3_T6_UID28',\n",
       " 5: 'RGS_PROJECT_RGS14_PFC_Rn9_OR_SD3_T8_UID8',\n",
       " 6: 'RGS_PROJECT_RGS14_PFC_Rn9_OR_SD3_T8_UID12',\n",
       " 7: 'RGS_PROJECT_RGS14_PFC_Rn9_OR_SD3_T12_UID2',\n",
       " 8: 'RGS_PROJECT_RGS14_PFC_Rn9_OR_SD3_T12_UID43',\n",
       " 9: 'RGS_PROJECT_RGS14_PFC_Rn9_OR_SD3_T12_UID48',\n",
       " 10: 'RGS_PROJECT_RGS14_PFC_Rn9_OR_SD3_T14_UID2',\n",
       " 11: 'RGS_PROJECT_RGS14_PFC_Rn9_OR_SD3_T15_UID7',\n",
       " 12: 'RGS_PROJECT_RGS14_PFC_Rn9_OR_SD3_T15_UID21'}"
      ]
     },
     "execution_count": 9,
     "metadata": {},
     "output_type": "execute_result"
    }
   ],
   "source": [
    "neuron_name_dict"
   ]
  },
  {
   "cell_type": "markdown",
   "metadata": {},
   "source": [
    "### Only leave pyramidal neuron"
   ]
  },
  {
   "cell_type": "code",
   "execution_count": 10,
   "metadata": {},
   "outputs": [],
   "source": [
    "path_pyramidal_neuron = \"D:\\Internship_Radbound\\Cell_Assembly\\GenzelLab_cell_assembly\\get_pyramid\"\n",
    "os.chdir(path_pyramidal_neuron)\n",
    "pyramidal_neurons_RGS14, pyramidal_neuron_all = get_interneurons_list(\"pyramidal_neurons_vehicle.txt\", \n",
    "                                                                   project_name, condition, study_day, rat_nr)"
   ]
  },
  {
   "cell_type": "code",
   "execution_count": 11,
   "metadata": {},
   "outputs": [],
   "source": [
    "os.chdir(path)"
   ]
  },
  {
   "cell_type": "code",
   "execution_count": 12,
   "metadata": {},
   "outputs": [],
   "source": [
    "neuron_index_list = find_index_neurons(pyramidal_neurons_RGS14, neuron_name_dict)\n",
    "actmat_dict_new, neuron_name_dict_new = get_pyramid_neuron(neuron_index_list, neuron_name_dict, actmat_dict)"
   ]
  },
  {
   "cell_type": "code",
   "execution_count": 13,
   "metadata": {},
   "outputs": [
    {
     "name": "stdout",
     "output_type": "stream",
     "text": [
      "{0: 'RGS_PROJECT_RGS14_PFC_Rn9_OR_SD3_T6_UID0', 1: 'RGS_PROJECT_RGS14_PFC_Rn9_OR_SD3_T6_UID1', 2: 'RGS_PROJECT_RGS14_PFC_Rn9_OR_SD3_T6_UID2', 3: 'RGS_PROJECT_RGS14_PFC_Rn9_OR_SD3_T6_UID3', 4: 'RGS_PROJECT_RGS14_PFC_Rn9_OR_SD3_T6_UID28', 5: 'RGS_PROJECT_RGS14_PFC_Rn9_OR_SD3_T8_UID8', 6: 'RGS_PROJECT_RGS14_PFC_Rn9_OR_SD3_T8_UID12', 7: 'RGS_PROJECT_RGS14_PFC_Rn9_OR_SD3_T12_UID2', 8: 'RGS_PROJECT_RGS14_PFC_Rn9_OR_SD3_T12_UID43', 9: 'RGS_PROJECT_RGS14_PFC_Rn9_OR_SD3_T12_UID48', 10: 'RGS_PROJECT_RGS14_PFC_Rn9_OR_SD3_T14_UID2', 11: 'RGS_PROJECT_RGS14_PFC_Rn9_OR_SD3_T15_UID7', 12: 'RGS_PROJECT_RGS14_PFC_Rn9_OR_SD3_T15_UID21'}\n"
     ]
    }
   ],
   "source": [
    "assert len(actmat_dict_new['Post_Trial1']) == len(neuron_name_dict_new)\n",
    "print(neuron_name_dict_new)"
   ]
  },
  {
   "cell_type": "code",
   "execution_count": null,
   "metadata": {},
   "outputs": [],
   "source": []
  },
  {
   "cell_type": "code",
   "execution_count": null,
   "metadata": {},
   "outputs": [],
   "source": []
  },
  {
   "cell_type": "markdown",
   "metadata": {},
   "source": [
    "### The file will saved in the path previously defined"
   ]
  },
  {
   "cell_type": "code",
   "execution_count": 14,
   "metadata": {},
   "outputs": [],
   "source": [
    "act_mat_file = open(\"actmat_dict.pkl\", \"wb\")\n",
    "pickle.dump(actmat_dict_new, act_mat_file)                     \n",
    "act_mat_file.close()\n",
    "\n",
    "neuron_name_file = open(\"neuron_name_dict.pkl\", \"wb\")\n",
    "pickle.dump(neuron_name_dict_new, neuron_name_file)\n",
    "neuron_name_file.close()"
   ]
  },
  {
   "cell_type": "code",
   "execution_count": null,
   "metadata": {},
   "outputs": [],
   "source": []
  },
  {
   "cell_type": "code",
   "execution_count": null,
   "metadata": {},
   "outputs": [],
   "source": []
  }
 ],
 "metadata": {
  "kernelspec": {
   "display_name": "Python 3",
   "language": "python",
   "name": "python3"
  },
  "language_info": {
   "codemirror_mode": {
    "name": "ipython",
    "version": 3
   },
   "file_extension": ".py",
   "mimetype": "text/x-python",
   "name": "python",
   "nbconvert_exporter": "python",
   "pygments_lexer": "ipython3",
   "version": "3.7.6"
  }
 },
 "nbformat": 4,
 "nbformat_minor": 4
}
