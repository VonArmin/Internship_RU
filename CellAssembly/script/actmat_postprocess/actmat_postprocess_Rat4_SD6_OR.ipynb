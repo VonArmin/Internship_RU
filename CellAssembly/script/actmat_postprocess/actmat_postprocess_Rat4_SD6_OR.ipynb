{
 "cells": [
  {
   "cell_type": "code",
   "execution_count": 48,
   "metadata": {},
   "outputs": [],
   "source": [
    "import os\n",
    "import pandas as pd\n",
    "import numpy as np\n",
    "import matplotlib.pyplot as plt\n",
    "import glob\n",
    "import pickle"
   ]
  },
  {
   "cell_type": "code",
   "execution_count": 49,
   "metadata": {},
   "outputs": [],
   "source": [
    "import sys\n",
    "sys.path.append('../../')"
   ]
  },
  {
   "cell_type": "code",
   "execution_count": 50,
   "metadata": {},
   "outputs": [],
   "source": [
    "from src.actmat_postprocess import *"
   ]
  },
  {
   "cell_type": "markdown",
   "metadata": {},
   "source": [
    "### Change the path"
   ]
  },
  {
   "cell_type": "code",
   "execution_count": 51,
   "metadata": {},
   "outputs": [],
   "source": [
    "path = \"D:\\Internship_Radbound\\Cell_Assembly\\Process_data\\Rat4_SD6_OR\"\n",
    "project_name = 'RGS_PROJECT'\n",
    "condition = 'OR'\n",
    "study_day = 'SD6'\n",
    "rat_nr = 'Rn4'\n",
    "RGS14_or_Veh = \"pyramidal_neurons_RGS14.txt\"\n",
    "os.chdir(path)"
   ]
  },
  {
   "cell_type": "code",
   "execution_count": 52,
   "metadata": {},
   "outputs": [],
   "source": [
    "load_dict = load_data();\n",
    "# load_dict"
   ]
  },
  {
   "cell_type": "code",
   "execution_count": 53,
   "metadata": {},
   "outputs": [],
   "source": [
    "actmat_dict, neuron_name_dict = clean_actmat(load_dict)"
   ]
  },
  {
   "cell_type": "markdown",
   "metadata": {},
   "source": [
    "##### Only if the name is incorrect, uncomment the code below:\n",
    "aim to get: RGS_PROJECT_RGS14_PFC_Rn4_OD_SD5_T6_UID8"
   ]
  },
  {
   "cell_type": "code",
   "execution_count": 54,
   "metadata": {},
   "outputs": [
    {
     "data": {
      "text/plain": [
       "{0: 'RGS_PROJECT_RGS14_PFC_Rn4_OR_SD6_T_T1_UID4',\n",
       " 1: 'RGS_PROJECT_RGS14_PFC_Rn4_OR_SD6_T_T1_UID6',\n",
       " 2: 'RGS_PROJECT_RGS14_PFC_Rn4_OR_SD6_T_T1_UID8',\n",
       " 3: 'RGS_PROJECT_RGS14_PFC_Rn4_OR_SD6_T_T1_UID10',\n",
       " 4: 'RGS_PROJECT_RGS14_PFC_Rn4_OR_SD6_T_T13_UID0',\n",
       " 5: 'RGS_PROJECT_RGS14_PFC_Rn4_OR_SD6_T_T13_UID2',\n",
       " 6: 'RGS_PROJECT_RGS14_PFC_Rn4_OR_SD6_T_T13_UID5',\n",
       " 7: 'RGS_PROJECT_RGS14_PFC_Rn4_OR_SD6_T_T15_UID0',\n",
       " 8: 'RGS_PROJECT_RGS14_PFC_Rn4_OR_SD6_T_T15_UID8',\n",
       " 9: 'RGS_PROJECT_RGS14_PFC_Rn4_OR_SD6_T_T15_UID10',\n",
       " 10: 'RGS_PROJECT_RGS14_PFC_Rn4_OR_SD6_T_T15_UID12'}"
      ]
     },
     "execution_count": 54,
     "metadata": {},
     "output_type": "execute_result"
    }
   ],
   "source": [
    "neuron_name_dict"
   ]
  },
  {
   "cell_type": "code",
   "execution_count": 55,
   "metadata": {},
   "outputs": [],
   "source": [
    "for key, value in neuron_name_dict.items():\n",
    "#     print(value)\n",
    "    name_list = value.split('_')\n",
    "    Rat = name_list[4]\n",
    "    SD = name_list[6]\n",
    "    condition = name_list[5]\n",
    "    T_number = name_list[8]\n",
    "    UID_number = name_list[9]\n",
    "    new_name = \"RGS_PROJECT_RGS14_PFC_\" + Rat + \"_\" + condition + \"_\"+ SD +\"_\" + T_number + \"_\" + UID_number\n",
    "    neuron_name_dict[key] = new_name\n",
    "#     print(new_name)"
   ]
  },
  {
   "cell_type": "code",
   "execution_count": 56,
   "metadata": {
    "scrolled": true
   },
   "outputs": [
    {
     "data": {
      "text/plain": [
       "{0: 'RGS_PROJECT_RGS14_PFC_Rn4_OR_SD6_T1_UID4',\n",
       " 1: 'RGS_PROJECT_RGS14_PFC_Rn4_OR_SD6_T1_UID6',\n",
       " 2: 'RGS_PROJECT_RGS14_PFC_Rn4_OR_SD6_T1_UID8',\n",
       " 3: 'RGS_PROJECT_RGS14_PFC_Rn4_OR_SD6_T1_UID10',\n",
       " 4: 'RGS_PROJECT_RGS14_PFC_Rn4_OR_SD6_T13_UID0',\n",
       " 5: 'RGS_PROJECT_RGS14_PFC_Rn4_OR_SD6_T13_UID2',\n",
       " 6: 'RGS_PROJECT_RGS14_PFC_Rn4_OR_SD6_T13_UID5',\n",
       " 7: 'RGS_PROJECT_RGS14_PFC_Rn4_OR_SD6_T15_UID0',\n",
       " 8: 'RGS_PROJECT_RGS14_PFC_Rn4_OR_SD6_T15_UID8',\n",
       " 9: 'RGS_PROJECT_RGS14_PFC_Rn4_OR_SD6_T15_UID10',\n",
       " 10: 'RGS_PROJECT_RGS14_PFC_Rn4_OR_SD6_T15_UID12'}"
      ]
     },
     "execution_count": 56,
     "metadata": {},
     "output_type": "execute_result"
    }
   ],
   "source": [
    "neuron_name_dict"
   ]
  },
  {
   "cell_type": "markdown",
   "metadata": {},
   "source": [
    "### Only leave pyramidal neuron"
   ]
  },
  {
   "cell_type": "code",
   "execution_count": 57,
   "metadata": {},
   "outputs": [],
   "source": [
    "path_pyramidal_neuron = \"D:\\Internship_Radbound\\Cell_Assembly\\GenzelLab_cell_assembly\\get_pyramid\"\n",
    "os.chdir(path_pyramidal_neuron)\n",
    "pyramidal_neurons_RGS14, pyramidal_neuron_all = get_interneurons_list(RGS14_or_Veh, \n",
    "                                                                   project_name, condition, study_day, rat_nr)"
   ]
  },
  {
   "cell_type": "code",
   "execution_count": null,
   "metadata": {},
   "outputs": [],
   "source": []
  },
  {
   "cell_type": "code",
   "execution_count": 62,
   "metadata": {},
   "outputs": [],
   "source": [
    "os.chdir(path)"
   ]
  },
  {
   "cell_type": "code",
   "execution_count": 63,
   "metadata": {},
   "outputs": [],
   "source": [
    "neuron_index_list = find_index_neurons(pyramidal_neurons_RGS14, neuron_name_dict)\n",
    "actmat_dict_new, neuron_name_dict_new = get_pyramid_neuron(neuron_index_list, neuron_name_dict, actmat_dict)"
   ]
  },
  {
   "cell_type": "code",
   "execution_count": 64,
   "metadata": {},
   "outputs": [
    {
     "name": "stdout",
     "output_type": "stream",
     "text": [
      "{0: 'RGS_PROJECT_RGS14_PFC_Rn4_OR_SD6_T1_UID6', 1: 'RGS_PROJECT_RGS14_PFC_Rn4_OR_SD6_T1_UID8', 2: 'RGS_PROJECT_RGS14_PFC_Rn4_OR_SD6_T1_UID10', 3: 'RGS_PROJECT_RGS14_PFC_Rn4_OR_SD6_T13_UID2'}\n"
     ]
    }
   ],
   "source": [
    "assert len(actmat_dict_new['Post_Trial1']) == len(neuron_name_dict_new)\n",
    "print(neuron_name_dict_new)"
   ]
  },
  {
   "cell_type": "code",
   "execution_count": null,
   "metadata": {},
   "outputs": [],
   "source": []
  },
  {
   "cell_type": "code",
   "execution_count": null,
   "metadata": {},
   "outputs": [],
   "source": []
  },
  {
   "cell_type": "markdown",
   "metadata": {},
   "source": [
    "### The file will saved in the path previously defined"
   ]
  },
  {
   "cell_type": "code",
   "execution_count": 65,
   "metadata": {},
   "outputs": [],
   "source": [
    "act_mat_file = open(\"actmat_dict.pkl\", \"wb\")\n",
    "pickle.dump(actmat_dict_new, act_mat_file)                     \n",
    "act_mat_file.close()\n",
    "\n",
    "neuron_name_file = open(\"neuron_name_dict.pkl\", \"wb\")\n",
    "pickle.dump(neuron_name_dict_new, neuron_name_file)\n",
    "neuron_name_file.close()"
   ]
  },
  {
   "cell_type": "code",
   "execution_count": null,
   "metadata": {},
   "outputs": [],
   "source": []
  },
  {
   "cell_type": "code",
   "execution_count": null,
   "metadata": {},
   "outputs": [],
   "source": []
  }
 ],
 "metadata": {
  "kernelspec": {
   "display_name": "Python 3",
   "language": "python",
   "name": "python3"
  },
  "language_info": {
   "codemirror_mode": {
    "name": "ipython",
    "version": 3
   },
   "file_extension": ".py",
   "mimetype": "text/x-python",
   "name": "python",
   "nbconvert_exporter": "python",
   "pygments_lexer": "ipython3",
   "version": "3.7.6"
  }
 },
 "nbformat": 4,
 "nbformat_minor": 4
}
