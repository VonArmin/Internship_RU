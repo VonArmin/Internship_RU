{
 "cells": [
  {
   "cell_type": "code",
   "execution_count": 1,
   "metadata": {},
   "outputs": [],
   "source": [
    "import os\n",
    "import pandas as pd\n",
    "import numpy as np\n",
    "import matplotlib.pyplot as plt\n",
    "import glob\n",
    "import pickle"
   ]
  },
  {
   "cell_type": "code",
   "execution_count": 2,
   "metadata": {},
   "outputs": [],
   "source": [
    "import sys\n",
    "sys.path.append('../../')"
   ]
  },
  {
   "cell_type": "code",
   "execution_count": 3,
   "metadata": {},
   "outputs": [],
   "source": [
    "from src.actmat_postprocess import *"
   ]
  },
  {
   "cell_type": "markdown",
   "metadata": {},
   "source": [
    "### Change the path"
   ]
  },
  {
   "cell_type": "code",
   "execution_count": 4,
   "metadata": {},
   "outputs": [],
   "source": [
    "path = \"D:\\Internship_Radbound\\Cell_Assembly\\Process_data\\Rat1_SD2_OD\"\n",
    "project_name = 'RGS_PROJECT'\n",
    "condition = 'OD'\n",
    "study_day = 'SD2'\n",
    "rat_nr = 'Rn1'\n",
    "RGS14_or_Veh = \"pyramidal_neurons_Vehicle.txt\"\n",
    "os.chdir(path)"
   ]
  },
  {
   "cell_type": "code",
   "execution_count": 5,
   "metadata": {},
   "outputs": [],
   "source": [
    "load_dict = load_data();\n",
    "# load_dict"
   ]
  },
  {
   "cell_type": "code",
   "execution_count": 6,
   "metadata": {},
   "outputs": [],
   "source": [
    "actmat_dict, neuron_name_dict = clean_actmat(load_dict)"
   ]
  },
  {
   "cell_type": "markdown",
   "metadata": {},
   "source": [
    "##### Only if the name is incorrect, uncomment the code below:\n",
    "aim to get: RGS_PROJECT_RGS14_PFC_Rn4_OD_SD5_T6_UID8"
   ]
  },
  {
   "cell_type": "code",
   "execution_count": 7,
   "metadata": {},
   "outputs": [
    {
     "data": {
      "text/plain": [
       "{0: 'RGS_PROJECT_RGS14_OD_Rn1_SD2_T_T12_UID0'}"
      ]
     },
     "execution_count": 7,
     "metadata": {},
     "output_type": "execute_result"
    }
   ],
   "source": [
    "neuron_name_dict"
   ]
  },
  {
   "cell_type": "code",
   "execution_count": 8,
   "metadata": {},
   "outputs": [
    {
     "ename": "IndexError",
     "evalue": "list index out of range",
     "output_type": "error",
     "traceback": [
      "\u001b[1;31m---------------------------------------------------------------------------\u001b[0m",
      "\u001b[1;31mIndexError\u001b[0m                                Traceback (most recent call last)",
      "\u001b[1;32m<ipython-input-8-e637252fdcf7>\u001b[0m in \u001b[0;36m<module>\u001b[1;34m\u001b[0m\n\u001b[0;32m      6\u001b[0m     \u001b[0mcondition\u001b[0m \u001b[1;33m=\u001b[0m \u001b[0mname_list\u001b[0m\u001b[1;33m[\u001b[0m\u001b[1;36m5\u001b[0m\u001b[1;33m]\u001b[0m\u001b[1;33m\u001b[0m\u001b[1;33m\u001b[0m\u001b[0m\n\u001b[0;32m      7\u001b[0m     \u001b[0mT_number\u001b[0m \u001b[1;33m=\u001b[0m \u001b[0mname_list\u001b[0m\u001b[1;33m[\u001b[0m\u001b[1;36m8\u001b[0m\u001b[1;33m]\u001b[0m\u001b[1;33m\u001b[0m\u001b[1;33m\u001b[0m\u001b[0m\n\u001b[1;32m----> 8\u001b[1;33m     \u001b[0mUID_number\u001b[0m \u001b[1;33m=\u001b[0m \u001b[0mname_list\u001b[0m\u001b[1;33m[\u001b[0m\u001b[1;36m9\u001b[0m\u001b[1;33m]\u001b[0m\u001b[1;33m\u001b[0m\u001b[1;33m\u001b[0m\u001b[0m\n\u001b[0m\u001b[0;32m      9\u001b[0m     \u001b[0mnew_name\u001b[0m \u001b[1;33m=\u001b[0m \u001b[1;34m\"RGS_PROJECT_RGS14_PFC_\"\u001b[0m \u001b[1;33m+\u001b[0m \u001b[0mRat\u001b[0m \u001b[1;33m+\u001b[0m \u001b[1;34m\"_\"\u001b[0m \u001b[1;33m+\u001b[0m \u001b[0mcondition\u001b[0m \u001b[1;33m+\u001b[0m \u001b[1;34m\"_\"\u001b[0m\u001b[1;33m+\u001b[0m \u001b[0mSD\u001b[0m \u001b[1;33m+\u001b[0m\u001b[1;34m\"_\"\u001b[0m \u001b[1;33m+\u001b[0m \u001b[0mT_number\u001b[0m \u001b[1;33m+\u001b[0m \u001b[1;34m\"_\"\u001b[0m \u001b[1;33m+\u001b[0m \u001b[0mUID_number\u001b[0m\u001b[1;33m\u001b[0m\u001b[1;33m\u001b[0m\u001b[0m\n\u001b[0;32m     10\u001b[0m     \u001b[0mneuron_name_dict\u001b[0m\u001b[1;33m[\u001b[0m\u001b[0mkey\u001b[0m\u001b[1;33m]\u001b[0m \u001b[1;33m=\u001b[0m \u001b[0mnew_name\u001b[0m\u001b[1;33m\u001b[0m\u001b[1;33m\u001b[0m\u001b[0m\n",
      "\u001b[1;31mIndexError\u001b[0m: list index out of range"
     ]
    }
   ],
   "source": [
    "for key, value in neuron_name_dict.items():\n",
    "#     print(value)\n",
    "    name_list = value.split('_')\n",
    "    Rat = name_list[4]\n",
    "    SD = name_list[6]\n",
    "    condition = name_list[5]\n",
    "    T_number = name_list[8]\n",
    "    UID_number = name_list[9]\n",
    "    new_name = \"RGS_PROJECT_RGS14_PFC_\" + Rat + \"_\" + condition + \"_\"+ SD +\"_\" + T_number + \"_\" + UID_number\n",
    "    neuron_name_dict[key] = new_name\n",
    "#     print(new_name)"
   ]
  },
  {
   "cell_type": "code",
   "execution_count": 9,
   "metadata": {
    "scrolled": true
   },
   "outputs": [
    {
     "data": {
      "text/plain": [
       "{0: 'RGS_PROJECT_RGS14_OD_Rn1_SD2_T_T12_UID0'}"
      ]
     },
     "execution_count": 9,
     "metadata": {},
     "output_type": "execute_result"
    }
   ],
   "source": [
    "neuron_name_dict"
   ]
  },
  {
   "cell_type": "markdown",
   "metadata": {},
   "source": [
    "### Only leave pyramidal neuron"
   ]
  },
  {
   "cell_type": "code",
   "execution_count": 11,
   "metadata": {},
   "outputs": [],
   "source": [
    "path_pyramidal_neuron = \"D:\\Internship_Radbound\\Cell_Assembly\\GenzelLab_cell_assembly\\get_pyramid\"\n",
    "os.chdir(path_pyramidal_neuron)\n",
    "pyramidal_neurons_RGS14, pyramidal_neuron_all = get_interneurons_list(RGS14_or_Veh, \n",
    "                                                                   project_name, condition, study_day, rat_nr)"
   ]
  },
  {
   "cell_type": "code",
   "execution_count": 12,
   "metadata": {},
   "outputs": [
    {
     "data": {
      "text/plain": [
       "['RGS_PROJECT_VEHICLE_PFC_Rn1_CON_SD1_T12_UID0_C3',\n",
       " 'RGS_PROJECT_VEHICLE_PFC_Rn1_CON_SD1_T15_UID2_C3',\n",
       " 'RGS_PROJECT_VEHICLE_PFC_Rn1_CON_SD1_T15_UID4_C1',\n",
       " 'RGS_PROJECT_VEHICLE_PFC_Rn1_OD_SD6_T10_UID1_C2',\n",
       " 'RGS_PROJECT_VEHICLE_PFC_Rn1_OD_SD6_T10_UID5_C2',\n",
       " 'RGS_PROJECT_VEHICLE_PFC_Rn1_OD_SD6_T10_UID7_C1',\n",
       " 'RGS_PROJECT_VEHICLE_PFC_Rn1_OR_SD7_T10_UID0_C1',\n",
       " 'RGS_PROJECT_VEHICLE_PFC_Rn1_HC_SD8_T9_UID0_C2',\n",
       " 'RGS_PROJECT_VEHICLE_PFC_Rn1_HC_SD8_T9_UID1_C1',\n",
       " 'RGS_PROJECT_VEHICLE_PFC_Rn1_HC_SD8_T9_UID5_C3',\n",
       " 'RGS_PROJECT_VEHICLE_PFC_Rn1_HC_SD8_T10_UID0_C2',\n",
       " 'RGS_PROJECT_VEHICLE_PFC_Rn1_HC_SD8_T10_UID6_C1',\n",
       " 'RGS_PROJECT_VEHICLE_PFC_Rn2_OR_SD2_T12_UID5_C3',\n",
       " 'RGS_PROJECT_VEHICLE_PFC_Rn2_OR_SD2_T12_UID15_C1',\n",
       " 'RGS_PROJECT_VEHICLE_PFC_Rn2_OR_SD2_T12_UID19_C1',\n",
       " 'RGS_PROJECT_VEHICLE_PFC_Rn2_OR_SD2_T13_UID0_C1',\n",
       " 'RGS_PROJECT_VEHICLE_PFC_Rn2_OR_SD2_T16_UID0_C2',\n",
       " 'RGS_PROJECT_VEHICLE_PFC_Rn2_OR_SD5_T14_UID3_C1',\n",
       " 'RGS_PROJECT_VEHICLE_PFC_Rn2_OR_SD5_T14_UID9_C3',\n",
       " 'RGS_PROJECT_VEHICLE_PFC_Rn2_OR_SD5_T14_UID14_C2',\n",
       " 'RGS_PROJECT_VEHICLE_PFC_Rn2_OR_SD5_T14_UID16_C1',\n",
       " 'RGS_PROJECT_VEHICLE_PFC_Rn2_CON_SD6_T10_UID3_C2',\n",
       " 'RGS_PROJECT_VEHICLE_PFC_Rn2_CON_SD6_T10_UID7_C2',\n",
       " 'RGS_PROJECT_VEHICLE_PFC_Rn2_CON_SD6_T14_UID3_C1',\n",
       " 'RGS_PROJECT_VEHICLE_PFC_Rn2_CON_SD6_T14_UID24_C3',\n",
       " 'RGS_PROJECT_VEHICLE_PFC_Rn2_OD_SD7_T10_UID0_C2',\n",
       " 'RGS_PROJECT_VEHICLE_PFC_Rn2_OD_SD7_T13_UID3_C1',\n",
       " 'RGS_PROJECT_VEHICLE_PFC_Rn2_OD_SD7_T13_UID8_C2',\n",
       " 'RGS_PROJECT_VEHICLE_PFC_Rn2_OD_SD7_T13_UID10_C4',\n",
       " 'RGS_PROJECT_VEHICLE_PFC_Rn2_OD_SD7_T14_UID1_C1',\n",
       " 'RGS_PROJECT_VEHICLE_PFC_Rn2_OD_SD7_T14_UID6_C3',\n",
       " 'RGS_PROJECT_VEHICLE_PFC_Rn2_OD_SD7_T14_UID8_C1',\n",
       " 'RGS_PROJECT_VEHICLE_PFC_Rn2_OD_SD7_T14_UID10_C1',\n",
       " 'RGS_PROJECT_VEHICLE_PFC_Rn2_HC_SD8_T8_UID0_C1',\n",
       " 'RGS_PROJECT_VEHICLE_PFC_Rn2_HC_SD8_T10_UID8_C2',\n",
       " 'RGS_PROJECT_VEHICLE_PFC_Rn2_HC_SD8_T13_UID14_C4',\n",
       " 'RGS_PROJECT_VEHICLE_PFC_Rn2_HC_SD8_T13_UID16_C2',\n",
       " 'RGS_PROJECT_VEHICLE_PFC_Rn2_HC_SD8_T13_UID20_C4',\n",
       " 'RGS_PROJECT_VEHICLE_PFC_Rn2_HC_SD8_T13_UID26_C2',\n",
       " 'RGS_PROJECT_VEHICLE_PFC_Rn2_HC_SD8_T14_UID2_C3',\n",
       " 'RGS_PROJECT_VEHICLE_PFC_Rn2_OR_SD9_T10_UID4_C2',\n",
       " 'RGS_PROJECT_VEHICLE_PFC_Rn2_OR_SD9_T10_UID16_C3',\n",
       " 'RGS_PROJECT_VEHICLE_PFC_Rn2_OR_SD9_T13_UID6_C2',\n",
       " 'RGS_PROJECT_VEHICLE_PFC_Rn2_OR_SD9_T13_UID10_C2',\n",
       " 'RGS_PROJECT_VEHICLE_PFC_Rn2_OR_SD9_T14_UID1_C2',\n",
       " 'RGS_PROJECT_VEHICLE_PFC_Rn6_OD_SD4_T11_UID7_C2',\n",
       " 'RGS_PROJECT_VEHICLE_PFC_Rn6_OD_SD4_T11_UID19_C4',\n",
       " 'RGS_PROJECT_VEHICLE_PFC_Rn6_OD_SD4_T11_UID27_C4',\n",
       " 'RGS_PROJECT_VEHICLE_PFC_Rn6_OD_SD4_T11_UID35_C2',\n",
       " 'RGS_PROJECT_VEHICLE_PFC_Rn6_OD_SD4_T11_UID63_C1',\n",
       " 'RGS_PROJECT_VEHICLE_PFC_Rn6_OD_SD4_T13_UID2_C4',\n",
       " 'RGS_PROJECT_VEHICLE_PFC_Rn6_OD_SD4_T13_UID25_C3',\n",
       " 'RGS_PROJECT_VEHICLE_PFC_Rn6_OD_SD4_T13_UID44_C3',\n",
       " 'RGS_PROJECT_VEHICLE_PFC_Rn6_HC_SD7_T7_UID0_C3',\n",
       " 'RGS_PROJECT_VEHICLE_PFC_Rn6_HC_SD7_T7_UID20_C2',\n",
       " 'RGS_PROJECT_VEHICLE_PFC_Rn6_HC_SD7_T11_UID1_C1',\n",
       " 'RGS_PROJECT_VEHICLE_PFC_Rn6_HC_SD7_T11_UID4_C2',\n",
       " 'RGS_PROJECT_VEHICLE_PFC_Rn6_HC_SD7_T11_UID6_C2',\n",
       " 'RGS_PROJECT_VEHICLE_PFC_Rn6_HC_SD7_T11_UID69_C3',\n",
       " 'RGS_PROJECT_VEHICLE_PFC_Rn6_HC_SD7_T11_UID77_C1',\n",
       " 'RGS_PROJECT_VEHICLE_PFC_Rn6_HC_SD7_T11_UID79_C1',\n",
       " 'RGS_PROJECT_VEHICLE_PFC_Rn6_HC_SD7_T11_UID80_C2',\n",
       " 'RGS_PROJECT_VEHICLE_PFC_Rn6_HC_SD7_T11_UID117_C4',\n",
       " 'RGS_PROJECT_VEHICLE_PFC_Rn6_HC_SD7_T12_UID4_C1',\n",
       " 'RGS_PROJECT_VEHICLE_PFC_Rn6_HC_SD7_T12_UID11_C1',\n",
       " 'RGS_PROJECT_VEHICLE_PFC_Rn6_HC_SD7_T12_UID12_C3',\n",
       " 'RGS_PROJECT_VEHICLE_PFC_Rn6_HC_SD7_T13_UID13_C4',\n",
       " 'RGS_PROJECT_VEHICLE_PFC_Rn6_HC_SD7_T13_UID14_C2',\n",
       " 'RGS_PROJECT_VEHICLE_PFC_Rn6_HC_SD7_T13_UID22_C1',\n",
       " 'RGS_PROJECT_VEHICLE_PFC_Rn6_HC_SD7_T15_UID0_C4',\n",
       " 'RGS_PROJECT_VEHICLE_PFC_Rn6_OR_SD8_T11_UID13_C4',\n",
       " 'RGS_PROJECT_VEHICLE_PFC_Rn6_OR_SD8_T11_UID23_C2',\n",
       " 'RGS_PROJECT_VEHICLE_PFC_Rn6_OR_SD8_T11_UID25_C2',\n",
       " 'RGS_PROJECT_VEHICLE_PFC_Rn6_OR_SD8_T11_UID27_C2',\n",
       " 'RGS_PROJECT_VEHICLE_PFC_Rn6_OR_SD8_T11_UID41_C4',\n",
       " 'RGS_PROJECT_VEHICLE_PFC_Rn6_OR_SD8_T12_UID0_C3',\n",
       " 'RGS_PROJECT_VEHICLE_PFC_Rn6_OR_SD8_T13_UID11_C4',\n",
       " 'RGS_PROJECT_VEHICLE_PFC_Rn6_OR_SD8_T13_UID15_C2',\n",
       " 'RGS_PROJECT_VEHICLE_PFC_Rn6_CON_SD9_T11_UID0_C2',\n",
       " 'RGS_PROJECT_VEHICLE_PFC_Rn6_CON_SD9_T11_UID1_C2',\n",
       " 'RGS_PROJECT_VEHICLE_PFC_Rn6_CON_SD9_T11_UID2_C2',\n",
       " 'RGS_PROJECT_VEHICLE_PFC_Rn6_CON_SD9_T11_UID3_C4',\n",
       " 'RGS_PROJECT_VEHICLE_PFC_Rn6_CON_SD9_T11_UID4_C4',\n",
       " 'RGS_PROJECT_VEHICLE_PFC_Rn6_CON_SD9_T12_UID1_C3',\n",
       " 'RGS_PROJECT_VEHICLE_PFC_Rn9_HC_SD1_T6_UID8_C4',\n",
       " 'RGS_PROJECT_VEHICLE_PFC_Rn9_HC_SD1_T6_UID25_C1',\n",
       " 'RGS_PROJECT_VEHICLE_PFC_Rn9_HC_SD1_T7_UID8_C4',\n",
       " 'RGS_PROJECT_VEHICLE_PFC_Rn9_HC_SD1_T8_UID5_C4',\n",
       " 'RGS_PROJECT_VEHICLE_PFC_Rn9_HC_SD1_T8_UID7_C1',\n",
       " 'RGS_PROJECT_VEHICLE_PFC_Rn9_HC_SD1_T8_UID9_C3',\n",
       " 'RGS_PROJECT_VEHICLE_PFC_Rn9_HC_SD1_T12_UID16_C2',\n",
       " 'RGS_PROJECT_VEHICLE_PFC_Rn9_HC_SD1_T15_UID2_C2',\n",
       " 'RGS_PROJECT_VEHICLE_PFC_Rn9_CON_SD2_T6_UID1_C1',\n",
       " 'RGS_PROJECT_VEHICLE_PFC_Rn9_CON_SD2_T6_UID3_C4',\n",
       " 'RGS_PROJECT_VEHICLE_PFC_Rn9_CON_SD2_T6_UID83_C2',\n",
       " 'RGS_PROJECT_VEHICLE_PFC_Rn9_CON_SD2_T6_UID85_C4',\n",
       " 'RGS_PROJECT_VEHICLE_PFC_Rn9_CON_SD2_T6_UID87_C2',\n",
       " 'RGS_PROJECT_VEHICLE_PFC_Rn9_CON_SD2_T6_UID105_C1',\n",
       " 'RGS_PROJECT_VEHICLE_PFC_Rn9_CON_SD2_T7_UID1_C3',\n",
       " 'RGS_PROJECT_VEHICLE_PFC_Rn9_CON_SD2_T7_UID6_C4',\n",
       " 'RGS_PROJECT_VEHICLE_PFC_Rn9_CON_SD2_T8_UID3_C1',\n",
       " 'RGS_PROJECT_VEHICLE_PFC_Rn9_CON_SD2_T8_UID5_C1',\n",
       " 'RGS_PROJECT_VEHICLE_PFC_Rn9_CON_SD2_T8_UID13_C3',\n",
       " 'RGS_PROJECT_VEHICLE_PFC_Rn9_CON_SD2_T12_UID0_C3',\n",
       " 'RGS_PROJECT_VEHICLE_PFC_Rn9_CON_SD2_T12_UID1_C2',\n",
       " 'RGS_PROJECT_VEHICLE_PFC_Rn9_CON_SD2_T15_UID0_C2',\n",
       " 'RGS_PROJECT_VEHICLE_PFC_Rn9_OR_SD3_T6_UID0_C1',\n",
       " 'RGS_PROJECT_VEHICLE_PFC_Rn9_OR_SD3_T6_UID1_C4',\n",
       " 'RGS_PROJECT_VEHICLE_PFC_Rn9_OR_SD3_T6_UID2_C3',\n",
       " 'RGS_PROJECT_VEHICLE_PFC_Rn9_OR_SD3_T6_UID3_C3',\n",
       " 'RGS_PROJECT_VEHICLE_PFC_Rn9_OR_SD3_T6_UID28_C3',\n",
       " 'RGS_PROJECT_VEHICLE_PFC_Rn9_OR_SD3_T8_UID8_C1',\n",
       " 'RGS_PROJECT_VEHICLE_PFC_Rn9_OR_SD3_T8_UID12_C1',\n",
       " 'RGS_PROJECT_VEHICLE_PFC_Rn9_OR_SD3_T12_UID2_C2',\n",
       " 'RGS_PROJECT_VEHICLE_PFC_Rn9_OR_SD3_T12_UID43_C2',\n",
       " 'RGS_PROJECT_VEHICLE_PFC_Rn9_OR_SD3_T12_UID48_C3',\n",
       " 'RGS_PROJECT_VEHICLE_PFC_Rn9_OR_SD3_T14_UID2_C1',\n",
       " 'RGS_PROJECT_VEHICLE_PFC_Rn9_OR_SD3_T15_UID7_C3',\n",
       " 'RGS_PROJECT_VEHICLE_PFC_Rn9_OR_SD3_T15_UID21_C1',\n",
       " 'RGS_PROJECT_VEHICLE_PFC_Rn9_OD_SD6_T6_UID0_C3',\n",
       " 'RGS_PROJECT_VEHICLE_PFC_Rn9_OD_SD6_T6_UID34_C4',\n",
       " 'RGS_PROJECT_VEHICLE_PFC_Rn9_OD_SD6_T6_UID52_C1',\n",
       " 'RGS_PROJECT_VEHICLE_PFC_Rn9_OD_SD6_T6_UID101_C1',\n",
       " 'RGS_PROJECT_VEHICLE_PFC_Rn9_OD_SD6_T7_UID12_C2',\n",
       " 'RGS_PROJECT_VEHICLE_PFC_Rn9_OD_SD6_T7_UID20_C4',\n",
       " 'RGS_PROJECT_VEHICLE_PFC_Rn9_OD_SD6_T7_UID28_C3']"
      ]
     },
     "execution_count": 12,
     "metadata": {},
     "output_type": "execute_result"
    }
   ],
   "source": [
    "pyramidal_neuron_all"
   ]
  },
  {
   "cell_type": "code",
   "execution_count": 13,
   "metadata": {},
   "outputs": [],
   "source": [
    "os.chdir(path)"
   ]
  },
  {
   "cell_type": "code",
   "execution_count": 14,
   "metadata": {},
   "outputs": [
    {
     "ename": "IndexError",
     "evalue": "arrays used as indices must be of integer (or boolean) type",
     "output_type": "error",
     "traceback": [
      "\u001b[1;31m---------------------------------------------------------------------------\u001b[0m",
      "\u001b[1;31mIndexError\u001b[0m                                Traceback (most recent call last)",
      "\u001b[1;32m<ipython-input-14-2f9ed16bd0fc>\u001b[0m in \u001b[0;36m<module>\u001b[1;34m\u001b[0m\n\u001b[0;32m      1\u001b[0m \u001b[0mneuron_index_list\u001b[0m \u001b[1;33m=\u001b[0m \u001b[0mfind_index_neurons\u001b[0m\u001b[1;33m(\u001b[0m\u001b[0mpyramidal_neurons_RGS14\u001b[0m\u001b[1;33m,\u001b[0m \u001b[0mneuron_name_dict\u001b[0m\u001b[1;33m)\u001b[0m\u001b[1;33m\u001b[0m\u001b[1;33m\u001b[0m\u001b[0m\n\u001b[1;32m----> 2\u001b[1;33m \u001b[0mactmat_dict_new\u001b[0m\u001b[1;33m,\u001b[0m \u001b[0mneuron_name_dict_new\u001b[0m \u001b[1;33m=\u001b[0m \u001b[0mget_pyramid_neuron\u001b[0m\u001b[1;33m(\u001b[0m\u001b[0mneuron_index_list\u001b[0m\u001b[1;33m,\u001b[0m \u001b[0mneuron_name_dict\u001b[0m\u001b[1;33m,\u001b[0m \u001b[0mactmat_dict\u001b[0m\u001b[1;33m)\u001b[0m\u001b[1;33m\u001b[0m\u001b[1;33m\u001b[0m\u001b[0m\n\u001b[0m",
      "\u001b[1;32mD:\\Internship_Radbound\\Cell_Assembly\\GenzelLab_cell_assembly\\src\\actmat_postprocess.py\u001b[0m in \u001b[0;36mget_pyramid_neuron\u001b[1;34m(pyramidal_index_list, neuron_name_dict, actmat_dict)\u001b[0m\n\u001b[0;32m     98\u001b[0m     \u001b[1;32mfor\u001b[0m \u001b[0mkey\u001b[0m\u001b[1;33m,\u001b[0m \u001b[0mactmat\u001b[0m \u001b[1;32min\u001b[0m \u001b[0mactmat_dict\u001b[0m\u001b[1;33m.\u001b[0m\u001b[0mitems\u001b[0m\u001b[1;33m(\u001b[0m\u001b[1;33m)\u001b[0m\u001b[1;33m:\u001b[0m\u001b[1;33m\u001b[0m\u001b[1;33m\u001b[0m\u001b[0m\n\u001b[0;32m     99\u001b[0m         \u001b[0mpyramidal_index_list\u001b[0m \u001b[1;33m=\u001b[0m \u001b[0mnp\u001b[0m\u001b[1;33m.\u001b[0m\u001b[0marray\u001b[0m\u001b[1;33m(\u001b[0m\u001b[0mpyramidal_index_list\u001b[0m\u001b[1;33m)\u001b[0m\u001b[1;33m\u001b[0m\u001b[1;33m\u001b[0m\u001b[0m\n\u001b[1;32m--> 100\u001b[1;33m         \u001b[0mactmat_new\u001b[0m \u001b[1;33m=\u001b[0m \u001b[0mactmat\u001b[0m\u001b[1;33m[\u001b[0m\u001b[0mpyramidal_index_list\u001b[0m\u001b[1;33m]\u001b[0m\u001b[1;33m\u001b[0m\u001b[1;33m\u001b[0m\u001b[0m\n\u001b[0m\u001b[0;32m    101\u001b[0m         \u001b[0mload_dict\u001b[0m\u001b[1;33m[\u001b[0m\u001b[0mkey\u001b[0m\u001b[1;33m]\u001b[0m \u001b[1;33m=\u001b[0m \u001b[0mactmat_new\u001b[0m\u001b[1;33m\u001b[0m\u001b[1;33m\u001b[0m\u001b[0m\n\u001b[0;32m    102\u001b[0m \u001b[1;33m\u001b[0m\u001b[0m\n",
      "\u001b[1;31mIndexError\u001b[0m: arrays used as indices must be of integer (or boolean) type"
     ]
    }
   ],
   "source": [
    "neuron_index_list = find_index_neurons(pyramidal_neurons_RGS14, neuron_name_dict)\n",
    "actmat_dict_new, neuron_name_dict_new = get_pyramid_neuron(neuron_index_list, neuron_name_dict, actmat_dict)"
   ]
  },
  {
   "cell_type": "code",
   "execution_count": 15,
   "metadata": {},
   "outputs": [
    {
     "ename": "NameError",
     "evalue": "name 'actmat_dict_new' is not defined",
     "output_type": "error",
     "traceback": [
      "\u001b[1;31m---------------------------------------------------------------------------\u001b[0m",
      "\u001b[1;31mNameError\u001b[0m                                 Traceback (most recent call last)",
      "\u001b[1;32m<ipython-input-15-20fa7c35de99>\u001b[0m in \u001b[0;36m<module>\u001b[1;34m\u001b[0m\n\u001b[1;32m----> 1\u001b[1;33m \u001b[1;32massert\u001b[0m \u001b[0mlen\u001b[0m\u001b[1;33m(\u001b[0m\u001b[0mactmat_dict_new\u001b[0m\u001b[1;33m[\u001b[0m\u001b[1;34m'Post_Trial1'\u001b[0m\u001b[1;33m]\u001b[0m\u001b[1;33m)\u001b[0m \u001b[1;33m==\u001b[0m \u001b[0mlen\u001b[0m\u001b[1;33m(\u001b[0m\u001b[0mneuron_name_dict_new\u001b[0m\u001b[1;33m)\u001b[0m\u001b[1;33m\u001b[0m\u001b[1;33m\u001b[0m\u001b[0m\n\u001b[0m\u001b[0;32m      2\u001b[0m \u001b[0mprint\u001b[0m\u001b[1;33m(\u001b[0m\u001b[0mneuron_name_dict_new\u001b[0m\u001b[1;33m)\u001b[0m\u001b[1;33m\u001b[0m\u001b[1;33m\u001b[0m\u001b[0m\n",
      "\u001b[1;31mNameError\u001b[0m: name 'actmat_dict_new' is not defined"
     ]
    }
   ],
   "source": [
    "assert len(actmat_dict_new['Post_Trial1']) == len(neuron_name_dict_new)\n",
    "print(neuron_name_dict_new)"
   ]
  },
  {
   "cell_type": "code",
   "execution_count": null,
   "metadata": {},
   "outputs": [],
   "source": []
  },
  {
   "cell_type": "code",
   "execution_count": null,
   "metadata": {},
   "outputs": [],
   "source": []
  },
  {
   "cell_type": "markdown",
   "metadata": {},
   "source": [
    "### The file will saved in the path previously defined"
   ]
  },
  {
   "cell_type": "code",
   "execution_count": 14,
   "metadata": {},
   "outputs": [],
   "source": [
    "act_mat_file = open(\"actmat_dict.pkl\", \"wb\")\n",
    "pickle.dump(actmat_dict_new, act_mat_file)                     \n",
    "act_mat_file.close()\n",
    "\n",
    "neuron_name_file = open(\"neuron_name_dict.pkl\", \"wb\")\n",
    "pickle.dump(neuron_name_dict_new, neuron_name_file)\n",
    "neuron_name_file.close()"
   ]
  },
  {
   "cell_type": "code",
   "execution_count": null,
   "metadata": {},
   "outputs": [],
   "source": []
  },
  {
   "cell_type": "code",
   "execution_count": null,
   "metadata": {},
   "outputs": [],
   "source": []
  },
  {
   "cell_type": "code",
   "execution_count": null,
   "metadata": {},
   "outputs": [],
   "source": []
  }
 ],
 "metadata": {
  "kernelspec": {
   "display_name": "Python 3",
   "language": "python",
   "name": "python3"
  },
  "language_info": {
   "codemirror_mode": {
    "name": "ipython",
    "version": 3
   },
   "file_extension": ".py",
   "mimetype": "text/x-python",
   "name": "python",
   "nbconvert_exporter": "python",
   "pygments_lexer": "ipython3",
   "version": "3.7.6"
  }
 },
 "nbformat": 4,
 "nbformat_minor": 4
}
