{
 "cells": [
  {
   "cell_type": "code",
   "execution_count": 1,
   "metadata": {},
   "outputs": [],
   "source": [
    "from actmat_generate import *\n",
    "import os\n",
    "import pandas as pd"
   ]
  },
  {
   "cell_type": "markdown",
   "metadata": {},
   "source": [
    "### Run the following script to generate actmat matrix\n",
    "\n",
    "- Change the path into the folder where you put the Trial_durations.xls file\n",
    "- Çhange the date into actual date performing the experiment"
   ]
  },
  {
   "cell_type": "code",
   "execution_count": 2,
   "metadata": {},
   "outputs": [],
   "source": [
    "# path = \"D:\\Internship_Radbound\\Cell_assembly_yuqin\"\n",
    "path = \"/media/irene/GL04_RAT_HOMER_2/Spike_sorting/Rat_OS_Ephys_RGS14_Rat2_57987/Rat_OS_Ephys_RGS14_Rat2_57987_SD7_OD_06-07_08_2018/Rat_OS_Ephys_RGS14_Rat2_57987_SD7_OD_06-07_08_2018_merged\"\n",
    "date = \"Rat2_SD7_OD\"\n",
    "project_folder_name = \"RGS_PROJECT_RGS14_PFC_Rn2_OD_SD7\""
   ]
  },
  {
   "cell_type": "code",
   "execution_count": null,
   "metadata": {},
   "outputs": [],
   "source": []
  },
  {
   "cell_type": "code",
   "execution_count": 3,
   "metadata": {},
   "outputs": [],
   "source": [
    "os.chdir(path)\n",
    "trial_info = pd.read_excel('Trial_durations.xls', index_col = 0)  \n",
    "trial_last_period_name = trial_info.columns[-1]\n",
    "final_samples = trial_info[trial_last_period_name][\"Cumulative Samples\"]\n",
    "samples_index_list = list(trial_info.loc[\"Cumulative Samples\"])\n",
    "fs = 30000\n",
    "#Modified the minutes and samples by removing the tail\n",
    "trial_info.loc[\"modified_minutes\"] = [45.0, 5.0, 45.0, 5.0, 45.0, 5.0, 45.0, 5.0, 45.0, 5.0, 180.0]\n",
    "trial_info.loc[\"modified_samples\"] = trial_info.loc[\"modified_minutes\"]* 60 * 30000"
   ]
  },
  {
   "cell_type": "code",
   "execution_count": 4,
   "metadata": {},
   "outputs": [
    {
     "data": {
      "text/html": [
       "<div>\n",
       "<style scoped>\n",
       "    .dataframe tbody tr th:only-of-type {\n",
       "        vertical-align: middle;\n",
       "    }\n",
       "\n",
       "    .dataframe tbody tr th {\n",
       "        vertical-align: top;\n",
       "    }\n",
       "\n",
       "    .dataframe thead th {\n",
       "        text-align: right;\n",
       "    }\n",
       "</style>\n",
       "<table border=\"1\" class=\"dataframe\">\n",
       "  <thead>\n",
       "    <tr style=\"text-align: right;\">\n",
       "      <th></th>\n",
       "      <th>Pre_sleep</th>\n",
       "      <th>Trial1</th>\n",
       "      <th>Post_Trial1</th>\n",
       "      <th>Trial2</th>\n",
       "      <th>Post_Trial2</th>\n",
       "      <th>Trial3</th>\n",
       "      <th>Post_Trial3</th>\n",
       "      <th>Trial4</th>\n",
       "      <th>Post_Trial4</th>\n",
       "      <th>Trial5</th>\n",
       "      <th>Post_Trial5</th>\n",
       "    </tr>\n",
       "    <tr>\n",
       "      <th>Unit</th>\n",
       "      <th></th>\n",
       "      <th></th>\n",
       "      <th></th>\n",
       "      <th></th>\n",
       "      <th></th>\n",
       "      <th></th>\n",
       "      <th></th>\n",
       "      <th></th>\n",
       "      <th></th>\n",
       "      <th></th>\n",
       "      <th></th>\n",
       "    </tr>\n",
       "  </thead>\n",
       "  <tbody>\n",
       "    <tr>\n",
       "      <th>Samples</th>\n",
       "      <td>8.102093e+07</td>\n",
       "      <td>9.533440e+06</td>\n",
       "      <td>8.100864e+07</td>\n",
       "      <td>9.985024e+06</td>\n",
       "      <td>8.100864e+07</td>\n",
       "      <td>9.631744e+06</td>\n",
       "      <td>9.725542e+07</td>\n",
       "      <td>9.745408e+06</td>\n",
       "      <td>8.100864e+07</td>\n",
       "      <td>1.079398e+07</td>\n",
       "      <td>3.240243e+08</td>\n",
       "    </tr>\n",
       "    <tr>\n",
       "      <th>Cumulative Samples</th>\n",
       "      <td>8.102093e+07</td>\n",
       "      <td>9.055437e+07</td>\n",
       "      <td>1.715630e+08</td>\n",
       "      <td>1.815480e+08</td>\n",
       "      <td>2.625567e+08</td>\n",
       "      <td>2.721884e+08</td>\n",
       "      <td>3.694438e+08</td>\n",
       "      <td>3.791892e+08</td>\n",
       "      <td>4.601979e+08</td>\n",
       "      <td>4.709919e+08</td>\n",
       "      <td>7.950162e+08</td>\n",
       "    </tr>\n",
       "    <tr>\n",
       "      <th>Seconds</th>\n",
       "      <td>2.700698e+03</td>\n",
       "      <td>3.177813e+02</td>\n",
       "      <td>2.700288e+03</td>\n",
       "      <td>3.328341e+02</td>\n",
       "      <td>2.700288e+03</td>\n",
       "      <td>3.210581e+02</td>\n",
       "      <td>3.241847e+03</td>\n",
       "      <td>3.248469e+02</td>\n",
       "      <td>2.700288e+03</td>\n",
       "      <td>3.597995e+02</td>\n",
       "      <td>1.080081e+04</td>\n",
       "    </tr>\n",
       "    <tr>\n",
       "      <th>Cumulative Seconds</th>\n",
       "      <td>2.700698e+03</td>\n",
       "      <td>3.018479e+03</td>\n",
       "      <td>5.718767e+03</td>\n",
       "      <td>6.051601e+03</td>\n",
       "      <td>8.751889e+03</td>\n",
       "      <td>9.072947e+03</td>\n",
       "      <td>1.231479e+04</td>\n",
       "      <td>1.263964e+04</td>\n",
       "      <td>1.533993e+04</td>\n",
       "      <td>1.569973e+04</td>\n",
       "      <td>2.650054e+04</td>\n",
       "    </tr>\n",
       "    <tr>\n",
       "      <th>Minutes</th>\n",
       "      <td>4.501163e+01</td>\n",
       "      <td>5.296356e+00</td>\n",
       "      <td>4.500480e+01</td>\n",
       "      <td>5.547236e+00</td>\n",
       "      <td>4.500480e+01</td>\n",
       "      <td>5.350969e+00</td>\n",
       "      <td>5.403079e+01</td>\n",
       "      <td>5.414116e+00</td>\n",
       "      <td>4.500480e+01</td>\n",
       "      <td>5.996658e+00</td>\n",
       "      <td>1.800135e+02</td>\n",
       "    </tr>\n",
       "    <tr>\n",
       "      <th>Cumulative Minutes</th>\n",
       "      <td>4.501163e+01</td>\n",
       "      <td>5.030798e+01</td>\n",
       "      <td>9.531278e+01</td>\n",
       "      <td>1.008600e+02</td>\n",
       "      <td>1.458648e+02</td>\n",
       "      <td>1.512158e+02</td>\n",
       "      <td>2.052466e+02</td>\n",
       "      <td>2.106607e+02</td>\n",
       "      <td>2.556655e+02</td>\n",
       "      <td>2.616622e+02</td>\n",
       "      <td>4.416757e+02</td>\n",
       "    </tr>\n",
       "    <tr>\n",
       "      <th>Hours</th>\n",
       "      <td>7.501938e-01</td>\n",
       "      <td>8.827259e-02</td>\n",
       "      <td>7.500800e-01</td>\n",
       "      <td>9.245393e-02</td>\n",
       "      <td>7.500800e-01</td>\n",
       "      <td>8.918281e-02</td>\n",
       "      <td>9.005132e-01</td>\n",
       "      <td>9.023526e-02</td>\n",
       "      <td>7.500800e-01</td>\n",
       "      <td>9.994430e-02</td>\n",
       "      <td>3.000225e+00</td>\n",
       "    </tr>\n",
       "    <tr>\n",
       "      <th>Cumulative Hours</th>\n",
       "      <td>7.501938e-01</td>\n",
       "      <td>8.384664e-01</td>\n",
       "      <td>1.588546e+00</td>\n",
       "      <td>1.681000e+00</td>\n",
       "      <td>2.431080e+00</td>\n",
       "      <td>2.520263e+00</td>\n",
       "      <td>3.420776e+00</td>\n",
       "      <td>3.511012e+00</td>\n",
       "      <td>4.261092e+00</td>\n",
       "      <td>4.361036e+00</td>\n",
       "      <td>7.361261e+00</td>\n",
       "    </tr>\n",
       "    <tr>\n",
       "      <th>modified_minutes</th>\n",
       "      <td>4.500000e+01</td>\n",
       "      <td>5.000000e+00</td>\n",
       "      <td>4.500000e+01</td>\n",
       "      <td>5.000000e+00</td>\n",
       "      <td>4.500000e+01</td>\n",
       "      <td>5.000000e+00</td>\n",
       "      <td>4.500000e+01</td>\n",
       "      <td>5.000000e+00</td>\n",
       "      <td>4.500000e+01</td>\n",
       "      <td>5.000000e+00</td>\n",
       "      <td>1.800000e+02</td>\n",
       "    </tr>\n",
       "    <tr>\n",
       "      <th>modified_samples</th>\n",
       "      <td>8.100000e+07</td>\n",
       "      <td>9.000000e+06</td>\n",
       "      <td>8.100000e+07</td>\n",
       "      <td>9.000000e+06</td>\n",
       "      <td>8.100000e+07</td>\n",
       "      <td>9.000000e+06</td>\n",
       "      <td>8.100000e+07</td>\n",
       "      <td>9.000000e+06</td>\n",
       "      <td>8.100000e+07</td>\n",
       "      <td>9.000000e+06</td>\n",
       "      <td>3.240000e+08</td>\n",
       "    </tr>\n",
       "  </tbody>\n",
       "</table>\n",
       "</div>"
      ],
      "text/plain": [
       "                       Pre_sleep        Trial1   Post_Trial1        Trial2  \\\n",
       "Unit                                                                         \n",
       "Samples             8.102093e+07  9.533440e+06  8.100864e+07  9.985024e+06   \n",
       "Cumulative Samples  8.102093e+07  9.055437e+07  1.715630e+08  1.815480e+08   \n",
       "Seconds             2.700698e+03  3.177813e+02  2.700288e+03  3.328341e+02   \n",
       "Cumulative Seconds  2.700698e+03  3.018479e+03  5.718767e+03  6.051601e+03   \n",
       "Minutes             4.501163e+01  5.296356e+00  4.500480e+01  5.547236e+00   \n",
       "Cumulative Minutes  4.501163e+01  5.030798e+01  9.531278e+01  1.008600e+02   \n",
       "Hours               7.501938e-01  8.827259e-02  7.500800e-01  9.245393e-02   \n",
       "Cumulative Hours    7.501938e-01  8.384664e-01  1.588546e+00  1.681000e+00   \n",
       "modified_minutes    4.500000e+01  5.000000e+00  4.500000e+01  5.000000e+00   \n",
       "modified_samples    8.100000e+07  9.000000e+06  8.100000e+07  9.000000e+06   \n",
       "\n",
       "                     Post_Trial2        Trial3   Post_Trial3        Trial4  \\\n",
       "Unit                                                                         \n",
       "Samples             8.100864e+07  9.631744e+06  9.725542e+07  9.745408e+06   \n",
       "Cumulative Samples  2.625567e+08  2.721884e+08  3.694438e+08  3.791892e+08   \n",
       "Seconds             2.700288e+03  3.210581e+02  3.241847e+03  3.248469e+02   \n",
       "Cumulative Seconds  8.751889e+03  9.072947e+03  1.231479e+04  1.263964e+04   \n",
       "Minutes             4.500480e+01  5.350969e+00  5.403079e+01  5.414116e+00   \n",
       "Cumulative Minutes  1.458648e+02  1.512158e+02  2.052466e+02  2.106607e+02   \n",
       "Hours               7.500800e-01  8.918281e-02  9.005132e-01  9.023526e-02   \n",
       "Cumulative Hours    2.431080e+00  2.520263e+00  3.420776e+00  3.511012e+00   \n",
       "modified_minutes    4.500000e+01  5.000000e+00  4.500000e+01  5.000000e+00   \n",
       "modified_samples    8.100000e+07  9.000000e+06  8.100000e+07  9.000000e+06   \n",
       "\n",
       "                     Post_Trial4        Trial5   Post_Trial5  \n",
       "Unit                                                          \n",
       "Samples             8.100864e+07  1.079398e+07  3.240243e+08  \n",
       "Cumulative Samples  4.601979e+08  4.709919e+08  7.950162e+08  \n",
       "Seconds             2.700288e+03  3.597995e+02  1.080081e+04  \n",
       "Cumulative Seconds  1.533993e+04  1.569973e+04  2.650054e+04  \n",
       "Minutes             4.500480e+01  5.996658e+00  1.800135e+02  \n",
       "Cumulative Minutes  2.556655e+02  2.616622e+02  4.416757e+02  \n",
       "Hours               7.500800e-01  9.994430e-02  3.000225e+00  \n",
       "Cumulative Hours    4.261092e+00  4.361036e+00  7.361261e+00  \n",
       "modified_minutes    4.500000e+01  5.000000e+00  1.800000e+02  \n",
       "modified_samples    8.100000e+07  9.000000e+06  3.240000e+08  "
      ]
     },
     "execution_count": 4,
     "metadata": {},
     "output_type": "execute_result"
    }
   ],
   "source": [
    "trial_info"
   ]
  },
  {
   "cell_type": "markdown",
   "metadata": {},
   "source": [
    "### Change:\n",
    "\n",
    "- absolute_path_list\n",
    "- trial_name_list\n",
    "- project_folder_name"
   ]
  },
  {
   "cell_type": "code",
   "execution_count": 5,
   "metadata": {
    "scrolled": true
   },
   "outputs": [],
   "source": [
    "absolute_path_list = [path + \"/cortex/Tetrode_8/phy_MS4\",\n",
    "                     path + \"/cortex/Tetrode_9/phy_MS4\",\n",
    "                     path + \"/cortex/Tetrode_10/phy_AGR\",\n",
    "                     path + \"/cortex/Tetrode_12/phy_MS4\",\n",
    "                     path + \"/cortex/Tetrode_13/phy_AGR\",\n",
    "                     path + \"/cortex/Tetrode_14/phy_AGR\",\n",
    "                     path + \"/cortex/Tetrode_16/phy_MS4\"]\n",
    "# absolute_path_list = [path + \"/cortex/Tetrode_14/phy_AGR\"]\n",
    "\n",
    "trial_name_list = list(trial_info.columns)"
   ]
  },
  {
   "cell_type": "code",
   "execution_count": 6,
   "metadata": {},
   "outputs": [],
   "source": [
    "# get_neuron_name(trial_info, absolute_path_list, trial_name_list[0], project_folder_name)"
   ]
  },
  {
   "cell_type": "code",
   "execution_count": 7,
   "metadata": {},
   "outputs": [],
   "source": [
    "# iterate_all_file_for_a_trial(trial_info, absolute_path_list, trial_name_list[-2], project_folder_name)"
   ]
  },
  {
   "cell_type": "code",
   "execution_count": 8,
   "metadata": {},
   "outputs": [
    {
     "name": "stdout",
     "output_type": "stream",
     "text": [
      "trial name isPre_sleep\n"
     ]
    },
    {
     "ename": "KeyboardInterrupt",
     "evalue": "",
     "output_type": "error",
     "traceback": [
      "\u001b[0;31m---------------------------------------------------------------------------\u001b[0m",
      "\u001b[0;31mKeyboardInterrupt\u001b[0m                         Traceback (most recent call last)",
      "\u001b[0;32m<ipython-input-8-7a09272bb48c>\u001b[0m in \u001b[0;36m<module>\u001b[0;34m\u001b[0m\n\u001b[1;32m      1\u001b[0m \u001b[0;32mfor\u001b[0m \u001b[0mtrial_name\u001b[0m \u001b[0;32min\u001b[0m \u001b[0mtrial_name_list\u001b[0m\u001b[0;34m:\u001b[0m\u001b[0;34m\u001b[0m\u001b[0;34m\u001b[0m\u001b[0m\n\u001b[1;32m      2\u001b[0m     \u001b[0mcreateFolder\u001b[0m\u001b[0;34m(\u001b[0m\u001b[0mpath\u001b[0m \u001b[0;34m+\u001b[0m \u001b[0;34m'/'\u001b[0m \u001b[0;34m+\u001b[0m \u001b[0mdate\u001b[0m\u001b[0;34m)\u001b[0m\u001b[0;34m\u001b[0m\u001b[0;34m\u001b[0m\u001b[0m\n\u001b[0;32m----> 3\u001b[0;31m     \u001b[0mfinal_matrix\u001b[0m \u001b[0;34m=\u001b[0m \u001b[0miterate_all_file_for_a_trial\u001b[0m\u001b[0;34m(\u001b[0m\u001b[0mtrial_info\u001b[0m\u001b[0;34m,\u001b[0m \u001b[0mabsolute_path_list\u001b[0m\u001b[0;34m,\u001b[0m \u001b[0mtrial_name\u001b[0m\u001b[0;34m,\u001b[0m \u001b[0mproject_folder_name\u001b[0m\u001b[0;34m)\u001b[0m\u001b[0;34m\u001b[0m\u001b[0;34m\u001b[0m\u001b[0m\n\u001b[0m\u001b[1;32m      4\u001b[0m     \u001b[0mcreateFolder\u001b[0m\u001b[0;34m(\u001b[0m\u001b[0mpath\u001b[0m \u001b[0;34m+\u001b[0m \u001b[0;34m'/'\u001b[0m \u001b[0;34m+\u001b[0m \u001b[0mdate\u001b[0m\u001b[0;34m)\u001b[0m\u001b[0;34m\u001b[0m\u001b[0;34m\u001b[0m\u001b[0m\n\u001b[1;32m      5\u001b[0m     \u001b[0mnp\u001b[0m\u001b[0;34m.\u001b[0m\u001b[0msave\u001b[0m\u001b[0;34m(\u001b[0m\u001b[0mtrial_name\u001b[0m \u001b[0;34m+\u001b[0m \u001b[0;34m\"_actmat\"\u001b[0m\u001b[0;34m,\u001b[0m \u001b[0mfinal_matrix\u001b[0m\u001b[0;34m)\u001b[0m\u001b[0;34m\u001b[0m\u001b[0;34m\u001b[0m\u001b[0m\n",
      "\u001b[0;32m~/Desktop/cell_assembly_script/GenzelLab_cell_assembly/ready_to_use/actmat_generate.py\u001b[0m in \u001b[0;36miterate_all_file_for_a_trial\u001b[0;34m(trial_info, absolute_path_list, trial_name, project_file_name)\u001b[0m\n\u001b[1;32m    139\u001b[0m     \u001b[0;31m# neuron_id_all = []\u001b[0m\u001b[0;34m\u001b[0m\u001b[0;34m\u001b[0m\u001b[0;34m\u001b[0m\u001b[0m\n\u001b[1;32m    140\u001b[0m     \u001b[0mprint\u001b[0m\u001b[0;34m(\u001b[0m\u001b[0;34m\"trial name is\"\u001b[0m \u001b[0;34m+\u001b[0m \u001b[0mtrial_name\u001b[0m\u001b[0;34m)\u001b[0m\u001b[0;34m\u001b[0m\u001b[0;34m\u001b[0m\u001b[0m\n\u001b[0;32m--> 141\u001b[0;31m     \u001b[0mactmat\u001b[0m\u001b[0;34m,\u001b[0m \u001b[0mneuron_id\u001b[0m \u001b[0;34m=\u001b[0m \u001b[0mget_actmat_for_a_trial\u001b[0m\u001b[0;34m(\u001b[0m\u001b[0mtrial_info\u001b[0m\u001b[0;34m,\u001b[0m \u001b[0mabsolute_path_list\u001b[0m\u001b[0;34m[\u001b[0m\u001b[0;36m0\u001b[0m\u001b[0;34m]\u001b[0m\u001b[0;34m,\u001b[0m \u001b[0mtrial_name\u001b[0m\u001b[0;34m,\u001b[0m \u001b[0mproject_file_name\u001b[0m\u001b[0;34m)\u001b[0m\u001b[0;34m\u001b[0m\u001b[0;34m\u001b[0m\u001b[0m\n\u001b[0m\u001b[1;32m    142\u001b[0m     \u001b[0;31m# neuron_id_all.append(neuron_id)\u001b[0m\u001b[0;34m\u001b[0m\u001b[0;34m\u001b[0m\u001b[0;34m\u001b[0m\u001b[0m\n\u001b[1;32m    143\u001b[0m     \u001b[0;32mfor\u001b[0m \u001b[0mpath_index\u001b[0m \u001b[0;32min\u001b[0m \u001b[0mrange\u001b[0m\u001b[0;34m(\u001b[0m\u001b[0;36m1\u001b[0m\u001b[0;34m,\u001b[0m \u001b[0mlen\u001b[0m\u001b[0;34m(\u001b[0m\u001b[0mabsolute_path_list\u001b[0m\u001b[0;34m)\u001b[0m\u001b[0;34m)\u001b[0m\u001b[0;34m:\u001b[0m\u001b[0;34m\u001b[0m\u001b[0;34m\u001b[0m\u001b[0m\n",
      "\u001b[0;32m~/Desktop/cell_assembly_script/GenzelLab_cell_assembly/ready_to_use/actmat_generate.py\u001b[0m in \u001b[0;36mget_actmat_for_a_trial\u001b[0;34m(trial_info, absolute_path, trial_name, project_file_name)\u001b[0m\n\u001b[1;32m    116\u001b[0m     \u001b[0mspike_clusters\u001b[0m\u001b[0;34m,\u001b[0m \u001b[0mspike_times\u001b[0m\u001b[0;34m,\u001b[0m \u001b[0mcluster_df\u001b[0m \u001b[0;34m=\u001b[0m \u001b[0mload_data\u001b[0m\u001b[0;34m(\u001b[0m\u001b[0;34m)\u001b[0m\u001b[0;34m\u001b[0m\u001b[0;34m\u001b[0m\u001b[0m\n\u001b[1;32m    117\u001b[0m     \u001b[0msamples_index_list\u001b[0m \u001b[0;34m=\u001b[0m \u001b[0mlist\u001b[0m\u001b[0;34m(\u001b[0m\u001b[0mtrial_info\u001b[0m\u001b[0;34m.\u001b[0m\u001b[0mloc\u001b[0m\u001b[0;34m[\u001b[0m\u001b[0;34m\"Cumulative Samples\"\u001b[0m\u001b[0;34m]\u001b[0m\u001b[0;34m)\u001b[0m\u001b[0;34m\u001b[0m\u001b[0;34m\u001b[0m\u001b[0m\n\u001b[0;32m--> 118\u001b[0;31m     \u001b[0msplit_index\u001b[0m \u001b[0;34m=\u001b[0m \u001b[0mget_split_index\u001b[0m\u001b[0;34m(\u001b[0m\u001b[0mspike_times\u001b[0m\u001b[0;34m,\u001b[0m \u001b[0msamples_index_list\u001b[0m\u001b[0;34m)\u001b[0m\u001b[0;34m\u001b[0m\u001b[0;34m\u001b[0m\u001b[0m\n\u001b[0m\u001b[1;32m    119\u001b[0m     \u001b[0mprint\u001b[0m\u001b[0;34m(\u001b[0m\u001b[0;34m\"split_index is \"\u001b[0m \u001b[0;34m+\u001b[0m \u001b[0mstr\u001b[0m\u001b[0;34m(\u001b[0m\u001b[0msplit_index\u001b[0m\u001b[0;34m)\u001b[0m\u001b[0;34m)\u001b[0m\u001b[0;34m\u001b[0m\u001b[0;34m\u001b[0m\u001b[0m\n\u001b[1;32m    120\u001b[0m     \u001b[0mtrial_dict\u001b[0m \u001b[0;34m=\u001b[0m \u001b[0msplit_trial\u001b[0m\u001b[0;34m(\u001b[0m\u001b[0mtrial_info\u001b[0m\u001b[0;34m,\u001b[0m \u001b[0mspike_times\u001b[0m\u001b[0;34m,\u001b[0m \u001b[0mspike_clusters\u001b[0m\u001b[0;34m,\u001b[0m \u001b[0msplit_index\u001b[0m\u001b[0;34m)\u001b[0m\u001b[0;34m\u001b[0m\u001b[0;34m\u001b[0m\u001b[0m\n",
      "\u001b[0;32m~/Desktop/cell_assembly_script/GenzelLab_cell_assembly/ready_to_use/actmat_generate.py\u001b[0m in \u001b[0;36mget_split_index\u001b[0;34m(spike_times, list_samples_index)\u001b[0m\n\u001b[1;32m     46\u001b[0m             \u001b[0mcut_idx\u001b[0m \u001b[0;34m=\u001b[0m \u001b[0msamples_index\u001b[0m\u001b[0;34m\u001b[0m\u001b[0;34m\u001b[0m\u001b[0m\n\u001b[1;32m     47\u001b[0m             \u001b[0;32mfor\u001b[0m \u001b[0mindex\u001b[0m \u001b[0;32min\u001b[0m \u001b[0mrange\u001b[0m\u001b[0;34m(\u001b[0m\u001b[0mlen\u001b[0m\u001b[0;34m(\u001b[0m\u001b[0mspike_times\u001b[0m\u001b[0;34m)\u001b[0m \u001b[0;34m-\u001b[0m \u001b[0;36m1\u001b[0m\u001b[0;34m)\u001b[0m\u001b[0;34m:\u001b[0m\u001b[0;34m\u001b[0m\u001b[0;34m\u001b[0m\u001b[0m\n\u001b[0;32m---> 48\u001b[0;31m                 \u001b[0;32mif\u001b[0m \u001b[0;34m(\u001b[0m\u001b[0mspike_times\u001b[0m\u001b[0;34m[\u001b[0m\u001b[0mindex\u001b[0m\u001b[0;34m]\u001b[0m \u001b[0;34m-\u001b[0m \u001b[0mcut_idx\u001b[0m\u001b[0;34m)\u001b[0m \u001b[0;34m*\u001b[0m \u001b[0;34m(\u001b[0m\u001b[0mspike_times\u001b[0m\u001b[0;34m[\u001b[0m\u001b[0mindex\u001b[0m \u001b[0;34m+\u001b[0m \u001b[0;36m1\u001b[0m\u001b[0;34m]\u001b[0m \u001b[0;34m-\u001b[0m \u001b[0mcut_idx\u001b[0m\u001b[0;34m)\u001b[0m \u001b[0;34m<=\u001b[0m \u001b[0;36m0\u001b[0m\u001b[0;34m:\u001b[0m\u001b[0;34m\u001b[0m\u001b[0;34m\u001b[0m\u001b[0m\n\u001b[0m\u001b[1;32m     49\u001b[0m                     \u001b[0msplit_index\u001b[0m\u001b[0;34m.\u001b[0m\u001b[0mappend\u001b[0m\u001b[0;34m(\u001b[0m\u001b[0mindex\u001b[0m \u001b[0;34m+\u001b[0m \u001b[0;36m1\u001b[0m\u001b[0;34m)\u001b[0m\u001b[0;34m\u001b[0m\u001b[0;34m\u001b[0m\u001b[0m\n\u001b[1;32m     50\u001b[0m     \u001b[0;32mreturn\u001b[0m \u001b[0msplit_index\u001b[0m\u001b[0;34m\u001b[0m\u001b[0;34m\u001b[0m\u001b[0m\n",
      "\u001b[0;31mKeyboardInterrupt\u001b[0m: "
     ]
    }
   ],
   "source": [
    "for trial_name in trial_name_list:\n",
    "    createFolder(path + '/' + date)\n",
    "    final_matrix = iterate_all_file_for_a_trial(trial_info, absolute_path_list, trial_name, project_folder_name)\n",
    "    createFolder(path + '/' + date)\n",
    "    np.save(trial_name + \"_actmat\", final_matrix)"
   ]
  },
  {
   "cell_type": "code",
   "execution_count": null,
   "metadata": {},
   "outputs": [],
   "source": [
    "actmat_neuron_name = get_neuron_name(trial_info, absolute_path_list, trial_name_list[0], project_folder_name )\n",
    "createFolder(path + '/' + date)\n",
    "np.save(\"actmat_neuron_name\", actmat_neuron_name)"
   ]
  },
  {
   "cell_type": "code",
   "execution_count": null,
   "metadata": {},
   "outputs": [],
   "source": []
  },
  {
   "cell_type": "code",
   "execution_count": null,
   "metadata": {},
   "outputs": [],
   "source": []
  },
  {
   "cell_type": "markdown",
   "metadata": {},
   "source": [
    "### The code below is just for test purpose, do not run it "
   ]
  },
  {
   "cell_type": "code",
   "execution_count": null,
   "metadata": {
    "scrolled": true
   },
   "outputs": [],
   "source": [
    "# spike_clusters = np.load(\"spike_clusters.npy\")\n",
    "# spike_times = np.load(\"spike_times.npy\")\n",
    "# set_neuron = set(spike_clusters)\n",
    "# for neuron_x in set_neuron:\n",
    "#     neuron_x_index =  [i for i,d in enumerate(spike_clusters) if d==neuron_x]\n",
    "#     spike_times = spike_times.flatten()\n",
    "#     neuron_x_map = (np.array([spike_times[index] for index in neuron_x_index])/750).astype(int)\n",
    "#     neuron_x_map\n",
    "\n",
    "# (np.array(spike_time_17)/750)[1]"
   ]
  },
  {
   "cell_type": "code",
   "execution_count": null,
   "metadata": {},
   "outputs": [],
   "source": []
  },
  {
   "cell_type": "code",
   "execution_count": null,
   "metadata": {},
   "outputs": [],
   "source": []
  },
  {
   "cell_type": "code",
   "execution_count": null,
   "metadata": {},
   "outputs": [],
   "source": []
  },
  {
   "cell_type": "code",
   "execution_count": null,
   "metadata": {},
   "outputs": [],
   "source": []
  },
  {
   "cell_type": "code",
   "execution_count": null,
   "metadata": {},
   "outputs": [],
   "source": []
  },
  {
   "cell_type": "code",
   "execution_count": null,
   "metadata": {},
   "outputs": [],
   "source": []
  },
  {
   "cell_type": "code",
   "execution_count": null,
   "metadata": {},
   "outputs": [],
   "source": []
  },
  {
   "cell_type": "code",
   "execution_count": null,
   "metadata": {},
   "outputs": [],
   "source": []
  },
  {
   "cell_type": "code",
   "execution_count": null,
   "metadata": {},
   "outputs": [],
   "source": []
  },
  {
   "cell_type": "code",
   "execution_count": null,
   "metadata": {},
   "outputs": [],
   "source": []
  }
 ],
 "metadata": {
  "kernelspec": {
   "display_name": "Python 3",
   "language": "python",
   "name": "python3"
  },
  "language_info": {
   "codemirror_mode": {
    "name": "ipython",
    "version": 3
   },
   "file_extension": ".py",
   "mimetype": "text/x-python",
   "name": "python",
   "nbconvert_exporter": "python",
   "pygments_lexer": "ipython3",
   "version": "3.8.10"
  }
 },
 "nbformat": 4,
 "nbformat_minor": 4
}
