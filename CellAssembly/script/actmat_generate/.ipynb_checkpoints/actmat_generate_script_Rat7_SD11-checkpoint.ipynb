{
 "cells": [
  {
   "cell_type": "code",
   "execution_count": 1,
   "metadata": {},
   "outputs": [],
   "source": [
    "from actmat_generate import *\n",
    "import os\n",
    "import pandas as pd"
   ]
  },
  {
   "cell_type": "markdown",
   "metadata": {},
   "source": [
    "### Run the following script to generate actmat matrix\n",
    "\n",
    "- Change the path into the folder where you put the Trial_durations.xls file\n",
    "- Çhange the date into actual date performing the experiment"
   ]
  },
  {
   "cell_type": "code",
   "execution_count": 2,
   "metadata": {},
   "outputs": [],
   "source": [
    "# path = \"D:\\Internship_Radbound\\Cell_assembly_yuqin\"\n",
    "path = \"/media/irene/GL14_RAT_FANO/Spikesorting/Rat_OS_Ephys_RGS14_rat7_373727/Rat_OS_Ephys_RGS14_rat7_373727_SD11_CON_05-06_03_2020/Rat_OS_Ephys_RGS14_rat7_373727_SD11_CON_05-06_03_2020_merged\"\n",
    "date = \"Rat7_SD11_CON\"\n",
    "project_folder_name = \"RGS_PROJECT_RGS14_PFC_Rn7_CON_SD11\""
   ]
  },
  {
   "cell_type": "code",
   "execution_count": null,
   "metadata": {},
   "outputs": [],
   "source": []
  },
  {
   "cell_type": "code",
   "execution_count": 3,
   "metadata": {},
   "outputs": [],
   "source": [
    "os.chdir(path)\n",
    "trial_info = pd.read_excel('Trial_durations.xls', index_col = 0)  \n",
    "trial_last_period_name = trial_info.columns[-1]\n",
    "final_samples = trial_info[trial_last_period_name][\"Cumulative Samples\"]\n",
    "samples_index_list = list(trial_info.loc[\"Cumulative Samples\"])\n",
    "fs = 30000\n",
    "#Modified the minutes and samples by removing the tail\n",
    "trial_info.loc[\"modified_minutes\"] = [45.0, 5.0, 45.0, 5.0, 45.0, 5.0, 45.0, 5.0, 45.0, 5.0, 180.0]\n",
    "trial_info.loc[\"modified_samples\"] = trial_info.loc[\"modified_minutes\"]* 60 * 30000"
   ]
  },
  {
   "cell_type": "code",
   "execution_count": null,
   "metadata": {},
   "outputs": [],
   "source": []
  },
  {
   "cell_type": "markdown",
   "metadata": {},
   "source": [
    "### Change:\n",
    "\n",
    "- absolute_path_list\n",
    "- trial_name_list\n",
    "- project_folder_name"
   ]
  },
  {
   "cell_type": "code",
   "execution_count": 4,
   "metadata": {
    "scrolled": true
   },
   "outputs": [],
   "source": [
    "absolute_path_list = [path + \"/cortex/Tetrode_6/phy_MS4\",\n",
    "                     path + \"/cortex/Tetrode_7/phy_MS4\",\n",
    "                     path + \"/cortex/Tetrode_8/phy_MS4\",\n",
    "                     path + \"/cortex/Tetrode_9/phy_AGR\",\n",
    "                     path + \"/cortex/Tetrode_11/phy_AGR\",\n",
    "                     path + \"/cortex/Tetrode_12/phy_MS4\",\n",
    "                     path + \"/cortex/Tetrode_13/phy_MS4\",\n",
    "                      path + \"/cortex/Tetrode_14/phy_AGR\",\n",
    "                     path + \"/cortex/Tetrode_15/phy_MS4\"]\n",
    "trial_name_list = list(trial_info.columns)"
   ]
  },
  {
   "cell_type": "code",
   "execution_count": 5,
   "metadata": {},
   "outputs": [],
   "source": [
    "# get_neuron_name(trial_info, absolute_path_list, trial_name_list[0], project_folder_name)"
   ]
  },
  {
   "cell_type": "code",
   "execution_count": null,
   "metadata": {},
   "outputs": [],
   "source": []
  },
  {
   "cell_type": "code",
   "execution_count": null,
   "metadata": {},
   "outputs": [
    {
     "name": "stdout",
     "output_type": "stream",
     "text": [
      "trial name isPre_sleep\n",
      "split_index is [0, 81929, 97255, 178564, 192504, 258628, 278337, 335554, 349086, 415081, 437921, 705902]\n",
      "row_index is 0\n",
      "row_index is 1\n",
      "row_index is 2\n",
      "/media/irene/GL14_RAT_FANO/Spikesorting/Rat_OS_Ephys_RGS14_rat7_373727/Rat_OS_Ephys_RGS14_rat7_373727_SD11_CON_05-06_03_2020/Rat_OS_Ephys_RGS14_rat7_373727_SD11_CON_05-06_03_2020_merged/cortex/Tetrode_7/phy_MS4\n",
      "split_index is [0, 35330, 43231, 85149, 93517, 125431, 139897, 167881, 174706, 195625, 208503, 341519]\n",
      "row_index is 0\n",
      "row_index is 1\n",
      "/media/irene/GL14_RAT_FANO/Spikesorting/Rat_OS_Ephys_RGS14_rat7_373727/Rat_OS_Ephys_RGS14_rat7_373727_SD11_CON_05-06_03_2020/Rat_OS_Ephys_RGS14_rat7_373727_SD11_CON_05-06_03_2020_merged/cortex/Tetrode_8/phy_MS4\n",
      "split_index is [0, 191140, 217856, 396739, 422154, 562439, 593524, 717338, 740689, 861225, 889269, 1444542]\n",
      "row_index is 0\n",
      "row_index is 1\n",
      "row_index is 2\n",
      "row_index is 3\n",
      "/media/irene/GL14_RAT_FANO/Spikesorting/Rat_OS_Ephys_RGS14_rat7_373727/Rat_OS_Ephys_RGS14_rat7_373727_SD11_CON_05-06_03_2020/Rat_OS_Ephys_RGS14_rat7_373727_SD11_CON_05-06_03_2020_merged/cortex/Tetrode_9/phy_AGR\n",
      "split_index is [0, 142924, 173428, 330755, 365022, 529146, 556250, 707793, 735183, 883871, 911449, 1599100]\n",
      "row_index is 0\n",
      "row_index is 1\n",
      "row_index is 2\n",
      "row_index is 3\n",
      "/media/irene/GL14_RAT_FANO/Spikesorting/Rat_OS_Ephys_RGS14_rat7_373727/Rat_OS_Ephys_RGS14_rat7_373727_SD11_CON_05-06_03_2020/Rat_OS_Ephys_RGS14_rat7_373727_SD11_CON_05-06_03_2020_merged/cortex/Tetrode_11/phy_AGR\n",
      "split_index is [0, 5615, 5976, 12538, 12927, 18248, 18342, 20627, 20780, 22387, 22481, 30904]\n",
      "row_index is 0\n",
      "/media/irene/GL14_RAT_FANO/Spikesorting/Rat_OS_Ephys_RGS14_rat7_373727/Rat_OS_Ephys_RGS14_rat7_373727_SD11_CON_05-06_03_2020/Rat_OS_Ephys_RGS14_rat7_373727_SD11_CON_05-06_03_2020_merged/cortex/Tetrode_12/phy_MS4\n",
      "split_index is [0, 111372, 130103, 259977, 279525, 388381, 410940, 498937, 521479, 605431, 632229, 1030570]\n",
      "row_index is 0\n",
      "row_index is 1\n",
      "row_index is 2\n",
      "row_index is 3\n",
      "/media/irene/GL14_RAT_FANO/Spikesorting/Rat_OS_Ephys_RGS14_rat7_373727/Rat_OS_Ephys_RGS14_rat7_373727_SD11_CON_05-06_03_2020/Rat_OS_Ephys_RGS14_rat7_373727_SD11_CON_05-06_03_2020_merged/cortex/Tetrode_13/phy_MS4\n",
      "split_index is [0, 127807, 146212, 269546, 288499, 403372, 428557, 522306, 540806, 628805, 654315, 1076212]\n",
      "row_index is 0\n",
      "row_index is 1\n",
      "row_index is 2\n",
      "row_index is 3\n",
      "/media/irene/GL14_RAT_FANO/Spikesorting/Rat_OS_Ephys_RGS14_rat7_373727/Rat_OS_Ephys_RGS14_rat7_373727_SD11_CON_05-06_03_2020/Rat_OS_Ephys_RGS14_rat7_373727_SD11_CON_05-06_03_2020_merged/cortex/Tetrode_14/phy_AGR\n",
      "split_index is [0, 75208, 78125, 138597, 142310, 195228, 197199, 231722, 233673, 268210, 270468, 424430]\n",
      "row_index is 0\n",
      "row_index is 1\n",
      "row_index is 2\n",
      "row_index is 3\n",
      "row_index is 4\n",
      "row_index is 5\n",
      "row_index is 6\n",
      "row_index is 7\n",
      "row_index is 8\n",
      "row_index is 9\n",
      "row_index is 10\n",
      "/media/irene/GL14_RAT_FANO/Spikesorting/Rat_OS_Ephys_RGS14_rat7_373727/Rat_OS_Ephys_RGS14_rat7_373727_SD11_CON_05-06_03_2020/Rat_OS_Ephys_RGS14_rat7_373727_SD11_CON_05-06_03_2020_merged/cortex/Tetrode_15/phy_MS4\n",
      "split_index is [0, 86899, 101782, 193476, 208430, 281246, 302260, 368981, 382421, 435896, 454880, 735845]\n",
      "row_index is 0\n",
      "row_index is 1\n",
      "row_index is 2\n",
      "trial name isTrial1\n",
      "split_index is [0, 81929, 97255, 178564, 192504, 258628, 278337, 335554, 349086, 415081, 437921, 705902]\n",
      "row_index is 0\n",
      "row_index is 1\n",
      "row_index is 2\n",
      "/media/irene/GL14_RAT_FANO/Spikesorting/Rat_OS_Ephys_RGS14_rat7_373727/Rat_OS_Ephys_RGS14_rat7_373727_SD11_CON_05-06_03_2020/Rat_OS_Ephys_RGS14_rat7_373727_SD11_CON_05-06_03_2020_merged/cortex/Tetrode_7/phy_MS4\n"
     ]
    }
   ],
   "source": [
    "for trial_name in trial_name_list:\n",
    "    createFolder(path + '/' + date)\n",
    "    final_matrix = iterate_all_file_for_a_trial(trial_info, absolute_path_list, trial_name, project_folder_name)\n",
    "    createFolder(path + '/' + date)\n",
    "    np.save(trial_name + \"_actmat\", final_matrix)"
   ]
  },
  {
   "cell_type": "code",
   "execution_count": null,
   "metadata": {},
   "outputs": [],
   "source": [
    "actmat_neuron_name = get_neuron_name(trial_info, absolute_path_list, trial_name_list[0], project_folder_name )\n",
    "createFolder(path + '/' + date)\n",
    "np.save(\"actmat_neuron_name\", actmat_neuron_name)"
   ]
  },
  {
   "cell_type": "code",
   "execution_count": null,
   "metadata": {},
   "outputs": [],
   "source": []
  },
  {
   "cell_type": "code",
   "execution_count": null,
   "metadata": {},
   "outputs": [],
   "source": []
  },
  {
   "cell_type": "markdown",
   "metadata": {},
   "source": [
    "### The code below is just for test purpose, do not run it "
   ]
  },
  {
   "cell_type": "code",
   "execution_count": null,
   "metadata": {
    "scrolled": true
   },
   "outputs": [],
   "source": [
    "# spike_clusters = np.load(\"spike_clusters.npy\")\n",
    "# spike_times = np.load(\"spike_times.npy\")\n",
    "# set_neuron = set(spike_clusters)\n",
    "# for neuron_x in set_neuron:\n",
    "#     neuron_x_index =  [i for i,d in enumerate(spike_clusters) if d==neuron_x]\n",
    "#     spike_times = spike_times.flatten()\n",
    "#     neuron_x_map = (np.array([spike_times[index] for index in neuron_x_index])/750).astype(int)\n",
    "#     neuron_x_map\n",
    "\n",
    "# (np.array(spike_time_17)/750)[1]"
   ]
  },
  {
   "cell_type": "code",
   "execution_count": null,
   "metadata": {},
   "outputs": [],
   "source": []
  }
 ],
 "metadata": {
  "kernelspec": {
   "display_name": "Python 3",
   "language": "python",
   "name": "python3"
  },
  "language_info": {
   "codemirror_mode": {
    "name": "ipython",
    "version": 3
   },
   "file_extension": ".py",
   "mimetype": "text/x-python",
   "name": "python",
   "nbconvert_exporter": "python",
   "pygments_lexer": "ipython3",
   "version": "3.8.10"
  }
 },
 "nbformat": 4,
 "nbformat_minor": 4
}
