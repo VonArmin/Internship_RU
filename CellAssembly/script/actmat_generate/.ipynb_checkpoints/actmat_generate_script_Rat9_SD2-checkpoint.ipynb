{
 "cells": [
  {
   "cell_type": "code",
   "execution_count": 1,
   "metadata": {},
   "outputs": [],
   "source": [
    "from actmat_generate import *\n",
    "import os\n",
    "import pandas as pd"
   ]
  },
  {
   "cell_type": "markdown",
   "metadata": {},
   "source": [
    "### Run the following script to generate actmat matrix\n",
    "\n",
    "- Change the path into the folder where you put the Trial_durations.xls file\n",
    "- Çhange the date into actual date performing the experiment"
   ]
  },
  {
   "cell_type": "code",
   "execution_count": 2,
   "metadata": {},
   "outputs": [],
   "source": [
    "# path = \"D:\\Internship_Radbound\\Cell_assembly_yuqin\"\n",
    "path = \"/media/irene/Rat9/Spike_sorting/OS_Ephys_RGS14_Rat9_378134_SD2_CON_30_04-01_05_2020/OS_Ephys_RGS14_Rat9_378134_SD2_CON_30_04-01_05_2020_merged\"\n",
    "date = \"Rat9_SD2_CON_30_04_2020\"\n",
    "project_folder_name = \"RGS_PROJECT_RGS14_CON_Rn9_SD2\""
   ]
  },
  {
   "cell_type": "code",
   "execution_count": 3,
   "metadata": {},
   "outputs": [],
   "source": [
    "os.chdir(path)\n",
    "trial_info = pd.read_excel('Trial_durations.xls', index_col = 0)  \n",
    "final_samples = trial_info[\"Post_Trial5\"][\"Cumulative Samples\"]\n",
    "samples_index_list = list(trial_info.loc[\"Cumulative Samples\"])\n",
    "fs = 30000\n",
    "#Modified the minutes and samples by removing the tail\n",
    "trial_info.loc[\"modified_minutes\"] = [45.0, 5.0, 45.0, 5.0, 45.0, 5.0, 45.0, 5.0, 45.0, 5.0, 180.0]\n",
    "trial_info.loc[\"modified_samples\"] = trial_info.loc[\"modified_minutes\"]* 60 * 30000"
   ]
  },
  {
   "cell_type": "markdown",
   "metadata": {},
   "source": [
    "### Change:\n",
    "\n",
    "- absolute_path_list\n",
    "- trial_name_list\n",
    "- project_folder_name"
   ]
  },
  {
   "cell_type": "code",
   "execution_count": 4,
   "metadata": {
    "scrolled": true
   },
   "outputs": [],
   "source": [
    "absolute_path_list = [path + \"/cortex/Tetrode_6/phy_AGR\",\n",
    "                     path + \"/cortex/Tetrode_7/phy_AGR\",\n",
    "                     path + \"/cortex/Tetrode_8/phy_AGR\",\n",
    "                     path + \"/cortex/Tetrode_9/phy_MS4\",\n",
    "                     path + \"/cortex/Tetrode_10/phy_MS4\",\n",
    "                     path + \"/cortex/Tetrode_11/phy_MS4\",\n",
    "                     path + \"/cortex/Tetrode_12/phy_AGR\",\n",
    "                     path + \"/cortex/Tetrode_14/phy_MS4\",\n",
    "                     path + \"/cortex/Tetrode_15/phy_AGR\"]\n",
    "trial_name_list = list(trial_info.columns)"
   ]
  },
  {
   "cell_type": "code",
   "execution_count": 5,
   "metadata": {},
   "outputs": [],
   "source": [
    "# get_neuron_name(trial_info, absolute_path_list, trial_name_list[0], project_folder_name)"
   ]
  },
  {
   "cell_type": "code",
   "execution_count": null,
   "metadata": {},
   "outputs": [],
   "source": []
  },
  {
   "cell_type": "code",
   "execution_count": 6,
   "metadata": {},
   "outputs": [],
   "source": [
    "for trial_name in trial_name_list:\n",
    "    createFolder(path + '/' + date)\n",
    "    final_matrix = iterate_all_file_for_a_trial(trial_info, absolute_path_list, trial_name, project_folder_name)\n",
    "    createFolder(path + '/' + date)\n",
    "    np.save(trial_name + \"_actmat\", final_matrix)"
   ]
  },
  {
   "cell_type": "code",
   "execution_count": 7,
   "metadata": {},
   "outputs": [],
   "source": [
    "actmat_neuron_name = get_neuron_name(trial_info, absolute_path_list, trial_name_list[0], project_folder_name )\n",
    "createFolder(path + '/' + date)\n",
    "np.save(\"actmat_neuron_name\", actmat_neuron_name)"
   ]
  },
  {
   "cell_type": "code",
   "execution_count": null,
   "metadata": {},
   "outputs": [],
   "source": []
  },
  {
   "cell_type": "code",
   "execution_count": null,
   "metadata": {},
   "outputs": [],
   "source": []
  },
  {
   "cell_type": "markdown",
   "metadata": {},
   "source": [
    "### The code below is just for test purpose, do not run it "
   ]
  },
  {
   "cell_type": "code",
   "execution_count": 8,
   "metadata": {
    "scrolled": true
   },
   "outputs": [],
   "source": [
    "# spike_clusters = np.load(\"spike_clusters.npy\")\n",
    "# spike_times = np.load(\"spike_times.npy\")\n",
    "# set_neuron = set(spike_clusters)\n",
    "# for neuron_x in set_neuron:\n",
    "#     neuron_x_index =  [i for i,d in enumerate(spike_clusters) if d==neuron_x]\n",
    "#     spike_times = spike_times.flatten()\n",
    "#     neuron_x_map = (np.array([spike_times[index] for index in neuron_x_index])/750).astype(int)\n",
    "#     neuron_x_map\n",
    "\n",
    "# (np.array(spike_time_17)/750)[1]"
   ]
  },
  {
   "cell_type": "code",
   "execution_count": null,
   "metadata": {},
   "outputs": [],
   "source": []
  }
 ],
 "metadata": {
  "kernelspec": {
   "display_name": "Python 3",
   "language": "python",
   "name": "python3"
  },
  "language_info": {
   "codemirror_mode": {
    "name": "ipython",
    "version": 3
   },
   "file_extension": ".py",
   "mimetype": "text/x-python",
   "name": "python",
   "nbconvert_exporter": "python",
   "pygments_lexer": "ipython3",
   "version": "3.8.10"
  }
 },
 "nbformat": 4,
 "nbformat_minor": 4
}
