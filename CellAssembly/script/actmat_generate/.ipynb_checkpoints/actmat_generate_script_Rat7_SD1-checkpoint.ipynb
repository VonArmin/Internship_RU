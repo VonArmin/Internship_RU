{
 "cells": [
  {
   "cell_type": "code",
   "execution_count": 1,
   "metadata": {},
   "outputs": [],
   "source": [
    "from actmat_generate import *\n",
    "import os\n",
    "import pandas as pd"
   ]
  },
  {
   "cell_type": "markdown",
   "metadata": {},
   "source": [
    "### Run the following script to generate actmat matrix\n",
    "\n",
    "- Change the path into the folder where you put the Trial_durations.xls file\n",
    "- Çhange the date into actual date performing the experiment"
   ]
  },
  {
   "cell_type": "code",
   "execution_count": 2,
   "metadata": {},
   "outputs": [],
   "source": [
    "# path = \"D:\\Internship_Radbound\\Cell_assembly_yuqin\"\n",
    "path = \"/media/irene/GL14_RAT_FANO/Spikesorting/Rat_OS_Ephys_RGS14_rat7_373727/Rat_OS_Ephys_RGS14_rat7_373727_SD1_HC_01-02-2020/Rat_OS_Ephys_RGS14_rat7_373727_SD1_HC_01-02-2020_merged\"\n",
    "date = \"Rat7_SD1_HC\"\n",
    "project_folder_name = \"RGS_PROJECT_RGS14_PFC_Rn7_HC_SD1\""
   ]
  },
  {
   "cell_type": "code",
   "execution_count": null,
   "metadata": {},
   "outputs": [],
   "source": []
  },
  {
   "cell_type": "code",
   "execution_count": 3,
   "metadata": {},
   "outputs": [],
   "source": [
    "os.chdir(path)\n",
    "trial_info = pd.read_excel('Trial_durations.xls', index_col = 0)  \n",
    "trial_last_period_name = trial_info.columns[-1]\n",
    "final_samples = trial_info[trial_last_period_name][\"Cumulative Samples\"]\n",
    "samples_index_list = list(trial_info.loc[\"Cumulative Samples\"])\n",
    "fs = 30000\n",
    "#Modified the minutes and samples by removing the tail\n",
    "trial_info.loc[\"modified_minutes\"] = [45.0, 5.0, 45.0, 5.0, 45.0, 5.0, 45.0, 5.0, 45.0, 5.0, 180.0]\n",
    "trial_info.loc[\"modified_samples\"] = trial_info.loc[\"modified_minutes\"]* 60 * 30000"
   ]
  },
  {
   "cell_type": "code",
   "execution_count": null,
   "metadata": {},
   "outputs": [],
   "source": []
  },
  {
   "cell_type": "markdown",
   "metadata": {},
   "source": [
    "### Change:\n",
    "\n",
    "- absolute_path_list\n",
    "- trial_name_list\n",
    "- project_folder_name"
   ]
  },
  {
   "cell_type": "code",
   "execution_count": 4,
   "metadata": {
    "scrolled": true
   },
   "outputs": [],
   "source": [
    "absolute_path_list = [path + \"/cortex/Tetrode_6/phy_MS4\",\n",
    "                     path + \"/cortex/Tetrode_7/phy_MS4\",\n",
    "                     path + \"/cortex/Tetrode_8/phy_MS4\",\n",
    "                     path + \"/cortex/Tetrode_9/phy_MS4\",\n",
    "                     path + \"/cortex/Tetrode_11/phy_AGR\",\n",
    "                     path + \"/cortex/Tetrode_12/phy_MS4\",\n",
    "                     path + \"/cortex/Tetrode_13/phy_MS4\",\n",
    "                      path + \"/cortex/Tetrode_14/phy_MS4\",\n",
    "                     path + \"/cortex/Tetrode_15/phy_MS4\"]\n",
    "trial_name_list = list(trial_info.columns)"
   ]
  },
  {
   "cell_type": "code",
   "execution_count": 5,
   "metadata": {},
   "outputs": [],
   "source": [
    "# get_neuron_name(trial_info, absolute_path_list, trial_name_list[0], project_folder_name)"
   ]
  },
  {
   "cell_type": "code",
   "execution_count": null,
   "metadata": {},
   "outputs": [],
   "source": []
  },
  {
   "cell_type": "code",
   "execution_count": null,
   "metadata": {},
   "outputs": [
    {
     "name": "stdout",
     "output_type": "stream",
     "text": [
      "trial name is2020-02-01_11-43-22_Pre-sleep\n",
      "split_index is [0, 244528, 270949, 439204, 456740, 608269, 626863, 709032, 735118, 837499, 869375, 1559500]\n",
      "row_index is 0\n",
      "row_index is 1\n",
      "row_index is 2\n",
      "/media/irene/GL14_RAT_FANO/Spikesorting/Rat_OS_Ephys_RGS14_rat7_373727/Rat_OS_Ephys_RGS14_rat7_373727_SD1_HC_01-02-2020/Rat_OS_Ephys_RGS14_rat7_373727_SD1_HC_01-02-2020_merged/cortex/Tetrode_7/phy_MS4\n",
      "split_index is [0, 213565, 236182, 370699, 385303, 503075, 518884, 556958, 577628, 634496, 663985, 1174119]\n",
      "row_index is 0\n",
      "row_index is 1\n",
      "/media/irene/GL14_RAT_FANO/Spikesorting/Rat_OS_Ephys_RGS14_rat7_373727/Rat_OS_Ephys_RGS14_rat7_373727_SD1_HC_01-02-2020/Rat_OS_Ephys_RGS14_rat7_373727_SD1_HC_01-02-2020_merged/cortex/Tetrode_8/phy_MS4\n",
      "split_index is [0, 314019, 349394, 576402, 599279, 784204, 808583, 924507, 954353, 1099400, 1137740, 2052813]\n",
      "row_index is 0\n",
      "row_index is 1\n",
      "row_index is 2\n",
      "row_index is 3\n",
      "/media/irene/GL14_RAT_FANO/Spikesorting/Rat_OS_Ephys_RGS14_rat7_373727/Rat_OS_Ephys_RGS14_rat7_373727_SD1_HC_01-02-2020/Rat_OS_Ephys_RGS14_rat7_373727_SD1_HC_01-02-2020_merged/cortex/Tetrode_9/phy_MS4\n",
      "split_index is [0, 360412, 398403, 670783, 694052, 906803, 932429, 1078073, 1103503, 1253515, 1287013, 2104031]\n",
      "row_index is 0\n",
      "row_index is 1\n",
      "row_index is 2\n",
      "row_index is 3\n",
      "/media/irene/GL14_RAT_FANO/Spikesorting/Rat_OS_Ephys_RGS14_rat7_373727/Rat_OS_Ephys_RGS14_rat7_373727_SD1_HC_01-02-2020/Rat_OS_Ephys_RGS14_rat7_373727_SD1_HC_01-02-2020_merged/cortex/Tetrode_11/phy_AGR\n",
      "split_index is [0, 9101, 10227, 15091, 15948, 20793, 21490, 25111, 26931, 30705, 31635, 79129]\n",
      "row_index is 0\n",
      "row_index is 1\n",
      "row_index is 2\n",
      "row_index is 3\n",
      "row_index is 4\n",
      "row_index is 5\n",
      "row_index is 6\n",
      "row_index is 7\n",
      "row_index is 8\n",
      "/media/irene/GL14_RAT_FANO/Spikesorting/Rat_OS_Ephys_RGS14_rat7_373727/Rat_OS_Ephys_RGS14_rat7_373727_SD1_HC_01-02-2020/Rat_OS_Ephys_RGS14_rat7_373727_SD1_HC_01-02-2020_merged/cortex/Tetrode_12/phy_MS4\n",
      "split_index is [0, 293245, 323875, 537088, 560703, 755693, 781204, 903736, 935263, 1089166, 1127798, 2053767]\n",
      "row_index is 0\n",
      "row_index is 1\n",
      "row_index is 2\n",
      "row_index is 3\n",
      "/media/irene/GL14_RAT_FANO/Spikesorting/Rat_OS_Ephys_RGS14_rat7_373727/Rat_OS_Ephys_RGS14_rat7_373727_SD1_HC_01-02-2020/Rat_OS_Ephys_RGS14_rat7_373727_SD1_HC_01-02-2020_merged/cortex/Tetrode_13/phy_MS4\n",
      "split_index is [0, 266567, 297989, 513708, 530700, 695199, 716104, 813597, 842192, 958656, 994894, 1801702]\n",
      "row_index is 0\n",
      "row_index is 1\n",
      "row_index is 2\n",
      "row_index is 3\n",
      "/media/irene/GL14_RAT_FANO/Spikesorting/Rat_OS_Ephys_RGS14_rat7_373727/Rat_OS_Ephys_RGS14_rat7_373727_SD1_HC_01-02-2020/Rat_OS_Ephys_RGS14_rat7_373727_SD1_HC_01-02-2020_merged/cortex/Tetrode_14/phy_MS4\n",
      "split_index is [0, 219250, 240570, 373003, 386400, 503355, 520323, 591116, 616856, 712368, 747924, 1582108]\n"
     ]
    }
   ],
   "source": [
    "for trial_name in trial_name_list:\n",
    "    createFolder(path + '/' + date)\n",
    "    final_matrix = iterate_all_file_for_a_trial(trial_info, absolute_path_list, trial_name, project_folder_name)\n",
    "    createFolder(path + '/' + date)\n",
    "    np.save(trial_name + \"_actmat\", final_matrix)"
   ]
  },
  {
   "cell_type": "code",
   "execution_count": null,
   "metadata": {},
   "outputs": [],
   "source": [
    "actmat_neuron_name = get_neuron_name(trial_info, absolute_path_list, trial_name_list[0], project_folder_name )\n",
    "createFolder(path + '/' + date)\n",
    "np.save(\"actmat_neuron_name\", actmat_neuron_name)"
   ]
  },
  {
   "cell_type": "code",
   "execution_count": null,
   "metadata": {},
   "outputs": [],
   "source": []
  },
  {
   "cell_type": "code",
   "execution_count": null,
   "metadata": {},
   "outputs": [],
   "source": []
  },
  {
   "cell_type": "markdown",
   "metadata": {},
   "source": [
    "### The code below is just for test purpose, do not run it "
   ]
  },
  {
   "cell_type": "code",
   "execution_count": null,
   "metadata": {
    "scrolled": true
   },
   "outputs": [],
   "source": [
    "# spike_clusters = np.load(\"spike_clusters.npy\")\n",
    "# spike_times = np.load(\"spike_times.npy\")\n",
    "# set_neuron = set(spike_clusters)\n",
    "# for neuron_x in set_neuron:\n",
    "#     neuron_x_index =  [i for i,d in enumerate(spike_clusters) if d==neuron_x]\n",
    "#     spike_times = spike_times.flatten()\n",
    "#     neuron_x_map = (np.array([spike_times[index] for index in neuron_x_index])/750).astype(int)\n",
    "#     neuron_x_map\n",
    "\n",
    "# (np.array(spike_time_17)/750)[1]"
   ]
  },
  {
   "cell_type": "code",
   "execution_count": null,
   "metadata": {},
   "outputs": [],
   "source": []
  }
 ],
 "metadata": {
  "kernelspec": {
   "display_name": "Python 3",
   "language": "python",
   "name": "python3"
  },
  "language_info": {
   "codemirror_mode": {
    "name": "ipython",
    "version": 3
   },
   "file_extension": ".py",
   "mimetype": "text/x-python",
   "name": "python",
   "nbconvert_exporter": "python",
   "pygments_lexer": "ipython3",
   "version": "3.8.10"
  }
 },
 "nbformat": 4,
 "nbformat_minor": 4
}
