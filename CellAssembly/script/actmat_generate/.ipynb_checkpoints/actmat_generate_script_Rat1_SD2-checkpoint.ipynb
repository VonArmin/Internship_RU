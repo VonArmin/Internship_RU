{
 "cells": [
  {
   "cell_type": "code",
   "execution_count": 1,
   "metadata": {},
   "outputs": [],
   "source": [
    "from actmat_generate import *\n",
    "import os\n",
    "import pandas as pd"
   ]
  },
  {
   "cell_type": "markdown",
   "metadata": {},
   "source": [
    "### Run the following script to generate actmat matrix\n",
    "\n",
    "- Change the path into the folder where you put the Trial_durations.xls file\n",
    "- Çhange the date into actual date performing the experiment"
   ]
  },
  {
   "cell_type": "code",
   "execution_count": 2,
   "metadata": {},
   "outputs": [],
   "source": [
    "# path = \"D:\\Internship_Radbound\\Cell_assembly_yuqin\"\n",
    "path = \"/media/irene/GL04_RAT_HOMER_2/Spike_sorting/Rat_OS_Ephys_RGS14_Rat1_57986/Rat_OS_Ephys_RGS14_Rat1_57986_SD1_CON_26-27_07_2018/Rat_OS_Ephys_RGS14_Rat1_57986_SD1_CON_26-27_07_2018_merged\"\n",
    "date = \"Rat1_SD1_CON_26_07_2018\"\n",
    "project_folder_name = \"RGS_PROJECT_RGS14_CON_Rn1_SD1_T\""
   ]
  },
  {
   "cell_type": "code",
   "execution_count": 5,
   "metadata": {},
   "outputs": [],
   "source": [
    "os.chdir(path)\n",
    "trial_info = pd.read_excel('Trial_durations.xls', index_col = 0)  \n",
    "final_samples = trial_info[\"2018-07-26_14-30-37_Post-Trial5\"][\"Cumulative Samples\"]\n",
    "samples_index_list = list(trial_info.loc[\"Cumulative Samples\"])\n",
    "fs = 30000\n",
    "#Modified the minutes and samples by removing the tail\n",
    "trial_info.loc[\"modified_minutes\"] = [45.0, 5.0, 45.0, 5.0, 45.0, 5.0, 45.0, 5.0, 45.0, 5.0, 180.0]\n",
    "trial_info.loc[\"modified_samples\"] = trial_info.loc[\"modified_minutes\"]* 60 * 30000"
   ]
  },
  {
   "cell_type": "code",
   "execution_count": null,
   "metadata": {},
   "outputs": [],
   "source": []
  },
  {
   "cell_type": "markdown",
   "metadata": {},
   "source": [
    "### Change:\n",
    "\n",
    "- absolute_path_list\n",
    "- trial_name_list\n",
    "- project_folder_name"
   ]
  },
  {
   "cell_type": "code",
   "execution_count": 7,
   "metadata": {
    "scrolled": true
   },
   "outputs": [],
   "source": [
    "absolute_path_list = [path + \"/cortex/Tetrode_9/phy_MS4\",\n",
    "                     path + \"/cortex/Tetrode_10/phy_AGR\",\n",
    "                     path + \"/cortex/Tetrode_11/phy_MS4\",\n",
    "                     path + \"/cortex/Tetrode_12/phy_AGR\",\n",
    "                     path + \"/cortex/Tetrode_13/phy_MS4\",\n",
    "                     path + \"/cortex/Tetrode_14/phy_MS4\",\n",
    "                     path + \"/cortex/Tetrode_15/phy_AGR\"]\n",
    "trial_name_list = list(trial_info.columns)"
   ]
  },
  {
   "cell_type": "code",
   "execution_count": 8,
   "metadata": {},
   "outputs": [],
   "source": [
    "# get_neuron_name(trial_info, absolute_path_list, trial_name_list[0], project_folder_name)"
   ]
  },
  {
   "cell_type": "code",
   "execution_count": null,
   "metadata": {},
   "outputs": [],
   "source": []
  },
  {
   "cell_type": "code",
   "execution_count": 9,
   "metadata": {},
   "outputs": [
    {
     "ename": "FileNotFoundError",
     "evalue": "[Errno 2] No such file or directory: '/media/irene/GL04_RAT_HOMER_2/Spike_sorting/Rat_OS_Ephys_RGS14_Rat1_57986/Rat_OS_Ephys_RGS14_Rat1_57986_SD1_CON_26-27_07_2018/Rat_OS_Ephys_RGS14_Rat1_57986_SD1_CON_26-27_07_2018_merged/cortex/Tetrode_6/phy_AGR'",
     "output_type": "error",
     "traceback": [
      "\u001b[0;31m---------------------------------------------------------------------------\u001b[0m",
      "\u001b[0;31mFileNotFoundError\u001b[0m                         Traceback (most recent call last)",
      "\u001b[0;32m<ipython-input-9-7a09272bb48c>\u001b[0m in \u001b[0;36m<module>\u001b[0;34m\u001b[0m\n\u001b[1;32m      1\u001b[0m \u001b[0;32mfor\u001b[0m \u001b[0mtrial_name\u001b[0m \u001b[0;32min\u001b[0m \u001b[0mtrial_name_list\u001b[0m\u001b[0;34m:\u001b[0m\u001b[0;34m\u001b[0m\u001b[0;34m\u001b[0m\u001b[0m\n\u001b[1;32m      2\u001b[0m     \u001b[0mcreateFolder\u001b[0m\u001b[0;34m(\u001b[0m\u001b[0mpath\u001b[0m \u001b[0;34m+\u001b[0m \u001b[0;34m'/'\u001b[0m \u001b[0;34m+\u001b[0m \u001b[0mdate\u001b[0m\u001b[0;34m)\u001b[0m\u001b[0;34m\u001b[0m\u001b[0;34m\u001b[0m\u001b[0m\n\u001b[0;32m----> 3\u001b[0;31m     \u001b[0mfinal_matrix\u001b[0m \u001b[0;34m=\u001b[0m \u001b[0miterate_all_file_for_a_trial\u001b[0m\u001b[0;34m(\u001b[0m\u001b[0mtrial_info\u001b[0m\u001b[0;34m,\u001b[0m \u001b[0mabsolute_path_list\u001b[0m\u001b[0;34m,\u001b[0m \u001b[0mtrial_name\u001b[0m\u001b[0;34m,\u001b[0m \u001b[0mproject_folder_name\u001b[0m\u001b[0;34m)\u001b[0m\u001b[0;34m\u001b[0m\u001b[0;34m\u001b[0m\u001b[0m\n\u001b[0m\u001b[1;32m      4\u001b[0m     \u001b[0mcreateFolder\u001b[0m\u001b[0;34m(\u001b[0m\u001b[0mpath\u001b[0m \u001b[0;34m+\u001b[0m \u001b[0;34m'/'\u001b[0m \u001b[0;34m+\u001b[0m \u001b[0mdate\u001b[0m\u001b[0;34m)\u001b[0m\u001b[0;34m\u001b[0m\u001b[0;34m\u001b[0m\u001b[0m\n\u001b[1;32m      5\u001b[0m     \u001b[0mnp\u001b[0m\u001b[0;34m.\u001b[0m\u001b[0msave\u001b[0m\u001b[0;34m(\u001b[0m\u001b[0mtrial_name\u001b[0m \u001b[0;34m+\u001b[0m \u001b[0;34m\"_actmat\"\u001b[0m\u001b[0;34m,\u001b[0m \u001b[0mfinal_matrix\u001b[0m\u001b[0;34m)\u001b[0m\u001b[0;34m\u001b[0m\u001b[0;34m\u001b[0m\u001b[0m\n",
      "\u001b[0;32m~/Desktop/cell_assembly_script/GenzelLab_cell_assembly/ready_to_use/actmat_generate.py\u001b[0m in \u001b[0;36miterate_all_file_for_a_trial\u001b[0;34m(trial_info, absolute_path_list, trial_name, project_file_name)\u001b[0m\n\u001b[1;32m    126\u001b[0m \u001b[0;32mdef\u001b[0m \u001b[0miterate_all_file_for_a_trial\u001b[0m\u001b[0;34m(\u001b[0m\u001b[0mtrial_info\u001b[0m\u001b[0;34m,\u001b[0m \u001b[0mabsolute_path_list\u001b[0m\u001b[0;34m,\u001b[0m \u001b[0mtrial_name\u001b[0m\u001b[0;34m,\u001b[0m \u001b[0mproject_file_name\u001b[0m\u001b[0;34m)\u001b[0m\u001b[0;34m:\u001b[0m\u001b[0;34m\u001b[0m\u001b[0;34m\u001b[0m\u001b[0m\n\u001b[1;32m    127\u001b[0m     \u001b[0;31m# neuron_id_all = []\u001b[0m\u001b[0;34m\u001b[0m\u001b[0;34m\u001b[0m\u001b[0;34m\u001b[0m\u001b[0m\n\u001b[0;32m--> 128\u001b[0;31m     \u001b[0mactmat\u001b[0m\u001b[0;34m,\u001b[0m \u001b[0mneuron_id\u001b[0m \u001b[0;34m=\u001b[0m \u001b[0mget_actmat_for_a_trial\u001b[0m\u001b[0;34m(\u001b[0m\u001b[0mtrial_info\u001b[0m\u001b[0;34m,\u001b[0m \u001b[0mabsolute_path_list\u001b[0m\u001b[0;34m[\u001b[0m\u001b[0;36m0\u001b[0m\u001b[0;34m]\u001b[0m\u001b[0;34m,\u001b[0m \u001b[0mtrial_name\u001b[0m\u001b[0;34m,\u001b[0m \u001b[0mproject_file_name\u001b[0m\u001b[0;34m)\u001b[0m\u001b[0;34m\u001b[0m\u001b[0;34m\u001b[0m\u001b[0m\n\u001b[0m\u001b[1;32m    129\u001b[0m     \u001b[0;31m# neuron_id_all.append(neuron_id)\u001b[0m\u001b[0;34m\u001b[0m\u001b[0;34m\u001b[0m\u001b[0;34m\u001b[0m\u001b[0m\n\u001b[1;32m    130\u001b[0m     \u001b[0;32mfor\u001b[0m \u001b[0mpath_index\u001b[0m \u001b[0;32min\u001b[0m \u001b[0mrange\u001b[0m\u001b[0;34m(\u001b[0m\u001b[0;36m1\u001b[0m\u001b[0;34m,\u001b[0m \u001b[0mlen\u001b[0m\u001b[0;34m(\u001b[0m\u001b[0mabsolute_path_list\u001b[0m\u001b[0;34m)\u001b[0m\u001b[0;34m)\u001b[0m\u001b[0;34m:\u001b[0m\u001b[0;34m\u001b[0m\u001b[0;34m\u001b[0m\u001b[0m\n",
      "\u001b[0;32m~/Desktop/cell_assembly_script/GenzelLab_cell_assembly/ready_to_use/actmat_generate.py\u001b[0m in \u001b[0;36mget_actmat_for_a_trial\u001b[0;34m(trial_info, absolute_path, trial_name, project_file_name)\u001b[0m\n\u001b[1;32m    103\u001b[0m \u001b[0;34m\u001b[0m\u001b[0m\n\u001b[1;32m    104\u001b[0m \u001b[0;32mdef\u001b[0m \u001b[0mget_actmat_for_a_trial\u001b[0m\u001b[0;34m(\u001b[0m\u001b[0mtrial_info\u001b[0m\u001b[0;34m,\u001b[0m \u001b[0mabsolute_path\u001b[0m\u001b[0;34m,\u001b[0m \u001b[0mtrial_name\u001b[0m\u001b[0;34m,\u001b[0m \u001b[0mproject_file_name\u001b[0m\u001b[0;34m)\u001b[0m\u001b[0;34m:\u001b[0m\u001b[0;34m\u001b[0m\u001b[0;34m\u001b[0m\u001b[0m\n\u001b[0;32m--> 105\u001b[0;31m     \u001b[0mos\u001b[0m\u001b[0;34m.\u001b[0m\u001b[0mchdir\u001b[0m\u001b[0;34m(\u001b[0m\u001b[0mabsolute_path\u001b[0m\u001b[0;34m)\u001b[0m\u001b[0;34m\u001b[0m\u001b[0;34m\u001b[0m\u001b[0m\n\u001b[0m\u001b[1;32m    106\u001b[0m     \u001b[0mspike_clusters\u001b[0m\u001b[0;34m,\u001b[0m \u001b[0mspike_times\u001b[0m\u001b[0;34m,\u001b[0m \u001b[0mcluster_df\u001b[0m \u001b[0;34m=\u001b[0m \u001b[0mload_data\u001b[0m\u001b[0;34m(\u001b[0m\u001b[0;34m)\u001b[0m\u001b[0;34m\u001b[0m\u001b[0;34m\u001b[0m\u001b[0m\n\u001b[1;32m    107\u001b[0m     \u001b[0msamples_index_list\u001b[0m \u001b[0;34m=\u001b[0m \u001b[0mlist\u001b[0m\u001b[0;34m(\u001b[0m\u001b[0mtrial_info\u001b[0m\u001b[0;34m.\u001b[0m\u001b[0mloc\u001b[0m\u001b[0;34m[\u001b[0m\u001b[0;34m\"Cumulative Samples\"\u001b[0m\u001b[0;34m]\u001b[0m\u001b[0;34m)\u001b[0m\u001b[0;34m\u001b[0m\u001b[0;34m\u001b[0m\u001b[0m\n",
      "\u001b[0;31mFileNotFoundError\u001b[0m: [Errno 2] No such file or directory: '/media/irene/GL04_RAT_HOMER_2/Spike_sorting/Rat_OS_Ephys_RGS14_Rat1_57986/Rat_OS_Ephys_RGS14_Rat1_57986_SD1_CON_26-27_07_2018/Rat_OS_Ephys_RGS14_Rat1_57986_SD1_CON_26-27_07_2018_merged/cortex/Tetrode_6/phy_AGR'"
     ]
    }
   ],
   "source": [
    "for trial_name in trial_name_list:\n",
    "    createFolder(path + '/' + date)\n",
    "    final_matrix = iterate_all_file_for_a_trial(trial_info, absolute_path_list, trial_name, project_folder_name)\n",
    "    createFolder(path + '/' + date)\n",
    "    np.save(trial_name + \"_actmat\", final_matrix)"
   ]
  },
  {
   "cell_type": "code",
   "execution_count": 7,
   "metadata": {},
   "outputs": [],
   "source": [
    "actmat_neuron_name = get_neuron_name(trial_info, absolute_path_list, trial_name_list[0], project_folder_name )\n",
    "createFolder(path + '/' + date)\n",
    "np.save(\"actmat_neuron_name\", actmat_neuron_name)"
   ]
  },
  {
   "cell_type": "code",
   "execution_count": null,
   "metadata": {},
   "outputs": [],
   "source": []
  },
  {
   "cell_type": "code",
   "execution_count": null,
   "metadata": {},
   "outputs": [],
   "source": []
  },
  {
   "cell_type": "markdown",
   "metadata": {},
   "source": [
    "### The code below is just for test purpose, do not run it "
   ]
  },
  {
   "cell_type": "code",
   "execution_count": 8,
   "metadata": {
    "scrolled": true
   },
   "outputs": [],
   "source": [
    "# spike_clusters = np.load(\"spike_clusters.npy\")\n",
    "# spike_times = np.load(\"spike_times.npy\")\n",
    "# set_neuron = set(spike_clusters)\n",
    "# for neuron_x in set_neuron:\n",
    "#     neuron_x_index =  [i for i,d in enumerate(spike_clusters) if d==neuron_x]\n",
    "#     spike_times = spike_times.flatten()\n",
    "#     neuron_x_map = (np.array([spike_times[index] for index in neuron_x_index])/750).astype(int)\n",
    "#     neuron_x_map\n",
    "\n",
    "# (np.array(spike_time_17)/750)[1]"
   ]
  },
  {
   "cell_type": "code",
   "execution_count": null,
   "metadata": {},
   "outputs": [],
   "source": []
  }
 ],
 "metadata": {
  "kernelspec": {
   "display_name": "Python 3",
   "language": "python",
   "name": "python3"
  },
  "language_info": {
   "codemirror_mode": {
    "name": "ipython",
    "version": 3
   },
   "file_extension": ".py",
   "mimetype": "text/x-python",
   "name": "python",
   "nbconvert_exporter": "python",
   "pygments_lexer": "ipython3",
   "version": "3.8.5"
  }
 },
 "nbformat": 4,
 "nbformat_minor": 4
}
