{
 "cells": [
  {
   "cell_type": "code",
   "execution_count": 1,
   "metadata": {},
   "outputs": [],
   "source": [
    "from actmat_generate import *\n",
    "import os\n",
    "import pandas as pd"
   ]
  },
  {
   "cell_type": "markdown",
   "metadata": {},
   "source": [
    "### Run the following script to generate actmat matrix\n",
    "\n",
    "- Change the path into the folder where you put the Trial_durations.xls file\n",
    "- Çhange the date into actual date performing the experiment"
   ]
  },
  {
   "cell_type": "code",
   "execution_count": 2,
   "metadata": {},
   "outputs": [],
   "source": [
    "# path = \"D:\\Internship_Radbound\\Cell_assembly_yuqin\"\n",
    "path = \"//media/irene/GL04_RAT_HOMER_2/Spike_sorting/Rat_OS_Ephys_RGS14_Rat1_57986/Rat_OS_Ephys_RGS14_Rat1_57986_SD6_OD_04-05_08_2018/Rat_OS_Ephys_RGS14_Rat1_57986_SD6_OD_04-05_08_2018_merged\"\n",
    "date = \"Rat1_SD6_OD\"\n",
    "project_folder_name = \"RGS_PROJECT_RGS14_OD_Rn1_SD6\""
   ]
  },
  {
   "cell_type": "code",
   "execution_count": 4,
   "metadata": {},
   "outputs": [
    {
     "data": {
      "text/html": [
       "<div>\n",
       "<style scoped>\n",
       "    .dataframe tbody tr th:only-of-type {\n",
       "        vertical-align: middle;\n",
       "    }\n",
       "\n",
       "    .dataframe tbody tr th {\n",
       "        vertical-align: top;\n",
       "    }\n",
       "\n",
       "    .dataframe thead th {\n",
       "        text-align: right;\n",
       "    }\n",
       "</style>\n",
       "<table border=\"1\" class=\"dataframe\">\n",
       "  <thead>\n",
       "    <tr style=\"text-align: right;\">\n",
       "      <th></th>\n",
       "      <th>Pre_sleep</th>\n",
       "      <th>Trial1</th>\n",
       "      <th>Post_Trial1</th>\n",
       "      <th>Trial2</th>\n",
       "      <th>Post_Trial2</th>\n",
       "      <th>Trial3</th>\n",
       "      <th>Post_Trial3</th>\n",
       "      <th>Trial4</th>\n",
       "      <th>Post_Trial4</th>\n",
       "      <th>Trial5</th>\n",
       "      <th>Post_Trial5</th>\n",
       "    </tr>\n",
       "    <tr>\n",
       "      <th>Unit</th>\n",
       "      <th></th>\n",
       "      <th></th>\n",
       "      <th></th>\n",
       "      <th></th>\n",
       "      <th></th>\n",
       "      <th></th>\n",
       "      <th></th>\n",
       "      <th></th>\n",
       "      <th></th>\n",
       "      <th></th>\n",
       "      <th></th>\n",
       "    </tr>\n",
       "  </thead>\n",
       "  <tbody>\n",
       "    <tr>\n",
       "      <th>Samples</th>\n",
       "      <td>8.119398e+07</td>\n",
       "      <td>1.037722e+07</td>\n",
       "      <td>8.100250e+07</td>\n",
       "      <td>9.653248e+06</td>\n",
       "      <td>8.100864e+07</td>\n",
       "      <td>9.669632e+06</td>\n",
       "      <td>8.108442e+07</td>\n",
       "      <td>9.721856e+06</td>\n",
       "      <td>8.280986e+07</td>\n",
       "      <td>9.743360e+06</td>\n",
       "      <td>3.240735e+08</td>\n",
       "    </tr>\n",
       "    <tr>\n",
       "      <th>Cumulative Samples</th>\n",
       "      <td>8.119398e+07</td>\n",
       "      <td>9.157120e+07</td>\n",
       "      <td>1.725737e+08</td>\n",
       "      <td>1.822269e+08</td>\n",
       "      <td>2.632356e+08</td>\n",
       "      <td>2.729052e+08</td>\n",
       "      <td>3.539896e+08</td>\n",
       "      <td>3.637115e+08</td>\n",
       "      <td>4.465213e+08</td>\n",
       "      <td>4.562647e+08</td>\n",
       "      <td>7.803382e+08</td>\n",
       "    </tr>\n",
       "    <tr>\n",
       "      <th>Seconds</th>\n",
       "      <td>2.706466e+03</td>\n",
       "      <td>3.459072e+02</td>\n",
       "      <td>2.700083e+03</td>\n",
       "      <td>3.217749e+02</td>\n",
       "      <td>2.700288e+03</td>\n",
       "      <td>3.223211e+02</td>\n",
       "      <td>2.702814e+03</td>\n",
       "      <td>3.240619e+02</td>\n",
       "      <td>2.760329e+03</td>\n",
       "      <td>3.247787e+02</td>\n",
       "      <td>1.080245e+04</td>\n",
       "    </tr>\n",
       "    <tr>\n",
       "      <th>Cumulative Seconds</th>\n",
       "      <td>2.706466e+03</td>\n",
       "      <td>3.052373e+03</td>\n",
       "      <td>5.752457e+03</td>\n",
       "      <td>6.074231e+03</td>\n",
       "      <td>8.774519e+03</td>\n",
       "      <td>9.096841e+03</td>\n",
       "      <td>1.179965e+04</td>\n",
       "      <td>1.212372e+04</td>\n",
       "      <td>1.488404e+04</td>\n",
       "      <td>1.520882e+04</td>\n",
       "      <td>2.601127e+04</td>\n",
       "    </tr>\n",
       "    <tr>\n",
       "      <th>Minutes</th>\n",
       "      <td>4.510777e+01</td>\n",
       "      <td>5.765120e+00</td>\n",
       "      <td>4.500139e+01</td>\n",
       "      <td>5.362916e+00</td>\n",
       "      <td>4.500480e+01</td>\n",
       "      <td>5.372018e+00</td>\n",
       "      <td>4.504690e+01</td>\n",
       "      <td>5.401031e+00</td>\n",
       "      <td>4.600548e+01</td>\n",
       "      <td>5.412978e+00</td>\n",
       "      <td>1.800408e+02</td>\n",
       "    </tr>\n",
       "    <tr>\n",
       "      <th>Cumulative Minutes</th>\n",
       "      <td>4.510777e+01</td>\n",
       "      <td>5.087289e+01</td>\n",
       "      <td>9.587428e+01</td>\n",
       "      <td>1.012372e+02</td>\n",
       "      <td>1.462420e+02</td>\n",
       "      <td>1.516140e+02</td>\n",
       "      <td>1.966609e+02</td>\n",
       "      <td>2.020619e+02</td>\n",
       "      <td>2.480674e+02</td>\n",
       "      <td>2.534804e+02</td>\n",
       "      <td>4.335212e+02</td>\n",
       "    </tr>\n",
       "    <tr>\n",
       "      <th>Hours</th>\n",
       "      <td>7.517961e-01</td>\n",
       "      <td>9.608533e-02</td>\n",
       "      <td>7.500231e-01</td>\n",
       "      <td>8.938193e-02</td>\n",
       "      <td>7.500800e-01</td>\n",
       "      <td>8.953363e-02</td>\n",
       "      <td>7.507816e-01</td>\n",
       "      <td>9.001719e-02</td>\n",
       "      <td>7.667579e-01</td>\n",
       "      <td>9.021630e-02</td>\n",
       "      <td>3.000680e+00</td>\n",
       "    </tr>\n",
       "    <tr>\n",
       "      <th>Cumulative Hours</th>\n",
       "      <td>7.517961e-01</td>\n",
       "      <td>8.478815e-01</td>\n",
       "      <td>1.597905e+00</td>\n",
       "      <td>1.687287e+00</td>\n",
       "      <td>2.437367e+00</td>\n",
       "      <td>2.526900e+00</td>\n",
       "      <td>3.277682e+00</td>\n",
       "      <td>3.367699e+00</td>\n",
       "      <td>4.134457e+00</td>\n",
       "      <td>4.224673e+00</td>\n",
       "      <td>7.225353e+00</td>\n",
       "    </tr>\n",
       "  </tbody>\n",
       "</table>\n",
       "</div>"
      ],
      "text/plain": [
       "                       Pre_sleep        Trial1   Post_Trial1        Trial2  \\\n",
       "Unit                                                                         \n",
       "Samples             8.119398e+07  1.037722e+07  8.100250e+07  9.653248e+06   \n",
       "Cumulative Samples  8.119398e+07  9.157120e+07  1.725737e+08  1.822269e+08   \n",
       "Seconds             2.706466e+03  3.459072e+02  2.700083e+03  3.217749e+02   \n",
       "Cumulative Seconds  2.706466e+03  3.052373e+03  5.752457e+03  6.074231e+03   \n",
       "Minutes             4.510777e+01  5.765120e+00  4.500139e+01  5.362916e+00   \n",
       "Cumulative Minutes  4.510777e+01  5.087289e+01  9.587428e+01  1.012372e+02   \n",
       "Hours               7.517961e-01  9.608533e-02  7.500231e-01  8.938193e-02   \n",
       "Cumulative Hours    7.517961e-01  8.478815e-01  1.597905e+00  1.687287e+00   \n",
       "\n",
       "                     Post_Trial2        Trial3   Post_Trial3        Trial4  \\\n",
       "Unit                                                                         \n",
       "Samples             8.100864e+07  9.669632e+06  8.108442e+07  9.721856e+06   \n",
       "Cumulative Samples  2.632356e+08  2.729052e+08  3.539896e+08  3.637115e+08   \n",
       "Seconds             2.700288e+03  3.223211e+02  2.702814e+03  3.240619e+02   \n",
       "Cumulative Seconds  8.774519e+03  9.096841e+03  1.179965e+04  1.212372e+04   \n",
       "Minutes             4.500480e+01  5.372018e+00  4.504690e+01  5.401031e+00   \n",
       "Cumulative Minutes  1.462420e+02  1.516140e+02  1.966609e+02  2.020619e+02   \n",
       "Hours               7.500800e-01  8.953363e-02  7.507816e-01  9.001719e-02   \n",
       "Cumulative Hours    2.437367e+00  2.526900e+00  3.277682e+00  3.367699e+00   \n",
       "\n",
       "                     Post_Trial4        Trial5   Post_Trial5  \n",
       "Unit                                                          \n",
       "Samples             8.280986e+07  9.743360e+06  3.240735e+08  \n",
       "Cumulative Samples  4.465213e+08  4.562647e+08  7.803382e+08  \n",
       "Seconds             2.760329e+03  3.247787e+02  1.080245e+04  \n",
       "Cumulative Seconds  1.488404e+04  1.520882e+04  2.601127e+04  \n",
       "Minutes             4.600548e+01  5.412978e+00  1.800408e+02  \n",
       "Cumulative Minutes  2.480674e+02  2.534804e+02  4.335212e+02  \n",
       "Hours               7.667579e-01  9.021630e-02  3.000680e+00  \n",
       "Cumulative Hours    4.134457e+00  4.224673e+00  7.225353e+00  "
      ]
     },
     "execution_count": 4,
     "metadata": {},
     "output_type": "execute_result"
    }
   ],
   "source": [
    "trial_info"
   ]
  },
  {
   "cell_type": "code",
   "execution_count": 5,
   "metadata": {},
   "outputs": [],
   "source": [
    "os.chdir(path)\n",
    "trial_info = pd.read_excel('Trial_durations.xls', index_col = 0)  \n",
    "final_samples = trial_info[\"Post_Trial5\"][\"Cumulative Samples\"]\n",
    "samples_index_list = list(trial_info.loc[\"Cumulative Samples\"])\n",
    "fs = 30000\n",
    "#Modified the minutes and samples by removing the tail\n",
    "trial_info.loc[\"modified_minutes\"] = [45.0, 5.0, 45.0, 5.0, 45.0, 5.0, 45.0, 5.0, 45.0, 5.0, 180.0]\n",
    "trial_info.loc[\"modified_samples\"] = trial_info.loc[\"modified_minutes\"]* 60 * 30000"
   ]
  },
  {
   "cell_type": "code",
   "execution_count": null,
   "metadata": {},
   "outputs": [],
   "source": []
  },
  {
   "cell_type": "markdown",
   "metadata": {},
   "source": [
    "### Change:\n",
    "\n",
    "- absolute_path_list\n",
    "- trial_name_list\n",
    "- project_folder_name"
   ]
  },
  {
   "cell_type": "code",
   "execution_count": 6,
   "metadata": {
    "scrolled": true
   },
   "outputs": [],
   "source": [
    "absolute_path_list = [path + \"/cortex/Tetrode_8/phy_MS4\",\n",
    "                     path + \"/cortex/Tetrode_9/phy_MS4\",\n",
    "                     path + \"/cortex/Tetrode_10/phy_AGR\",\n",
    "                     path + \"/cortex/Tetrode_11/phy_MS4\",\n",
    "                     path + \"/cortex/Tetrode_12/phy_AGR\",\n",
    "                     path + \"/cortex/Tetrode_13/phy_MS4\",\n",
    "                     path + \"/cortex/Tetrode_14/phy_MS4\",\n",
    "                     path + \"/cortex/Tetrode_15/phy_MS4\",\n",
    "                     path + \"/cortex/Tetrode_16/phy_MS4\"]\n",
    "trial_name_list = list(trial_info.columns)"
   ]
  },
  {
   "cell_type": "code",
   "execution_count": 7,
   "metadata": {},
   "outputs": [],
   "source": [
    "# get_neuron_name(trial_info, absolute_path_list, trial_name_list[0], project_folder_name)"
   ]
  },
  {
   "cell_type": "code",
   "execution_count": null,
   "metadata": {},
   "outputs": [],
   "source": []
  },
  {
   "cell_type": "code",
   "execution_count": null,
   "metadata": {},
   "outputs": [
    {
     "name": "stdout",
     "output_type": "stream",
     "text": [
      "trial name isPre_sleep\n"
     ]
    }
   ],
   "source": [
    "for trial_name in trial_name_list:\n",
    "    createFolder(path + '/' + date)\n",
    "    final_matrix = iterate_all_file_for_a_trial(trial_info, absolute_path_list, trial_name, project_folder_name)\n",
    "    createFolder(path + '/' + date)\n",
    "    np.save(trial_name + \"_actmat\", final_matrix)"
   ]
  },
  {
   "cell_type": "code",
   "execution_count": null,
   "metadata": {},
   "outputs": [],
   "source": [
    "actmat_neuron_name = get_neuron_name(trial_info, absolute_path_list, trial_name_list[0], project_folder_name )\n",
    "createFolder(path + '/' + date)\n",
    "np.save(\"actmat_neuron_name\", actmat_neuron_name)"
   ]
  },
  {
   "cell_type": "code",
   "execution_count": null,
   "metadata": {},
   "outputs": [],
   "source": []
  },
  {
   "cell_type": "code",
   "execution_count": null,
   "metadata": {},
   "outputs": [],
   "source": []
  },
  {
   "cell_type": "markdown",
   "metadata": {},
   "source": [
    "### The code below is just for test purpose, do not run it "
   ]
  },
  {
   "cell_type": "code",
   "execution_count": 8,
   "metadata": {
    "scrolled": true
   },
   "outputs": [],
   "source": [
    "# spike_clusters = np.load(\"spike_clusters.npy\")\n",
    "# spike_times = np.load(\"spike_times.npy\")\n",
    "# set_neuron = set(spike_clusters)\n",
    "# for neuron_x in set_neuron:\n",
    "#     neuron_x_index =  [i for i,d in enumerate(spike_clusters) if d==neuron_x]\n",
    "#     spike_times = spike_times.flatten()\n",
    "#     neuron_x_map = (np.array([spike_times[index] for index in neuron_x_index])/750).astype(int)\n",
    "#     neuron_x_map\n",
    "\n",
    "# (np.array(spike_time_17)/750)[1]"
   ]
  },
  {
   "cell_type": "code",
   "execution_count": null,
   "metadata": {},
   "outputs": [],
   "source": []
  }
 ],
 "metadata": {
  "kernelspec": {
   "display_name": "Python 3",
   "language": "python",
   "name": "python3"
  },
  "language_info": {
   "codemirror_mode": {
    "name": "ipython",
    "version": 3
   },
   "file_extension": ".py",
   "mimetype": "text/x-python",
   "name": "python",
   "nbconvert_exporter": "python",
   "pygments_lexer": "ipython3",
   "version": "3.8.10"
  }
 },
 "nbformat": 4,
 "nbformat_minor": 4
}
