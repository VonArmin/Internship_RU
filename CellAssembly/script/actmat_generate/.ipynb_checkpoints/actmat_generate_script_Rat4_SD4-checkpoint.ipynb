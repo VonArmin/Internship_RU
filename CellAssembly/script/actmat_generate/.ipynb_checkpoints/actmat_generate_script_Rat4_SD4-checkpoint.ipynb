{
 "cells": [
  {
   "cell_type": "code",
   "execution_count": 1,
   "metadata": {},
   "outputs": [],
   "source": [
    "from actmat_generate import *\n",
    "import os\n",
    "import pandas as pd"
   ]
  },
  {
   "cell_type": "markdown",
   "metadata": {},
   "source": [
    "### Run the following script to generate actmat matrix\n",
    "\n",
    "- Change the path into the folder where you put the Trial_durations.xls file\n",
    "- Çhange the date into actual date performing the experiment"
   ]
  },
  {
   "cell_type": "code",
   "execution_count": 2,
   "metadata": {},
   "outputs": [],
   "source": [
    "# path = \"D:\\Internship_Radbound\\Cell_assembly_yuqin\"\n",
    "path = \"/media/irene/GL13_RAT_BURSTY/Spike_sorting/Rat_OS_Ephys_RGS14_rat4_357153/OS_Ephys_RGS14_Rat4_357153_SD3_CON_30-31_10_2019/OS_Ephys_RGS14_Rat4_357153_SD3_CON_30-31_10_2019_merged\"\n",
    "date = \"Rat4_SD3_CON_30_10_2019\"\n",
    "project_folder_name = \"RGS_PROJECT_RGS14_PFC_Rn4_CON_SD3_T\""
   ]
  },
  {
   "cell_type": "code",
   "execution_count": null,
   "metadata": {},
   "outputs": [],
   "source": []
  },
  {
   "cell_type": "code",
   "execution_count": 3,
   "metadata": {},
   "outputs": [],
   "source": [
    "os.chdir(path)\n",
    "trial_info = pd.read_excel('Trial_durations.xls', index_col = 0)  \n",
    "trial_last_period_name = trial_info.columns[-1]\n",
    "final_samples = trial_info[trial_last_period_name][\"Cumulative Samples\"]\n",
    "samples_index_list = list(trial_info.loc[\"Cumulative Samples\"])\n",
    "fs = 30000\n",
    "#Modified the minutes and samples by removing the tail\n",
    "trial_info.loc[\"modified_minutes\"] = [45.0, 5.0, 45.0, 5.0, 45.0, 5.0, 45.0, 5.0, 45.0, 5.0, 180.0]\n",
    "trial_info.loc[\"modified_samples\"] = trial_info.loc[\"modified_minutes\"]* 60 * 30000"
   ]
  },
  {
   "cell_type": "code",
   "execution_count": null,
   "metadata": {},
   "outputs": [],
   "source": []
  },
  {
   "cell_type": "markdown",
   "metadata": {},
   "source": [
    "### Change:\n",
    "\n",
    "- absolute_path_list\n",
    "- trial_name_list\n",
    "- project_folder_name"
   ]
  },
  {
   "cell_type": "code",
   "execution_count": 4,
   "metadata": {
    "scrolled": true
   },
   "outputs": [],
   "source": [
    "absolute_path_list = [path + \"/cortex/Tetrode_1/phy_MS4\",\n",
    "                     path + \"/cortex/Tetrode_2/phy_MS4\",\n",
    "                     path + \"/cortex/Tetrode_3/phy_MS4\",\n",
    "                     path + \"/cortex/Tetrode_10/phy_MS4\",\n",
    "                     path + \"/cortex/Tetrode_11/phy_MS4\",\n",
    "                     path + \"/cortex/Tetrode_12/phy_MS4\",\n",
    "                     path + \"/cortex/Tetrode_13/phy_AGR\",\n",
    "                     path + \"/cortex/Tetrode_15/phy_AGR\",\n",
    "                     path + \"/cortex/Tetrode_16/phy_MS4\"]\n",
    "trial_name_list = list(trial_info.columns)"
   ]
  },
  {
   "cell_type": "code",
   "execution_count": 5,
   "metadata": {},
   "outputs": [],
   "source": [
    "# get_neuron_name(trial_info, absolute_path_list, trial_name_list[0], project_folder_name)"
   ]
  },
  {
   "cell_type": "code",
   "execution_count": null,
   "metadata": {},
   "outputs": [],
   "source": []
  },
  {
   "cell_type": "code",
   "execution_count": null,
   "metadata": {},
   "outputs": [
    {
     "name": "stdout",
     "output_type": "stream",
     "text": [
      "trial name isPre_sleep\n",
      "split_index is [0, 217588, 271365, 549692, 603936, 863000, 915979, 1129077, 1175851, 1453854, 1516306, 2736478]\n",
      "row_index is 0\n",
      "row_index is 1\n",
      "row_index is 2\n",
      "row_index is 3\n",
      "/media/irene/GL13_RAT_BURSTY/Spike_sorting/Rat_OS_Ephys_RGS14_rat4_357153/OS_Ephys_RGS14_Rat4_357153_SD3_CON_30-31_10_2019/OS_Ephys_RGS14_Rat4_357153_SD3_CON_30-31_10_2019_merged/cortex/Tetrode_2/phy_MS4\n",
      "split_index is [0, 205488, 267687, 521744, 578300, 841798, 897109, 1101329, 1158287, 1416183, 1475669, 2625823]\n",
      "row_index is 0\n",
      "row_index is 1\n",
      "row_index is 2\n",
      "row_index is 3\n",
      "/media/irene/GL13_RAT_BURSTY/Spike_sorting/Rat_OS_Ephys_RGS14_rat4_357153/OS_Ephys_RGS14_Rat4_357153_SD3_CON_30-31_10_2019/OS_Ephys_RGS14_Rat4_357153_SD3_CON_30-31_10_2019_merged/cortex/Tetrode_3/phy_MS4\n",
      "split_index is [0, 201332, 258702, 527695, 582653, 842140, 895633, 1108878, 1162580, 1424918, 1481829, 2648457]\n",
      "row_index is 0\n",
      "row_index is 1\n",
      "row_index is 2\n",
      "row_index is 3\n",
      "/media/irene/GL13_RAT_BURSTY/Spike_sorting/Rat_OS_Ephys_RGS14_rat4_357153/OS_Ephys_RGS14_Rat4_357153_SD3_CON_30-31_10_2019/OS_Ephys_RGS14_Rat4_357153_SD3_CON_30-31_10_2019_merged/cortex/Tetrode_10/phy_MS4\n",
      "split_index is [0, 195910, 261276, 518933, 580027, 840341, 900498, 1115014, 1174497, 1451936, 1513599, 2675553]\n",
      "row_index is 0\n",
      "row_index is 1\n",
      "row_index is 2\n",
      "row_index is 3\n",
      "/media/irene/GL13_RAT_BURSTY/Spike_sorting/Rat_OS_Ephys_RGS14_rat4_357153/OS_Ephys_RGS14_Rat4_357153_SD3_CON_30-31_10_2019/OS_Ephys_RGS14_Rat4_357153_SD3_CON_30-31_10_2019_merged/cortex/Tetrode_11/phy_MS4\n",
      "split_index is [0, 159501, 208231, 409270, 457287, 664879, 709685, 866334, 907998, 1105131, 1149724, 3193515]\n",
      "row_index is 0\n",
      "row_index is 1\n",
      "row_index is 2\n",
      "row_index is 3\n",
      "row_index is 4\n",
      "/media/irene/GL13_RAT_BURSTY/Spike_sorting/Rat_OS_Ephys_RGS14_rat4_357153/OS_Ephys_RGS14_Rat4_357153_SD3_CON_30-31_10_2019/OS_Ephys_RGS14_Rat4_357153_SD3_CON_30-31_10_2019_merged/cortex/Tetrode_12/phy_MS4\n",
      "split_index is [0, 190591, 255642, 512759, 570005, 833873, 895172, 1090571, 1144570, 1405914, 1464534, 2676181]\n",
      "row_index is 0\n",
      "row_index is 1\n",
      "row_index is 2\n",
      "row_index is 3\n",
      "/media/irene/GL13_RAT_BURSTY/Spike_sorting/Rat_OS_Ephys_RGS14_rat4_357153/OS_Ephys_RGS14_Rat4_357153_SD3_CON_30-31_10_2019/OS_Ephys_RGS14_Rat4_357153_SD3_CON_30-31_10_2019_merged/cortex/Tetrode_13/phy_AGR\n",
      "split_index is [0, 6529, 6880, 16339, 16950, 27318, 27936, 36565, 37214, 45551, 46452, 83038]\n",
      "row_index is 0\n",
      "row_index is 1\n",
      "row_index is 2\n",
      "row_index is 3\n",
      "row_index is 4\n",
      "row_index is 5\n",
      "row_index is 6\n",
      "row_index is 7\n",
      "/media/irene/GL13_RAT_BURSTY/Spike_sorting/Rat_OS_Ephys_RGS14_rat4_357153/OS_Ephys_RGS14_Rat4_357153_SD3_CON_30-31_10_2019/OS_Ephys_RGS14_Rat4_357153_SD3_CON_30-31_10_2019_merged/cortex/Tetrode_15/phy_AGR\n",
      "split_index is [0, 19240, 22560, 41936, 45024, 71530, 74148, 94297, 96565, 120628, 122689, 225787]\n",
      "row_index is 0\n",
      "row_index is 1\n",
      "row_index is 2\n",
      "row_index is 3\n",
      "row_index is 4\n",
      "row_index is 5\n",
      "row_index is 6\n",
      "row_index is 7\n",
      "row_index is 8\n",
      "/media/irene/GL13_RAT_BURSTY/Spike_sorting/Rat_OS_Ephys_RGS14_rat4_357153/OS_Ephys_RGS14_Rat4_357153_SD3_CON_30-31_10_2019/OS_Ephys_RGS14_Rat4_357153_SD3_CON_30-31_10_2019_merged/cortex/Tetrode_16/phy_MS4\n",
      "split_index is [0, 192564, 253029, 486873, 547896, 799500, 854175, 1052020, 1106694, 1358681, 1415931, 2648178]\n",
      "row_index is 0\n",
      "row_index is 1\n",
      "row_index is 2\n",
      "row_index is 3\n",
      "trial name isTrial1\n",
      "split_index is [0, 217588, 271365, 549692, 603936, 863000, 915979, 1129077, 1175851, 1453854, 1516306, 2736478]\n",
      "row_index is 0\n",
      "row_index is 1\n",
      "row_index is 2\n",
      "row_index is 3\n",
      "/media/irene/GL13_RAT_BURSTY/Spike_sorting/Rat_OS_Ephys_RGS14_rat4_357153/OS_Ephys_RGS14_Rat4_357153_SD3_CON_30-31_10_2019/OS_Ephys_RGS14_Rat4_357153_SD3_CON_30-31_10_2019_merged/cortex/Tetrode_2/phy_MS4\n",
      "split_index is [0, 205488, 267687, 521744, 578300, 841798, 897109, 1101329, 1158287, 1416183, 1475669, 2625823]\n",
      "row_index is 0\n",
      "row_index is 1\n",
      "row_index is 2\n",
      "row_index is 3\n",
      "/media/irene/GL13_RAT_BURSTY/Spike_sorting/Rat_OS_Ephys_RGS14_rat4_357153/OS_Ephys_RGS14_Rat4_357153_SD3_CON_30-31_10_2019/OS_Ephys_RGS14_Rat4_357153_SD3_CON_30-31_10_2019_merged/cortex/Tetrode_3/phy_MS4\n",
      "split_index is [0, 201332, 258702, 527695, 582653, 842140, 895633, 1108878, 1162580, 1424918, 1481829, 2648457]\n",
      "row_index is 0\n",
      "row_index is 1\n",
      "row_index is 2\n",
      "row_index is 3\n",
      "/media/irene/GL13_RAT_BURSTY/Spike_sorting/Rat_OS_Ephys_RGS14_rat4_357153/OS_Ephys_RGS14_Rat4_357153_SD3_CON_30-31_10_2019/OS_Ephys_RGS14_Rat4_357153_SD3_CON_30-31_10_2019_merged/cortex/Tetrode_10/phy_MS4\n",
      "split_index is [0, 195910, 261276, 518933, 580027, 840341, 900498, 1115014, 1174497, 1451936, 1513599, 2675553]\n",
      "row_index is 0\n",
      "row_index is 1\n",
      "row_index is 2\n",
      "row_index is 3\n",
      "/media/irene/GL13_RAT_BURSTY/Spike_sorting/Rat_OS_Ephys_RGS14_rat4_357153/OS_Ephys_RGS14_Rat4_357153_SD3_CON_30-31_10_2019/OS_Ephys_RGS14_Rat4_357153_SD3_CON_30-31_10_2019_merged/cortex/Tetrode_11/phy_MS4\n",
      "split_index is [0, 159501, 208231, 409270, 457287, 664879, 709685, 866334, 907998, 1105131, 1149724, 3193515]\n",
      "row_index is 0\n",
      "row_index is 1\n",
      "row_index is 2\n",
      "row_index is 3\n",
      "row_index is 4\n",
      "/media/irene/GL13_RAT_BURSTY/Spike_sorting/Rat_OS_Ephys_RGS14_rat4_357153/OS_Ephys_RGS14_Rat4_357153_SD3_CON_30-31_10_2019/OS_Ephys_RGS14_Rat4_357153_SD3_CON_30-31_10_2019_merged/cortex/Tetrode_12/phy_MS4\n",
      "split_index is [0, 190591, 255642, 512759, 570005, 833873, 895172, 1090571, 1144570, 1405914, 1464534, 2676181]\n",
      "row_index is 0\n",
      "row_index is 1\n",
      "row_index is 2\n",
      "row_index is 3\n",
      "/media/irene/GL13_RAT_BURSTY/Spike_sorting/Rat_OS_Ephys_RGS14_rat4_357153/OS_Ephys_RGS14_Rat4_357153_SD3_CON_30-31_10_2019/OS_Ephys_RGS14_Rat4_357153_SD3_CON_30-31_10_2019_merged/cortex/Tetrode_13/phy_AGR\n",
      "split_index is [0, 6529, 6880, 16339, 16950, 27318, 27936, 36565, 37214, 45551, 46452, 83038]\n",
      "row_index is 0\n",
      "row_index is 1\n",
      "row_index is 2\n",
      "row_index is 3\n",
      "row_index is 4\n",
      "row_index is 5\n",
      "row_index is 6\n",
      "row_index is 7\n",
      "/media/irene/GL13_RAT_BURSTY/Spike_sorting/Rat_OS_Ephys_RGS14_rat4_357153/OS_Ephys_RGS14_Rat4_357153_SD3_CON_30-31_10_2019/OS_Ephys_RGS14_Rat4_357153_SD3_CON_30-31_10_2019_merged/cortex/Tetrode_15/phy_AGR\n",
      "split_index is [0, 19240, 22560, 41936, 45024, 71530, 74148, 94297, 96565, 120628, 122689, 225787]\n",
      "row_index is 0\n",
      "row_index is 1\n",
      "row_index is 2\n",
      "row_index is 3\n",
      "row_index is 4\n",
      "row_index is 5\n",
      "row_index is 6\n",
      "row_index is 7\n",
      "row_index is 8\n",
      "/media/irene/GL13_RAT_BURSTY/Spike_sorting/Rat_OS_Ephys_RGS14_rat4_357153/OS_Ephys_RGS14_Rat4_357153_SD3_CON_30-31_10_2019/OS_Ephys_RGS14_Rat4_357153_SD3_CON_30-31_10_2019_merged/cortex/Tetrode_16/phy_MS4\n",
      "split_index is [0, 192564, 253029, 486873, 547896, 799500, 854175, 1052020, 1106694, 1358681, 1415931, 2648178]\n",
      "row_index is 0\n",
      "row_index is 1\n",
      "row_index is 2\n",
      "row_index is 3\n",
      "trial name isPost_Trial1\n"
     ]
    }
   ],
   "source": [
    "for trial_name in trial_name_list:\n",
    "    createFolder(path + '/' + date)\n",
    "    final_matrix = iterate_all_file_for_a_trial(trial_info, absolute_path_list, trial_name, project_folder_name)\n",
    "    createFolder(path + '/' + date)\n",
    "    np.save(trial_name + \"_actmat\", final_matrix)"
   ]
  },
  {
   "cell_type": "code",
   "execution_count": null,
   "metadata": {},
   "outputs": [],
   "source": [
    "actmat_neuron_name = get_neuron_name(trial_info, absolute_path_list, trial_name_list[0], project_folder_name )\n",
    "createFolder(path + '/' + date)\n",
    "np.save(\"actmat_neuron_name\", actmat_neuron_name)"
   ]
  },
  {
   "cell_type": "code",
   "execution_count": null,
   "metadata": {},
   "outputs": [],
   "source": []
  },
  {
   "cell_type": "code",
   "execution_count": null,
   "metadata": {},
   "outputs": [],
   "source": []
  },
  {
   "cell_type": "markdown",
   "metadata": {},
   "source": [
    "### The code below is just for test purpose, do not run it "
   ]
  },
  {
   "cell_type": "code",
   "execution_count": 8,
   "metadata": {
    "scrolled": true
   },
   "outputs": [],
   "source": [
    "# spike_clusters = np.load(\"spike_clusters.npy\")\n",
    "# spike_times = np.load(\"spike_times.npy\")\n",
    "# set_neuron = set(spike_clusters)\n",
    "# for neuron_x in set_neuron:\n",
    "#     neuron_x_index =  [i for i,d in enumerate(spike_clusters) if d==neuron_x]\n",
    "#     spike_times = spike_times.flatten()\n",
    "#     neuron_x_map = (np.array([spike_times[index] for index in neuron_x_index])/750).astype(int)\n",
    "#     neuron_x_map\n",
    "\n",
    "# (np.array(spike_time_17)/750)[1]"
   ]
  },
  {
   "cell_type": "code",
   "execution_count": null,
   "metadata": {},
   "outputs": [],
   "source": []
  }
 ],
 "metadata": {
  "kernelspec": {
   "display_name": "Python 3",
   "language": "python",
   "name": "python3"
  },
  "language_info": {
   "codemirror_mode": {
    "name": "ipython",
    "version": 3
   },
   "file_extension": ".py",
   "mimetype": "text/x-python",
   "name": "python",
   "nbconvert_exporter": "python",
   "pygments_lexer": "ipython3",
   "version": "3.8.10"
  }
 },
 "nbformat": 4,
 "nbformat_minor": 4
}
