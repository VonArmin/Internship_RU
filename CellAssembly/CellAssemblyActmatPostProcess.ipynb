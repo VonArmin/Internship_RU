{
 "cells": [
  {
   "cell_type": "code",
   "execution_count": 1,
   "metadata": {},
   "outputs": [],
   "source": [
    "import numpy as np\n",
    "import os\n",
    "import pandas as pd\n",
    "import assembly as assembly\n",
    "import numpy as np\n",
    "import matplotlib.pyplot as plt\n",
    "import glob\n",
    "import pickle"
   ]
  },
  {
   "cell_type": "markdown",
   "metadata": {},
   "source": [
    "#### Specify the path where you put the generated data from previous script\n"
   ]
  },
  {
   "cell_type": "code",
   "execution_count": 25,
   "metadata": {},
   "outputs": [],
   "source": [
    "path = \"/media/adrian/6aa1794c-0320-4096-a7df-00ab0ba946dc/Cell_assembly_yuqin/data_10-11_10_2019_OD_Rn3_SD1\"\n",
    "os.chdir(path)"
   ]
  },
  {
   "cell_type": "code",
   "execution_count": null,
   "metadata": {},
   "outputs": [],
   "source": []
  },
  {
   "cell_type": "code",
   "execution_count": 26,
   "metadata": {},
   "outputs": [],
   "source": [
    "def load_data():\n",
    "    load_dict = {}\n",
    "    for np_name in glob.glob('*.np[yz]'):\n",
    "        load_dict[np_name[:-4]] = np.load(np_name)\n",
    "    return load_dict\n",
    "\n",
    "def clean_actmat(load_dict):\n",
    "    del_indices = [i for i, x in enumerate(load_dict[\"Trial1_neuron_name\"]) if x == \"null\"]\n",
    "    mat_dict = dict([(key, value) for key, value in load_dict.items() if '_actmat' in key.lower()])\n",
    "    actmat_clean = {}\n",
    "    for each_key, each_mat in mat_dict.items():\n",
    "        new_mat = np.delete(each_mat,del_indices, 0)\n",
    "        actmat_clean[each_key[:len(each_key) - 7]] = new_mat\n",
    "    neuron_name =  dict(enumerate([x for x in load_dict[\"Trial1_neuron_name\"] if x != \"null\"]))\n",
    "#     neuron_name =  [x for x in load_dict[\"Trial1_neuron_name\"] if x != \"null\"]\n",
    "    return actmat_clean, neuron_name"
   ]
  },
  {
   "cell_type": "code",
   "execution_count": 27,
   "metadata": {},
   "outputs": [],
   "source": [
    "load_dict = load_data();\n",
    "actmat_dict, neuron_name_dict = clean_actmat(load_dict)"
   ]
  },
  {
   "cell_type": "code",
   "execution_count": null,
   "metadata": {
    "scrolled": true
   },
   "outputs": [],
   "source": []
  },
  {
   "cell_type": "code",
   "execution_count": 28,
   "metadata": {},
   "outputs": [
    {
     "data": {
      "text/plain": [
       "{0: 'RGS_PROJECT_RGS14_OD_Rn3_SD1_T6_UID0',\n",
       " 1: 'RGS_PROJECT_RGS14_OD_Rn3_SD1_T8_UID2',\n",
       " 2: 'RGS_PROJECT_RGS14_OD_Rn3_SD1_T8_UID5',\n",
       " 3: 'RGS_PROJECT_RGS14_OD_Rn3_SD1_T9_UID0',\n",
       " 4: 'RGS_PROJECT_RGS14_OD_Rn3_SD1_T9_UID2',\n",
       " 5: 'RGS_PROJECT_RGS14_OD_Rn3_SD1_T9_UID4',\n",
       " 6: 'RGS_PROJECT_RGS14_OD_Rn3_SD1_T9_UID53',\n",
       " 7: 'RGS_PROJECT_RGS14_OD_Rn3_SD1_T9_UID61',\n",
       " 8: 'RGS_PROJECT_RGS14_OD_Rn3_SD1_T9_UID65',\n",
       " 9: 'RGS_PROJECT_RGS14_OD_Rn3_SD1_T10_UID2',\n",
       " 10: 'RGS_PROJECT_RGS14_OD_Rn3_SD1_T10_UID3',\n",
       " 11: 'RGS_PROJECT_RGS14_OD_Rn3_SD1_T10_UID6',\n",
       " 12: 'RGS_PROJECT_RGS14_OD_Rn3_SD1_T10_UID7',\n",
       " 13: 'RGS_PROJECT_RGS14_OD_Rn3_SD1_T10_UID15',\n",
       " 14: 'RGS_PROJECT_RGS14_OD_Rn3_SD1_T10_UID33',\n",
       " 15: 'RGS_PROJECT_RGS14_OD_Rn3_SD1_T10_UID37',\n",
       " 16: 'RGS_PROJECT_RGS14_OD_Rn3_SD1_T12_UID1',\n",
       " 17: 'RGS_PROJECT_RGS14_OD_Rn3_SD1_T12_UID3',\n",
       " 18: 'RGS_PROJECT_RGS14_OD_Rn3_SD1_T12_UID4',\n",
       " 19: 'RGS_PROJECT_RGS14_OD_Rn3_SD1_T12_UID5',\n",
       " 20: 'RGS_PROJECT_RGS14_OD_Rn3_SD1_T12_UID8',\n",
       " 21: 'RGS_PROJECT_RGS14_OD_Rn3_SD1_T12_UID20',\n",
       " 22: 'RGS_PROJECT_RGS14_OD_Rn3_SD1_T12_UID24',\n",
       " 23: 'RGS_PROJECT_RGS14_OD_Rn3_SD1_T13_UID0',\n",
       " 24: 'RGS_PROJECT_RGS14_OD_Rn3_SD1_T13_UID2',\n",
       " 25: 'RGS_PROJECT_RGS14_OD_Rn3_SD1_T13_UID3',\n",
       " 26: 'RGS_PROJECT_RGS14_OD_Rn3_SD1_T13_UID4',\n",
       " 27: 'RGS_PROJECT_RGS14_OD_Rn3_SD1_T15_UID25',\n",
       " 28: 'RGS_PROJECT_RGS14_OD_Rn3_SD1_T15_UID29',\n",
       " 29: 'RGS_PROJECT_RGS14_OD_Rn3_SD1_T15_UID47',\n",
       " 30: 'RGS_PROJECT_RGS14_OD_Rn3_SD1_T15_UID51'}"
      ]
     },
     "execution_count": 28,
     "metadata": {},
     "output_type": "execute_result"
    }
   ],
   "source": [
    "neuron_name_dict"
   ]
  },
  {
   "cell_type": "code",
   "execution_count": null,
   "metadata": {},
   "outputs": [],
   "source": []
  },
  {
   "cell_type": "code",
   "execution_count": 30,
   "metadata": {},
   "outputs": [
    {
     "data": {
      "text/plain": [
       "{'Post_Trial1': array([[1., 1., 0., ..., 2., 0., 1.],\n",
       "        [0., 0., 0., ..., 0., 0., 0.],\n",
       "        [0., 0., 0., ..., 0., 0., 0.],\n",
       "        ...,\n",
       "        [0., 0., 0., ..., 0., 0., 0.],\n",
       "        [0., 0., 0., ..., 0., 0., 0.],\n",
       "        [0., 0., 0., ..., 0., 0., 0.]]),\n",
       " 'Trial2': array([[1., 2., 3., ..., 3., 1., 3.],\n",
       "        [0., 0., 0., ..., 0., 0., 0.],\n",
       "        [0., 0., 0., ..., 0., 0., 0.],\n",
       "        ...,\n",
       "        [0., 0., 0., ..., 0., 0., 0.],\n",
       "        [0., 0., 0., ..., 0., 0., 0.],\n",
       "        [0., 0., 0., ..., 0., 0., 0.]]),\n",
       " 'Trial1': array([[1., 2., 1., ..., 0., 2., 0.],\n",
       "        [0., 0., 0., ..., 0., 0., 0.],\n",
       "        [0., 0., 0., ..., 0., 0., 0.],\n",
       "        ...,\n",
       "        [0., 0., 0., ..., 0., 0., 0.],\n",
       "        [0., 0., 0., ..., 0., 0., 0.],\n",
       "        [0., 0., 0., ..., 1., 0., 0.]]),\n",
       " 'Trial4': array([[2., 1., 1., ..., 1., 1., 0.],\n",
       "        [0., 0., 0., ..., 0., 0., 0.],\n",
       "        [0., 0., 0., ..., 0., 0., 0.],\n",
       "        ...,\n",
       "        [0., 0., 0., ..., 0., 0., 0.],\n",
       "        [0., 0., 0., ..., 0., 0., 0.],\n",
       "        [0., 0., 0., ..., 1., 0., 0.]]),\n",
       " 'Pre_sleep': array([[1., 0., 1., ..., 1., 0., 0.],\n",
       "        [0., 0., 0., ..., 0., 0., 0.],\n",
       "        [0., 0., 0., ..., 0., 0., 0.],\n",
       "        ...,\n",
       "        [0., 0., 0., ..., 0., 0., 0.],\n",
       "        [0., 0., 0., ..., 0., 1., 0.],\n",
       "        [0., 0., 0., ..., 0., 1., 0.]]),\n",
       " 'Post_Trial5': array([[3., 2., 6., ..., 2., 0., 0.],\n",
       "        [0., 0., 0., ..., 0., 0., 0.],\n",
       "        [0., 0., 0., ..., 0., 0., 0.],\n",
       "        ...,\n",
       "        [0., 0., 0., ..., 0., 0., 0.],\n",
       "        [0., 0., 0., ..., 0., 0., 0.],\n",
       "        [0., 0., 0., ..., 0., 0., 0.]]),\n",
       " 'Trial5': array([[1., 1., 0., ..., 0., 0., 0.],\n",
       "        [0., 0., 0., ..., 0., 0., 0.],\n",
       "        [0., 0., 0., ..., 0., 0., 0.],\n",
       "        ...,\n",
       "        [0., 0., 0., ..., 0., 0., 0.],\n",
       "        [0., 0., 0., ..., 0., 0., 0.],\n",
       "        [0., 0., 0., ..., 0., 0., 0.]]),\n",
       " 'Post_Trial4': array([[2., 0., 0., ..., 0., 0., 0.],\n",
       "        [0., 0., 0., ..., 0., 0., 0.],\n",
       "        [0., 0., 0., ..., 0., 0., 0.],\n",
       "        ...,\n",
       "        [0., 0., 0., ..., 0., 0., 0.],\n",
       "        [0., 0., 0., ..., 0., 0., 0.],\n",
       "        [0., 0., 0., ..., 0., 0., 0.]]),\n",
       " 'Trial3': array([[2., 1., 1., ..., 1., 0., 0.],\n",
       "        [0., 0., 0., ..., 0., 0., 0.],\n",
       "        [0., 0., 0., ..., 0., 0., 0.],\n",
       "        ...,\n",
       "        [1., 0., 0., ..., 0., 0., 0.],\n",
       "        [0., 0., 0., ..., 0., 0., 0.],\n",
       "        [0., 0., 1., ..., 0., 0., 0.]]),\n",
       " 'Post_Trial3': array([[0., 1., 1., ..., 2., 1., 2.],\n",
       "        [0., 0., 0., ..., 0., 0., 0.],\n",
       "        [0., 0., 0., ..., 0., 0., 0.],\n",
       "        ...,\n",
       "        [0., 0., 0., ..., 0., 0., 0.],\n",
       "        [0., 0., 0., ..., 0., 0., 0.],\n",
       "        [0., 0., 0., ..., 0., 0., 0.]]),\n",
       " 'Post_Trial2': array([[1., 0., 3., ..., 1., 0., 1.],\n",
       "        [0., 0., 0., ..., 0., 0., 0.],\n",
       "        [0., 0., 0., ..., 0., 0., 0.],\n",
       "        ...,\n",
       "        [0., 0., 0., ..., 0., 0., 0.],\n",
       "        [0., 0., 0., ..., 0., 0., 0.],\n",
       "        [1., 0., 0., ..., 0., 0., 0.]])}"
      ]
     },
     "execution_count": 30,
     "metadata": {},
     "output_type": "execute_result"
    }
   ],
   "source": [
    "actmat_dict"
   ]
  },
  {
   "cell_type": "code",
   "execution_count": null,
   "metadata": {},
   "outputs": [],
   "source": []
  },
  {
   "cell_type": "code",
   "execution_count": 73,
   "metadata": {},
   "outputs": [],
   "source": [
    "def get_interneurons_list(txt_file_name, project_name, condition_name, study_day_name, rat_name):\n",
    "    inter_neurons = open(txt_file_name, \"r\")\n",
    "    inter_neurons = list(inter_neurons.read().split(','))\n",
    "    if '\\n' in inter_neurons: inter_neurons.remove('\\n')\n",
    "    if '' in inter_neurons: inter_neurons.remove('')\n",
    "    interneurons_list = []\n",
    "    for interneuron in inter_neurons:\n",
    "        study_day_interneuron = interneuron[interneuron.find(\"SD\") : interneuron.find(\"_T\")]\n",
    "#         print(study_day_interneuron)\n",
    "        study_day_match = study_day_interneuron == study_day_name\n",
    "#         print(study_day_match)\n",
    "        if (project_name in interneuron) and (condition_name in interneuron) and study_day_match and (rat_name in interneuron):\n",
    "            interneurons_list.append(interneuron[: len(interneuron) - 3])\n",
    "    return interneurons_list, inter_neurons"
   ]
  },
  {
   "cell_type": "code",
   "execution_count": 74,
   "metadata": {},
   "outputs": [],
   "source": [
    "inter_neurons_RGS14, interneuron_old_RGS14 = get_interneurons_list(\"inter_neurons_RGS14.txt\", \n",
    "                                                                   'RGS_PROJECT', 'OD', 'SD1', 'Rn3')\n",
    "inter_neurons_vehicle, interneuron_old_vehicle = get_interneurons_list(\"inter_neurons_vehicle.txt\",\n",
    "                                                                        'RGS_PROJECT', 'OD', 'SD1', 'Rn3')"
   ]
  },
  {
   "cell_type": "code",
   "execution_count": 75,
   "metadata": {},
   "outputs": [
    {
     "data": {
      "text/plain": [
       "(['RGS_PROJECT_RGS14_PFC_Rn3_OD_SD1_T10_UID7',\n",
       "  'RGS_PROJECT_RGS14_PFC_Rn3_OD_SD1_T12_UID4',\n",
       "  'RGS_PROJECT_RGS14_PFC_Rn3_OD_SD1_T13_UID3',\n",
       "  'RGS_PROJECT_RGS14_PFC_Rn3_OD_SD1_T9_UID4'],\n",
       " [])"
      ]
     },
     "execution_count": 75,
     "metadata": {},
     "output_type": "execute_result"
    }
   ],
   "source": [
    "inter_neurons_RGS14, inter_neurons_vehicle"
   ]
  },
  {
   "cell_type": "code",
   "execution_count": 77,
   "metadata": {},
   "outputs": [
    {
     "data": {
      "text/plain": [
       "{0: 'RGS_PROJECT_RGS14_OD_Rn3_SD1_T6_UID0',\n",
       " 1: 'RGS_PROJECT_RGS14_OD_Rn3_SD1_T8_UID2',\n",
       " 2: 'RGS_PROJECT_RGS14_OD_Rn3_SD1_T8_UID5',\n",
       " 3: 'RGS_PROJECT_RGS14_OD_Rn3_SD1_T9_UID0',\n",
       " 4: 'RGS_PROJECT_RGS14_OD_Rn3_SD1_T9_UID2',\n",
       " 5: 'RGS_PROJECT_RGS14_OD_Rn3_SD1_T9_UID4',\n",
       " 6: 'RGS_PROJECT_RGS14_OD_Rn3_SD1_T9_UID53',\n",
       " 7: 'RGS_PROJECT_RGS14_OD_Rn3_SD1_T9_UID61',\n",
       " 8: 'RGS_PROJECT_RGS14_OD_Rn3_SD1_T9_UID65',\n",
       " 9: 'RGS_PROJECT_RGS14_OD_Rn3_SD1_T10_UID2',\n",
       " 10: 'RGS_PROJECT_RGS14_OD_Rn3_SD1_T10_UID3',\n",
       " 11: 'RGS_PROJECT_RGS14_OD_Rn3_SD1_T10_UID6',\n",
       " 12: 'RGS_PROJECT_RGS14_OD_Rn3_SD1_T10_UID7',\n",
       " 13: 'RGS_PROJECT_RGS14_OD_Rn3_SD1_T10_UID15',\n",
       " 14: 'RGS_PROJECT_RGS14_OD_Rn3_SD1_T10_UID33',\n",
       " 15: 'RGS_PROJECT_RGS14_OD_Rn3_SD1_T10_UID37',\n",
       " 16: 'RGS_PROJECT_RGS14_OD_Rn3_SD1_T12_UID1',\n",
       " 17: 'RGS_PROJECT_RGS14_OD_Rn3_SD1_T12_UID3',\n",
       " 18: 'RGS_PROJECT_RGS14_OD_Rn3_SD1_T12_UID4',\n",
       " 19: 'RGS_PROJECT_RGS14_OD_Rn3_SD1_T12_UID5',\n",
       " 20: 'RGS_PROJECT_RGS14_OD_Rn3_SD1_T12_UID8',\n",
       " 21: 'RGS_PROJECT_RGS14_OD_Rn3_SD1_T12_UID20',\n",
       " 22: 'RGS_PROJECT_RGS14_OD_Rn3_SD1_T12_UID24',\n",
       " 23: 'RGS_PROJECT_RGS14_OD_Rn3_SD1_T13_UID0',\n",
       " 24: 'RGS_PROJECT_RGS14_OD_Rn3_SD1_T13_UID2',\n",
       " 25: 'RGS_PROJECT_RGS14_OD_Rn3_SD1_T13_UID3',\n",
       " 26: 'RGS_PROJECT_RGS14_OD_Rn3_SD1_T13_UID4',\n",
       " 27: 'RGS_PROJECT_RGS14_OD_Rn3_SD1_T15_UID25',\n",
       " 28: 'RGS_PROJECT_RGS14_OD_Rn3_SD1_T15_UID29',\n",
       " 29: 'RGS_PROJECT_RGS14_OD_Rn3_SD1_T15_UID47',\n",
       " 30: 'RGS_PROJECT_RGS14_OD_Rn3_SD1_T15_UID51'}"
      ]
     },
     "execution_count": 77,
     "metadata": {},
     "output_type": "execute_result"
    }
   ],
   "source": [
    "neuron_name_dict"
   ]
  },
  {
   "cell_type": "code",
   "execution_count": 80,
   "metadata": {},
   "outputs": [],
   "source": [
    "def find_index_interneurons(interneurons, name_dict):\n",
    "    index_list = []\n",
    "    for interneuron in interneurons:\n",
    "        for  index, neuron_name in name_dict.items():\n",
    "            y = neuron_name[neuron_name.find(\"_T\") : ]\n",
    "            x = interneuron[interneuron.find(\"_T\") :]\n",
    "#             print(x)\n",
    "#             print(y)\n",
    "            match = x == y\n",
    "            if match:\n",
    "                index_list.append(index)\n",
    "    return index_list"
   ]
  },
  {
   "cell_type": "code",
   "execution_count": 81,
   "metadata": {},
   "outputs": [
    {
     "data": {
      "text/plain": [
       "[12, 18, 25, 5]"
      ]
     },
     "execution_count": 81,
     "metadata": {},
     "output_type": "execute_result"
    }
   ],
   "source": [
    "interneuron_index_list = find_index_interneurons(inter_neurons_RGS14, neuron_name_dict)\n",
    "interneuron_index_list"
   ]
  },
  {
   "cell_type": "code",
   "execution_count": 82,
   "metadata": {},
   "outputs": [],
   "source": [
    "def remove_interneuron(interneuron_index_list, neuron_name_dict, actmat_dict):\n",
    "    load_dict = {}\n",
    "    for key, actmat in actmat_dict.items():\n",
    "        actmat_new = np.delete(actmat, interneuron_index_list, 0)\n",
    "        load_dict[key] = actmat_new\n",
    "    \n",
    "    neuron_name_list = []\n",
    "    for i in range(len(neuron_name_dict)):\n",
    "        if i not in interneuron_index_list:\n",
    "            neuron_name_list.append(neuron_name_dict[i])\n",
    "    neuron_name_new =  dict(enumerate([x for x in neuron_name_list]))\n",
    "#     print(neuron_name_new)\n",
    "    return load_dict, neuron_name_new"
   ]
  },
  {
   "cell_type": "code",
   "execution_count": 83,
   "metadata": {},
   "outputs": [],
   "source": [
    "actmat_dict_new, neuron_name_dict_new = remove_interneuron(interneuron_index_list, neuron_name_dict, actmat_dict)"
   ]
  },
  {
   "cell_type": "code",
   "execution_count": 84,
   "metadata": {},
   "outputs": [
    {
     "data": {
      "text/plain": [
       "{'Post_Trial1': array([[1., 1., 0., ..., 2., 0., 1.],\n",
       "        [0., 0., 0., ..., 0., 0., 0.],\n",
       "        [0., 0., 0., ..., 0., 0., 0.],\n",
       "        ...,\n",
       "        [0., 0., 0., ..., 0., 0., 0.],\n",
       "        [0., 0., 0., ..., 0., 0., 0.],\n",
       "        [0., 0., 0., ..., 0., 0., 0.]]),\n",
       " 'Trial2': array([[1., 2., 3., ..., 3., 1., 3.],\n",
       "        [0., 0., 0., ..., 0., 0., 0.],\n",
       "        [0., 0., 0., ..., 0., 0., 0.],\n",
       "        ...,\n",
       "        [0., 0., 0., ..., 0., 0., 0.],\n",
       "        [0., 0., 0., ..., 0., 0., 0.],\n",
       "        [0., 0., 0., ..., 0., 0., 0.]]),\n",
       " 'Trial1': array([[1., 2., 1., ..., 0., 2., 0.],\n",
       "        [0., 0., 0., ..., 0., 0., 0.],\n",
       "        [0., 0., 0., ..., 0., 0., 0.],\n",
       "        ...,\n",
       "        [0., 0., 0., ..., 0., 0., 0.],\n",
       "        [0., 0., 0., ..., 0., 0., 0.],\n",
       "        [0., 0., 0., ..., 1., 0., 0.]]),\n",
       " 'Trial4': array([[2., 1., 1., ..., 1., 1., 0.],\n",
       "        [0., 0., 0., ..., 0., 0., 0.],\n",
       "        [0., 0., 0., ..., 0., 0., 0.],\n",
       "        ...,\n",
       "        [0., 0., 0., ..., 0., 0., 0.],\n",
       "        [0., 0., 0., ..., 0., 0., 0.],\n",
       "        [0., 0., 0., ..., 1., 0., 0.]]),\n",
       " 'Pre_sleep': array([[1., 0., 1., ..., 1., 0., 0.],\n",
       "        [0., 0., 0., ..., 0., 0., 0.],\n",
       "        [0., 0., 0., ..., 0., 0., 0.],\n",
       "        ...,\n",
       "        [0., 0., 0., ..., 0., 0., 0.],\n",
       "        [0., 0., 0., ..., 0., 1., 0.],\n",
       "        [0., 0., 0., ..., 0., 1., 0.]]),\n",
       " 'Post_Trial5': array([[3., 2., 6., ..., 2., 0., 0.],\n",
       "        [0., 0., 0., ..., 0., 0., 0.],\n",
       "        [0., 0., 0., ..., 0., 0., 0.],\n",
       "        ...,\n",
       "        [0., 0., 0., ..., 0., 0., 0.],\n",
       "        [0., 0., 0., ..., 0., 0., 0.],\n",
       "        [0., 0., 0., ..., 0., 0., 0.]]),\n",
       " 'Trial5': array([[1., 1., 0., ..., 0., 0., 0.],\n",
       "        [0., 0., 0., ..., 0., 0., 0.],\n",
       "        [0., 0., 0., ..., 0., 0., 0.],\n",
       "        ...,\n",
       "        [0., 0., 0., ..., 0., 0., 0.],\n",
       "        [0., 0., 0., ..., 0., 0., 0.],\n",
       "        [0., 0., 0., ..., 0., 0., 0.]]),\n",
       " 'Post_Trial4': array([[2., 0., 0., ..., 0., 0., 0.],\n",
       "        [0., 0., 0., ..., 0., 0., 0.],\n",
       "        [0., 0., 0., ..., 0., 0., 0.],\n",
       "        ...,\n",
       "        [0., 0., 0., ..., 0., 0., 0.],\n",
       "        [0., 0., 0., ..., 0., 0., 0.],\n",
       "        [0., 0., 0., ..., 0., 0., 0.]]),\n",
       " 'Trial3': array([[2., 1., 1., ..., 1., 0., 0.],\n",
       "        [0., 0., 0., ..., 0., 0., 0.],\n",
       "        [0., 0., 0., ..., 0., 0., 0.],\n",
       "        ...,\n",
       "        [1., 0., 0., ..., 0., 0., 0.],\n",
       "        [0., 0., 0., ..., 0., 0., 0.],\n",
       "        [0., 0., 1., ..., 0., 0., 0.]]),\n",
       " 'Post_Trial3': array([[0., 1., 1., ..., 2., 1., 2.],\n",
       "        [0., 0., 0., ..., 0., 0., 0.],\n",
       "        [0., 0., 0., ..., 0., 0., 0.],\n",
       "        ...,\n",
       "        [0., 0., 0., ..., 0., 0., 0.],\n",
       "        [0., 0., 0., ..., 0., 0., 0.],\n",
       "        [0., 0., 0., ..., 0., 0., 0.]]),\n",
       " 'Post_Trial2': array([[1., 0., 3., ..., 1., 0., 1.],\n",
       "        [0., 0., 0., ..., 0., 0., 0.],\n",
       "        [0., 0., 0., ..., 0., 0., 0.],\n",
       "        ...,\n",
       "        [0., 0., 0., ..., 0., 0., 0.],\n",
       "        [0., 0., 0., ..., 0., 0., 0.],\n",
       "        [1., 0., 0., ..., 0., 0., 0.]])}"
      ]
     },
     "execution_count": 84,
     "metadata": {},
     "output_type": "execute_result"
    }
   ],
   "source": [
    "actmat_dict_new"
   ]
  },
  {
   "cell_type": "code",
   "execution_count": 85,
   "metadata": {},
   "outputs": [
    {
     "data": {
      "text/plain": [
       "6.0"
      ]
     },
     "execution_count": 85,
     "metadata": {},
     "output_type": "execute_result"
    }
   ],
   "source": [
    "actmat_dict_new['Post_Trial1'].max()"
   ]
  },
  {
   "cell_type": "code",
   "execution_count": 86,
   "metadata": {},
   "outputs": [
    {
     "data": {
      "text/plain": [
       "{0: 'RGS_PROJECT_RGS14_OD_Rn3_SD1_T6_UID0',\n",
       " 1: 'RGS_PROJECT_RGS14_OD_Rn3_SD1_T8_UID2',\n",
       " 2: 'RGS_PROJECT_RGS14_OD_Rn3_SD1_T8_UID5',\n",
       " 3: 'RGS_PROJECT_RGS14_OD_Rn3_SD1_T9_UID0',\n",
       " 4: 'RGS_PROJECT_RGS14_OD_Rn3_SD1_T9_UID2',\n",
       " 5: 'RGS_PROJECT_RGS14_OD_Rn3_SD1_T9_UID53',\n",
       " 6: 'RGS_PROJECT_RGS14_OD_Rn3_SD1_T9_UID61',\n",
       " 7: 'RGS_PROJECT_RGS14_OD_Rn3_SD1_T9_UID65',\n",
       " 8: 'RGS_PROJECT_RGS14_OD_Rn3_SD1_T10_UID2',\n",
       " 9: 'RGS_PROJECT_RGS14_OD_Rn3_SD1_T10_UID3',\n",
       " 10: 'RGS_PROJECT_RGS14_OD_Rn3_SD1_T10_UID6',\n",
       " 11: 'RGS_PROJECT_RGS14_OD_Rn3_SD1_T10_UID15',\n",
       " 12: 'RGS_PROJECT_RGS14_OD_Rn3_SD1_T10_UID33',\n",
       " 13: 'RGS_PROJECT_RGS14_OD_Rn3_SD1_T10_UID37',\n",
       " 14: 'RGS_PROJECT_RGS14_OD_Rn3_SD1_T12_UID1',\n",
       " 15: 'RGS_PROJECT_RGS14_OD_Rn3_SD1_T12_UID3',\n",
       " 16: 'RGS_PROJECT_RGS14_OD_Rn3_SD1_T12_UID5',\n",
       " 17: 'RGS_PROJECT_RGS14_OD_Rn3_SD1_T12_UID8',\n",
       " 18: 'RGS_PROJECT_RGS14_OD_Rn3_SD1_T12_UID20',\n",
       " 19: 'RGS_PROJECT_RGS14_OD_Rn3_SD1_T12_UID24',\n",
       " 20: 'RGS_PROJECT_RGS14_OD_Rn3_SD1_T13_UID0',\n",
       " 21: 'RGS_PROJECT_RGS14_OD_Rn3_SD1_T13_UID2',\n",
       " 22: 'RGS_PROJECT_RGS14_OD_Rn3_SD1_T13_UID4',\n",
       " 23: 'RGS_PROJECT_RGS14_OD_Rn3_SD1_T15_UID25',\n",
       " 24: 'RGS_PROJECT_RGS14_OD_Rn3_SD1_T15_UID29',\n",
       " 25: 'RGS_PROJECT_RGS14_OD_Rn3_SD1_T15_UID47',\n",
       " 26: 'RGS_PROJECT_RGS14_OD_Rn3_SD1_T15_UID51'}"
      ]
     },
     "execution_count": 86,
     "metadata": {},
     "output_type": "execute_result"
    }
   ],
   "source": [
    "neuron_name_dict_new"
   ]
  },
  {
   "cell_type": "code",
   "execution_count": 87,
   "metadata": {},
   "outputs": [
    {
     "data": {
      "text/plain": [
       "{0: 'RGS_PROJECT_RGS14_OD_Rn3_SD1_T6_UID0',\n",
       " 1: 'RGS_PROJECT_RGS14_OD_Rn3_SD1_T8_UID2',\n",
       " 2: 'RGS_PROJECT_RGS14_OD_Rn3_SD1_T8_UID5',\n",
       " 3: 'RGS_PROJECT_RGS14_OD_Rn3_SD1_T9_UID0',\n",
       " 4: 'RGS_PROJECT_RGS14_OD_Rn3_SD1_T9_UID2',\n",
       " 5: 'RGS_PROJECT_RGS14_OD_Rn3_SD1_T9_UID53',\n",
       " 6: 'RGS_PROJECT_RGS14_OD_Rn3_SD1_T9_UID61',\n",
       " 7: 'RGS_PROJECT_RGS14_OD_Rn3_SD1_T9_UID65',\n",
       " 8: 'RGS_PROJECT_RGS14_OD_Rn3_SD1_T10_UID2',\n",
       " 9: 'RGS_PROJECT_RGS14_OD_Rn3_SD1_T10_UID3',\n",
       " 10: 'RGS_PROJECT_RGS14_OD_Rn3_SD1_T10_UID6',\n",
       " 11: 'RGS_PROJECT_RGS14_OD_Rn3_SD1_T10_UID15',\n",
       " 12: 'RGS_PROJECT_RGS14_OD_Rn3_SD1_T10_UID33',\n",
       " 13: 'RGS_PROJECT_RGS14_OD_Rn3_SD1_T10_UID37',\n",
       " 14: 'RGS_PROJECT_RGS14_OD_Rn3_SD1_T12_UID1',\n",
       " 15: 'RGS_PROJECT_RGS14_OD_Rn3_SD1_T12_UID3',\n",
       " 16: 'RGS_PROJECT_RGS14_OD_Rn3_SD1_T12_UID5',\n",
       " 17: 'RGS_PROJECT_RGS14_OD_Rn3_SD1_T12_UID8',\n",
       " 18: 'RGS_PROJECT_RGS14_OD_Rn3_SD1_T12_UID20',\n",
       " 19: 'RGS_PROJECT_RGS14_OD_Rn3_SD1_T12_UID24',\n",
       " 20: 'RGS_PROJECT_RGS14_OD_Rn3_SD1_T13_UID0',\n",
       " 21: 'RGS_PROJECT_RGS14_OD_Rn3_SD1_T13_UID2',\n",
       " 22: 'RGS_PROJECT_RGS14_OD_Rn3_SD1_T13_UID4',\n",
       " 23: 'RGS_PROJECT_RGS14_OD_Rn3_SD1_T15_UID25',\n",
       " 24: 'RGS_PROJECT_RGS14_OD_Rn3_SD1_T15_UID29',\n",
       " 25: 'RGS_PROJECT_RGS14_OD_Rn3_SD1_T15_UID47',\n",
       " 26: 'RGS_PROJECT_RGS14_OD_Rn3_SD1_T15_UID51'}"
      ]
     },
     "execution_count": 87,
     "metadata": {},
     "output_type": "execute_result"
    }
   ],
   "source": [
    "neuron_name_dict_new"
   ]
  },
  {
   "cell_type": "code",
   "execution_count": 88,
   "metadata": {},
   "outputs": [],
   "source": [
    "'''The file will saved in the path previously defined'''\n",
    "\n",
    "act_mat_file = open(\"actmat_dict.pkl\", \"wb\")\n",
    "pickle.dump(actmat_dict_new, act_mat_file)                     \n",
    "act_mat_file.close()\n",
    "\n",
    "neuron_name_file = open(\"neuron_name_dict.pkl\", \"wb\")\n",
    "pickle.dump(neuron_name_dict_new, neuron_name_file)\n",
    "neuron_name_file.close()\n"
   ]
  },
  {
   "cell_type": "code",
   "execution_count": null,
   "metadata": {},
   "outputs": [],
   "source": []
  },
  {
   "cell_type": "code",
   "execution_count": null,
   "metadata": {},
   "outputs": [],
   "source": []
  },
  {
   "cell_type": "code",
   "execution_count": null,
   "metadata": {},
   "outputs": [],
   "source": []
  }
 ],
 "metadata": {
  "kernelspec": {
   "display_name": "Python 3",
   "language": "python",
   "name": "python3"
  },
  "language_info": {
   "codemirror_mode": {
    "name": "ipython",
    "version": 3
   },
   "file_extension": ".py",
   "mimetype": "text/x-python",
   "name": "python",
   "nbconvert_exporter": "python",
   "pygments_lexer": "ipython3",
   "version": "3.7.6"
  }
 },
 "nbformat": 4,
 "nbformat_minor": 4
}
